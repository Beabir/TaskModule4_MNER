{
 "cells": [
  {
   "cell_type": "code",
   "execution_count": 12,
   "metadata": {
    "colab": {
     "base_uri": "https://localhost:8080/"
    },
    "id": "KPgrn7yKfAEu",
    "outputId": "563d3885-791d-4140-ac99-2771aa9644e7"
   },
   "outputs": [
    {
     "name": "stdout",
     "output_type": "stream",
     "text": [
      "Defaulting to user installation because normal site-packages is not writeable\n",
      "Requirement already satisfied: datasets in ./.local/lib/python3.11/site-packages (3.2.0)\n",
      "Requirement already satisfied: filelock in /software.9/software/Anaconda3/2024.02-1/lib/python3.11/site-packages (from datasets) (3.13.1)\n",
      "Requirement already satisfied: numpy>=1.17 in /software.9/software/Anaconda3/2024.02-1/lib/python3.11/site-packages (from datasets) (1.26.4)\n",
      "Requirement already satisfied: pyarrow>=15.0.0 in ./.local/lib/python3.11/site-packages (from datasets) (18.1.0)\n",
      "Requirement already satisfied: dill<0.3.9,>=0.3.0 in ./.local/lib/python3.11/site-packages (from datasets) (0.3.8)\n",
      "Requirement already satisfied: pandas in /software.9/software/Anaconda3/2024.02-1/lib/python3.11/site-packages (from datasets) (2.1.4)\n",
      "Requirement already satisfied: requests>=2.32.2 in ./.local/lib/python3.11/site-packages (from datasets) (2.32.3)\n",
      "Requirement already satisfied: tqdm>=4.66.3 in ./.local/lib/python3.11/site-packages (from datasets) (4.67.1)\n",
      "Requirement already satisfied: xxhash in ./.local/lib/python3.11/site-packages (from datasets) (3.5.0)\n",
      "Requirement already satisfied: multiprocess<0.70.17 in ./.local/lib/python3.11/site-packages (from datasets) (0.70.16)\n",
      "Requirement already satisfied: fsspec<=2024.9.0,>=2023.1.0 in /software.9/software/Anaconda3/2024.02-1/lib/python3.11/site-packages (from fsspec[http]<=2024.9.0,>=2023.1.0->datasets) (2023.10.0)\n",
      "Requirement already satisfied: aiohttp in /software.9/software/Anaconda3/2024.02-1/lib/python3.11/site-packages (from datasets) (3.9.3)\n",
      "Requirement already satisfied: huggingface-hub>=0.23.0 in ./.local/lib/python3.11/site-packages (from datasets) (0.26.5)\n",
      "Requirement already satisfied: packaging in /software.9/software/Anaconda3/2024.02-1/lib/python3.11/site-packages (from datasets) (23.1)\n",
      "Requirement already satisfied: pyyaml>=5.1 in /software.9/software/Anaconda3/2024.02-1/lib/python3.11/site-packages (from datasets) (6.0.1)\n",
      "Requirement already satisfied: aiosignal>=1.1.2 in /software.9/software/Anaconda3/2024.02-1/lib/python3.11/site-packages (from aiohttp->datasets) (1.2.0)\n",
      "Requirement already satisfied: attrs>=17.3.0 in /software.9/software/Anaconda3/2024.02-1/lib/python3.11/site-packages (from aiohttp->datasets) (23.1.0)\n",
      "Requirement already satisfied: frozenlist>=1.1.1 in /software.9/software/Anaconda3/2024.02-1/lib/python3.11/site-packages (from aiohttp->datasets) (1.4.0)\n",
      "Requirement already satisfied: multidict<7.0,>=4.5 in /software.9/software/Anaconda3/2024.02-1/lib/python3.11/site-packages (from aiohttp->datasets) (6.0.4)\n",
      "Requirement already satisfied: yarl<2.0,>=1.0 in /software.9/software/Anaconda3/2024.02-1/lib/python3.11/site-packages (from aiohttp->datasets) (1.9.3)\n",
      "Requirement already satisfied: typing-extensions>=3.7.4.3 in /software.9/software/Anaconda3/2024.02-1/lib/python3.11/site-packages (from huggingface-hub>=0.23.0->datasets) (4.9.0)\n",
      "Requirement already satisfied: charset-normalizer<4,>=2 in /software.9/software/Anaconda3/2024.02-1/lib/python3.11/site-packages (from requests>=2.32.2->datasets) (2.0.4)\n",
      "Requirement already satisfied: idna<4,>=2.5 in /software.9/software/Anaconda3/2024.02-1/lib/python3.11/site-packages (from requests>=2.32.2->datasets) (3.4)\n",
      "Requirement already satisfied: urllib3<3,>=1.21.1 in /software.9/software/Anaconda3/2024.02-1/lib/python3.11/site-packages (from requests>=2.32.2->datasets) (2.0.7)\n",
      "Requirement already satisfied: certifi>=2017.4.17 in /software.9/software/Anaconda3/2024.02-1/lib/python3.11/site-packages (from requests>=2.32.2->datasets) (2024.2.2)\n",
      "Requirement already satisfied: python-dateutil>=2.8.2 in /software.9/software/Anaconda3/2024.02-1/lib/python3.11/site-packages (from pandas->datasets) (2.8.2)\n",
      "Requirement already satisfied: pytz>=2020.1 in /software.9/software/Anaconda3/2024.02-1/lib/python3.11/site-packages (from pandas->datasets) (2023.3.post1)\n",
      "Requirement already satisfied: tzdata>=2022.1 in /software.9/software/Anaconda3/2024.02-1/lib/python3.11/site-packages (from pandas->datasets) (2023.3)\n",
      "Requirement already satisfied: six>=1.5 in /software.9/software/Anaconda3/2024.02-1/lib/python3.11/site-packages (from python-dateutil>=2.8.2->pandas->datasets) (1.16.0)\n"
     ]
    }
   ],
   "source": [
    "!pip install datasets"
   ]
  },
  {
   "cell_type": "code",
   "execution_count": 2,
   "metadata": {
    "id": "UEQ_d6KEfgM8"
   },
   "outputs": [],
   "source": [
    "from datasets import Dataset\n",
    "import os"
   ]
  },
  {
   "cell_type": "code",
   "execution_count": 3,
   "metadata": {
    "id": "y4yZb2AbfmiI"
   },
   "outputs": [],
   "source": [
    "# load arrow file\n",
    "data = Dataset.from_file(\"data-00000-of-00001.arrow\")\n",
    "\n",
    "# target path for CoNLL files\n",
    "output_dir = \"./data_conll\"\n",
    "os.makedirs(output_dir, exist_ok=True)\n",
    "\n",
    "tag_mapping = {0: \"O\", 1: \"B-PER\", 2: \"I-PER\", 3: \"B-ORG\", 4: \"I-ORG\", 5: \"B-LOC\", 6: \"I-LOC\"}\n",
    "\n",
    "def write_to_conll(data_split, output_file):\n",
    "    with open(output_file, 'w', encoding='utf-8') as f:\n",
    "        for example in data_split:\n",
    "            tokens = example[\"tokens\"]\n",
    "            tags = [tag_mapping[tag] for tag in example[\"ner_tags\"]]  # use mapping\n",
    "            for token, tag in zip(tokens, tags):\n",
    "                f.write(f\"{token} {tag}\\n\")\n",
    "            f.write(\"\\n\")  # sentence separation"
   ]
  },
  {
   "cell_type": "code",
   "execution_count": 4,
   "metadata": {
    "id": "YqSp-B4Vf-aG"
   },
   "outputs": [],
   "source": [
    "# read test file\n",
    "train_data = Dataset.from_file(\"data-00000-of-00001.arrow\")\n",
    "write_to_conll(train_data, \"./data_conll/test.txt\")"
   ]
  },
  {
   "cell_type": "code",
   "execution_count": 5,
   "metadata": {
    "id": "fzndZrQkgF3W"
   },
   "outputs": [],
   "source": [
    "# read train file\n",
    "validation_data = Dataset.from_file(\"data-00000-of-00001.arrow\")\n",
    "write_to_conll(validation_data, \"./data_conll/train.txt\")"
   ]
  },
  {
   "cell_type": "code",
   "execution_count": 6,
   "metadata": {
    "id": "WLkZPWe2gRkH"
   },
   "outputs": [],
   "source": [
    "# read validation file\n",
    "test_data = Dataset.from_file(\"data-00000-of-00001.arrow\")\n",
    "write_to_conll(test_data, \"./data_conll/validation.txt\")"
   ]
  },
  {
   "cell_type": "code",
   "execution_count": 3,
   "metadata": {
    "id": "d18iy85Hge2E"
   },
   "outputs": [
    {
     "name": "stdout",
     "output_type": "stream",
     "text": [
      "Defaulting to user installation because normal site-packages is not writeable\n",
      "Requirement already satisfied: flair in ./.local/lib/python3.11/site-packages (0.15.0)\n",
      "Requirement already satisfied: boto3>=1.20.27 in ./.local/lib/python3.11/site-packages (from flair) (1.36.2)\n",
      "Requirement already satisfied: conllu<5.0.0,>=4.0 in ./.local/lib/python3.11/site-packages (from flair) (4.5.3)\n",
      "Requirement already satisfied: deprecated>=1.2.13 in ./.local/lib/python3.11/site-packages (from flair) (1.2.15)\n",
      "Requirement already satisfied: ftfy>=6.1.0 in ./.local/lib/python3.11/site-packages (from flair) (6.3.1)\n",
      "Requirement already satisfied: gdown>=4.4.0 in ./.local/lib/python3.11/site-packages (from flair) (5.2.0)\n",
      "Requirement already satisfied: huggingface-hub>=0.10.0 in ./.local/lib/python3.11/site-packages (from flair) (0.26.5)\n",
      "Requirement already satisfied: langdetect>=1.0.9 in ./.local/lib/python3.11/site-packages (from flair) (1.0.9)\n",
      "Requirement already satisfied: lxml>=4.8.0 in /software.9/software/Anaconda3/2024.02-1/lib/python3.11/site-packages (from flair) (4.9.3)\n",
      "Requirement already satisfied: matplotlib>=2.2.3 in /software.9/software/Anaconda3/2024.02-1/lib/python3.11/site-packages (from flair) (3.8.0)\n",
      "Requirement already satisfied: more-itertools>=8.13.0 in /software.9/software/Anaconda3/2024.02-1/lib/python3.11/site-packages (from flair) (10.1.0)\n",
      "Requirement already satisfied: mpld3>=0.3 in ./.local/lib/python3.11/site-packages (from flair) (0.5.10)\n",
      "Requirement already satisfied: pptree>=3.1 in ./.local/lib/python3.11/site-packages (from flair) (3.1)\n",
      "Requirement already satisfied: python-dateutil>=2.8.2 in /software.9/software/Anaconda3/2024.02-1/lib/python3.11/site-packages (from flair) (2.8.2)\n",
      "Requirement already satisfied: pytorch-revgrad>=0.2.0 in ./.local/lib/python3.11/site-packages (from flair) (0.2.0)\n",
      "Requirement already satisfied: regex>=2022.1.18 in /software.9/software/Anaconda3/2024.02-1/lib/python3.11/site-packages (from flair) (2023.10.3)\n",
      "Requirement already satisfied: scikit-learn>=1.0.2 in /software.9/software/Anaconda3/2024.02-1/lib/python3.11/site-packages (from flair) (1.2.2)\n",
      "Requirement already satisfied: segtok>=1.5.11 in ./.local/lib/python3.11/site-packages (from flair) (1.5.11)\n",
      "Requirement already satisfied: sqlitedict>=2.0.0 in ./.local/lib/python3.11/site-packages (from flair) (2.1.0)\n",
      "Requirement already satisfied: tabulate>=0.8.10 in /software.9/software/Anaconda3/2024.02-1/lib/python3.11/site-packages (from flair) (0.9.0)\n",
      "Requirement already satisfied: torch!=1.8,>=1.5.0 in ./.local/lib/python3.11/site-packages (from flair) (2.5.1+cpu)\n",
      "Requirement already satisfied: tqdm>=4.63.0 in ./.local/lib/python3.11/site-packages (from flair) (4.67.1)\n",
      "Requirement already satisfied: transformer-smaller-training-vocab>=0.2.3 in ./.local/lib/python3.11/site-packages (from flair) (0.4.0)\n",
      "Requirement already satisfied: transformers<5.0.0,>=4.25.0 in ./.local/lib/python3.11/site-packages (from transformers[sentencepiece]<5.0.0,>=4.25.0->flair) (4.47.1)\n",
      "Requirement already satisfied: wikipedia-api>=0.5.7 in ./.local/lib/python3.11/site-packages (from flair) (0.8.0)\n",
      "Requirement already satisfied: bioc<3.0.0,>=2.0.0 in ./.local/lib/python3.11/site-packages (from flair) (2.1)\n",
      "Requirement already satisfied: jsonlines>=1.2.0 in ./.local/lib/python3.11/site-packages (from bioc<3.0.0,>=2.0.0->flair) (4.0.0)\n",
      "Requirement already satisfied: intervaltree in /software.9/software/Anaconda3/2024.02-1/lib/python3.11/site-packages (from bioc<3.0.0,>=2.0.0->flair) (3.1.0)\n",
      "Requirement already satisfied: docopt in ./.local/lib/python3.11/site-packages (from bioc<3.0.0,>=2.0.0->flair) (0.6.2)\n",
      "Requirement already satisfied: botocore<1.37.0,>=1.36.2 in ./.local/lib/python3.11/site-packages (from boto3>=1.20.27->flair) (1.36.2)\n",
      "Requirement already satisfied: jmespath<2.0.0,>=0.7.1 in /software.9/software/Anaconda3/2024.02-1/lib/python3.11/site-packages (from boto3>=1.20.27->flair) (1.0.1)\n",
      "Requirement already satisfied: s3transfer<0.12.0,>=0.11.0 in ./.local/lib/python3.11/site-packages (from boto3>=1.20.27->flair) (0.11.1)\n",
      "Requirement already satisfied: wrapt<2,>=1.10 in /software.9/software/Anaconda3/2024.02-1/lib/python3.11/site-packages (from deprecated>=1.2.13->flair) (1.14.1)\n",
      "Requirement already satisfied: wcwidth in /software.9/software/Anaconda3/2024.02-1/lib/python3.11/site-packages (from ftfy>=6.1.0->flair) (0.2.5)\n",
      "Requirement already satisfied: beautifulsoup4 in /software.9/software/Anaconda3/2024.02-1/lib/python3.11/site-packages (from gdown>=4.4.0->flair) (4.12.2)\n",
      "Requirement already satisfied: filelock in /software.9/software/Anaconda3/2024.02-1/lib/python3.11/site-packages (from gdown>=4.4.0->flair) (3.13.1)\n",
      "Requirement already satisfied: requests[socks] in ./.local/lib/python3.11/site-packages (from gdown>=4.4.0->flair) (2.32.3)\n",
      "Requirement already satisfied: fsspec>=2023.5.0 in /software.9/software/Anaconda3/2024.02-1/lib/python3.11/site-packages (from huggingface-hub>=0.10.0->flair) (2023.10.0)\n",
      "Requirement already satisfied: packaging>=20.9 in /software.9/software/Anaconda3/2024.02-1/lib/python3.11/site-packages (from huggingface-hub>=0.10.0->flair) (23.1)\n",
      "Requirement already satisfied: pyyaml>=5.1 in /software.9/software/Anaconda3/2024.02-1/lib/python3.11/site-packages (from huggingface-hub>=0.10.0->flair) (6.0.1)\n",
      "Requirement already satisfied: typing-extensions>=3.7.4.3 in /software.9/software/Anaconda3/2024.02-1/lib/python3.11/site-packages (from huggingface-hub>=0.10.0->flair) (4.9.0)\n",
      "Requirement already satisfied: six in /software.9/software/Anaconda3/2024.02-1/lib/python3.11/site-packages (from langdetect>=1.0.9->flair) (1.16.0)\n",
      "Requirement already satisfied: contourpy>=1.0.1 in /software.9/software/Anaconda3/2024.02-1/lib/python3.11/site-packages (from matplotlib>=2.2.3->flair) (1.2.0)\n",
      "Requirement already satisfied: cycler>=0.10 in /software.9/software/Anaconda3/2024.02-1/lib/python3.11/site-packages (from matplotlib>=2.2.3->flair) (0.11.0)\n",
      "Requirement already satisfied: fonttools>=4.22.0 in /software.9/software/Anaconda3/2024.02-1/lib/python3.11/site-packages (from matplotlib>=2.2.3->flair) (4.25.0)\n",
      "Requirement already satisfied: kiwisolver>=1.0.1 in /software.9/software/Anaconda3/2024.02-1/lib/python3.11/site-packages (from matplotlib>=2.2.3->flair) (1.4.4)\n",
      "Requirement already satisfied: numpy<2,>=1.21 in /software.9/software/Anaconda3/2024.02-1/lib/python3.11/site-packages (from matplotlib>=2.2.3->flair) (1.26.4)\n",
      "Requirement already satisfied: pillow>=6.2.0 in /software.9/software/Anaconda3/2024.02-1/lib/python3.11/site-packages (from matplotlib>=2.2.3->flair) (10.2.0)\n",
      "Requirement already satisfied: pyparsing>=2.3.1 in /software.9/software/Anaconda3/2024.02-1/lib/python3.11/site-packages (from matplotlib>=2.2.3->flair) (3.0.9)\n",
      "Requirement already satisfied: jinja2 in /software.9/software/Anaconda3/2024.02-1/lib/python3.11/site-packages (from mpld3>=0.3->flair) (3.1.3)\n",
      "Requirement already satisfied: scipy>=1.3.2 in /software.9/software/Anaconda3/2024.02-1/lib/python3.11/site-packages (from scikit-learn>=1.0.2->flair) (1.11.4)\n",
      "Requirement already satisfied: joblib>=1.1.1 in /software.9/software/Anaconda3/2024.02-1/lib/python3.11/site-packages (from scikit-learn>=1.0.2->flair) (1.2.0)\n",
      "Requirement already satisfied: threadpoolctl>=2.0.0 in /software.9/software/Anaconda3/2024.02-1/lib/python3.11/site-packages (from scikit-learn>=1.0.2->flair) (2.2.0)\n",
      "Requirement already satisfied: networkx in /software.9/software/Anaconda3/2024.02-1/lib/python3.11/site-packages (from torch!=1.8,>=1.5.0->flair) (3.1)\n",
      "Requirement already satisfied: sympy==1.13.1 in ./.local/lib/python3.11/site-packages (from torch!=1.8,>=1.5.0->flair) (1.13.1)\n",
      "Requirement already satisfied: mpmath<1.4,>=1.1.0 in /software.9/software/Anaconda3/2024.02-1/lib/python3.11/site-packages (from sympy==1.13.1->torch!=1.8,>=1.5.0->flair) (1.3.0)\n",
      "Requirement already satisfied: tokenizers<0.22,>=0.21 in ./.local/lib/python3.11/site-packages (from transformers<5.0.0,>=4.25.0->transformers[sentencepiece]<5.0.0,>=4.25.0->flair) (0.21.0)\n",
      "Requirement already satisfied: safetensors>=0.4.1 in ./.local/lib/python3.11/site-packages (from transformers<5.0.0,>=4.25.0->transformers[sentencepiece]<5.0.0,>=4.25.0->flair) (0.4.5)\n",
      "Requirement already satisfied: sentencepiece!=0.1.92,>=0.1.91 in ./.local/lib/python3.11/site-packages (from transformers[sentencepiece]<5.0.0,>=4.25.0->flair) (0.2.0)\n",
      "Requirement already satisfied: protobuf in /software.9/software/Anaconda3/2024.02-1/lib/python3.11/site-packages (from transformers[sentencepiece]<5.0.0,>=4.25.0->flair) (3.20.3)\n",
      "Requirement already satisfied: urllib3!=2.2.0,<3,>=1.25.4 in /software.9/software/Anaconda3/2024.02-1/lib/python3.11/site-packages (from botocore<1.37.0,>=1.36.2->boto3>=1.20.27->flair) (2.0.7)\n",
      "Requirement already satisfied: attrs>=19.2.0 in /software.9/software/Anaconda3/2024.02-1/lib/python3.11/site-packages (from jsonlines>=1.2.0->bioc<3.0.0,>=2.0.0->flair) (23.1.0)\n",
      "Requirement already satisfied: accelerate>=0.26.0 in ./.local/lib/python3.11/site-packages (from transformers[sentencepiece,torch]<5.0,>=4.1->transformer-smaller-training-vocab>=0.2.3->flair) (1.2.1)\n",
      "Requirement already satisfied: soupsieve>1.2 in /software.9/software/Anaconda3/2024.02-1/lib/python3.11/site-packages (from beautifulsoup4->gdown>=4.4.0->flair) (2.5)\n",
      "Requirement already satisfied: sortedcontainers<3.0,>=2.0 in /software.9/software/Anaconda3/2024.02-1/lib/python3.11/site-packages (from intervaltree->bioc<3.0.0,>=2.0.0->flair) (2.4.0)\n",
      "Requirement already satisfied: MarkupSafe>=2.0 in /software.9/software/Anaconda3/2024.02-1/lib/python3.11/site-packages (from jinja2->mpld3>=0.3->flair) (2.1.3)\n",
      "Requirement already satisfied: charset-normalizer<4,>=2 in /software.9/software/Anaconda3/2024.02-1/lib/python3.11/site-packages (from requests[socks]->gdown>=4.4.0->flair) (2.0.4)\n",
      "Requirement already satisfied: idna<4,>=2.5 in /software.9/software/Anaconda3/2024.02-1/lib/python3.11/site-packages (from requests[socks]->gdown>=4.4.0->flair) (3.4)\n",
      "Requirement already satisfied: certifi>=2017.4.17 in /software.9/software/Anaconda3/2024.02-1/lib/python3.11/site-packages (from requests[socks]->gdown>=4.4.0->flair) (2024.2.2)\n",
      "Requirement already satisfied: PySocks!=1.5.7,>=1.5.6 in /software.9/software/Anaconda3/2024.02-1/lib/python3.11/site-packages (from requests[socks]->gdown>=4.4.0->flair) (1.7.1)\n",
      "Requirement already satisfied: psutil in /software.9/software/Anaconda3/2024.02-1/lib/python3.11/site-packages (from accelerate>=0.26.0->transformers[sentencepiece,torch]<5.0,>=4.1->transformer-smaller-training-vocab>=0.2.3->flair) (5.9.0)\n"
     ]
    }
   ],
   "source": [
    "!pip install flair"
   ]
  },
  {
   "cell_type": "code",
   "execution_count": 4,
   "metadata": {},
   "outputs": [
    {
     "name": "stdout",
     "output_type": "stream",
     "text": [
      "2025-01-19 12:22:21,262 SequenceTagger predicts: Dictionary with 15 tags: O, S-ORG, B-ORG, E-ORG, I-ORG, S-PER, B-PER, E-PER, I-PER, S-LOC, B-LOC, E-LOC, I-LOC, <START>, <STOP>\n"
     ]
    }
   ],
   "source": [
    "from flair.models import SequenceTagger\n",
    "\n",
    "# Pfad zum gespeicherten Modell\n",
    "model_path = \"best-model.pt\"\n",
    "\n",
    "# Modell laden\n",
    "tagger = SequenceTagger.load(model_path)"
   ]
  },
  {
   "cell_type": "code",
   "execution_count": 9,
   "metadata": {},
   "outputs": [
    {
     "name": "stdout",
     "output_type": "stream",
     "text": [
      "2025-01-19 12:25:21,893 Reading data from Data_fr/test_fr\n",
      "2025-01-19 12:25:21,893 Train: None\n",
      "2025-01-19 12:25:21,893 Dev: None\n",
      "2025-01-19 12:25:21,893 Test: Data_fr/test_fr/test_fr.txt\n",
      "Sentence[3]: \"Upton Park exempt\" → [\"Upton Park exempt\"/ORG]\n",
      "Entity: Upton Park exempt, Type: ORG, Confidence: 0.4499\n",
      "Sentence[4]: \"LL Cool J feat\" → [\"LL Cool J feat\"/ORG]\n",
      "Entity: LL Cool J feat, Type: ORG, Confidence: 0.3830\n",
      "Sentence[2]: \"Clay Regazzoni\" → [\"Clay Regazzoni\"/PER]\n",
      "Entity: Clay Regazzoni, Type: PER, Confidence: 0.6210\n",
      "Sentence[6]: \"Liste des communes de la HauteSaône\" → [\"Liste des communes de la HauteSaône\"/LOC]\n",
      "Entity: Liste des communes de la HauteSaône, Type: LOC, Confidence: 0.7816\n",
      "Sentence[7]: \"Il y rencontre le président Bachar elAssad\" → [\"Il y rencontre le président Bachar elAssad\"/ORG]\n",
      "Entity: Il y rencontre le président Bachar elAssad, Type: ORG, Confidence: 0.4018\n",
      "Sentence[3]: \"Per Johan Axelsson\" → [\"Axelsson\"/PER]\n",
      "Entity: Axelsson, Type: PER, Confidence: 0.6319\n",
      "Sentence[5]: \"align left Royals de Cornwall\" → [\"align left Royals de Cornwall\"/ORG]\n",
      "Entity: align left Royals de Cornwall, Type: ORG, Confidence: 0.6517\n",
      "Sentence[5]: \"Igor González de Galdeano ESP\" → [\"Igor González de Galdeano\"/PER]\n",
      "Entity: Igor González de Galdeano, Type: PER, Confidence: 0.6109\n",
      "Sentence[6]: \"Zhejiang Wenzhou Ningbo Hangzhou Shaoxing Jiaxing\" → [\"Zhejiang Wenzhou\"/ORG, \"Hangzhou\"/LOC, \"Jiaxing\"/LOC]\n",
      "Entity: Zhejiang Wenzhou, Type: ORG, Confidence: 0.4293\n",
      "Entity: Hangzhou, Type: LOC, Confidence: 0.3470\n",
      "Entity: Jiaxing, Type: LOC, Confidence: 0.4259\n",
      "Sentence[5]: \"la harpe géorgienne ou changi\" → [\"la harpe géorgienne ou changi\"/ORG]\n",
      "Entity: la harpe géorgienne ou changi, Type: ORG, Confidence: 0.3597\n"
     ]
    }
   ],
   "source": [
    "from flair.datasets import ColumnCorpus\n",
    "\n",
    "# Gib den Pfad zum Verzeichnis mit deinen CoNLL-Dateien an\n",
    "data_folder = \"Data_fr/test_fr\"  # Das Verzeichnis, das die 'test_de.txt' enthält\n",
    "\n",
    "# Erstelle den ColumnCorpus, indem du die Testdatei angibst\n",
    "corpus = ColumnCorpus(data_folder, \n",
    "                      column_format={0: 'text', 1: 'ner'},\n",
    "                      test_file=\"test_fr.txt\")\n",
    "\n",
    "# Nur die ersten 10 Sätze durchlaufen\n",
    "max_sentences = 10\n",
    "for i, sentence in enumerate(corpus.test):\n",
    "    if i >= max_sentences:\n",
    "        break\n",
    "    \n",
    "    # Vorhersagen durchführen\n",
    "    tagger.predict(sentence)\n",
    "    \n",
    "    # Ausgabe des Satzes\n",
    "    print(sentence)\n",
    "    \n",
    "    # Ausgabe der erkannten Entitäten\n",
    "    for entity in sentence.get_spans('ner'):\n",
    "        print(f\"Entity: {entity.text}, Type: {entity.get_label('ner').value}, Confidence: {entity.score:.4f}\")"
   ]
  },
  {
   "cell_type": "code",
   "execution_count": 14,
   "metadata": {},
   "outputs": [
    {
     "data": {
      "text/html": [
       "<span class=\"tex2jax_ignore\"><!DOCTYPE html>\n",
       "<html lang=\"fr\">\n",
       "    <head>\n",
       "        <title>displaCy</title>\n",
       "    </head>\n",
       "\n",
       "    <body style=\"font-size: 16px; font-family: -apple-system, BlinkMacSystemFont, 'Segoe UI', Helvetica, Arial, sans-serif, 'Apple Color Emoji', 'Segoe UI Emoji', 'Segoe UI Symbol'; padding: 4rem 2rem; direction: ltr\">\n",
       "<figure style=\"margin-bottom: 6rem\">\n",
       "<div class=\"entities\" style=\"line-height: 2.5; direction: ltr\">Liste des communes de la \n",
       "<mark class=\"entity\" style=\"background: #ff9561; padding: 0.45em 0.6em; margin: 0 0.25em; line-height: 1; border-radius: 0.35em;\">\n",
       "    HauteSaône\n",
       "    <span style=\"font-size: 0.8em; font-weight: bold; line-height: 1; border-radius: 0.35em; vertical-align: middle; margin-left: 0.5rem\">LOC</span>\n",
       "</mark>\n",
       "</div>\n",
       "</figure>\n",
       "</body>\n",
       "</html></span>"
      ],
      "text/plain": [
       "<IPython.core.display.HTML object>"
      ]
     },
     "metadata": {},
     "output_type": "display_data"
    }
   ],
   "source": [
    "import spacy\n",
    "from spacy import displacy\n",
    "\n",
    "# Lade das spaCy Modell\n",
    "nlp = spacy.load(\"fr_core_news_sm\")  # Für deutsche Sprache\n",
    "\n",
    "# Beispieltext\n",
    "text = \"Liste des communes de la HauteSaône\"\n",
    "\n",
    "# Text verarbeiten\n",
    "doc = nlp(text)\n",
    "\n",
    "# Visualisierung der Entitäten\n",
    "displacy.render(doc, style=\"ent\", page=True)"
   ]
  },
  {
   "cell_type": "code",
   "execution_count": null,
   "metadata": {},
   "outputs": [],
   "source": []
  }
 ],
 "metadata": {
  "accelerator": "GPU",
  "colab": {
   "gpuType": "T4",
   "provenance": []
  },
  "kernelspec": {
   "display_name": "Python 3 (ipykernel)",
   "language": "python",
   "name": "python3"
  },
  "language_info": {
   "codemirror_mode": {
    "name": "ipython",
    "version": 3
   },
   "file_extension": ".py",
   "mimetype": "text/x-python",
   "name": "python",
   "nbconvert_exporter": "python",
   "pygments_lexer": "ipython3",
   "version": "3.11.7"
  }
 },
 "nbformat": 4,
 "nbformat_minor": 4
}
