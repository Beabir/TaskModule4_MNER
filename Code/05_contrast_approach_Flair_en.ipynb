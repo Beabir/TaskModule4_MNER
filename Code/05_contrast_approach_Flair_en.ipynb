{
 "cells": [
  {
   "cell_type": "code",
   "execution_count": 6,
   "metadata": {
    "colab": {
     "base_uri": "https://localhost:8080/"
    },
    "id": "H9xyp6oAgQCY",
    "outputId": "4c05d82d-a9b4-4ed5-a29d-e1baa5354efe"
   },
   "outputs": [
    {
     "name": "stdout",
     "output_type": "stream",
     "text": [
      "Collecting datasets\n",
      "  Downloading datasets-3.2.0-py3-none-any.whl.metadata (20 kB)\n",
      "Requirement already satisfied: filelock in /usr/local/lib/python3.10/dist-packages (from datasets) (3.16.1)\n",
      "Requirement already satisfied: numpy>=1.17 in /usr/local/lib/python3.10/dist-packages (from datasets) (1.26.4)\n",
      "Requirement already satisfied: pyarrow>=15.0.0 in /usr/local/lib/python3.10/dist-packages (from datasets) (17.0.0)\n",
      "Collecting dill<0.3.9,>=0.3.0 (from datasets)\n",
      "  Downloading dill-0.3.8-py3-none-any.whl.metadata (10 kB)\n",
      "Requirement already satisfied: pandas in /usr/local/lib/python3.10/dist-packages (from datasets) (2.2.2)\n",
      "Requirement already satisfied: requests>=2.32.2 in /usr/local/lib/python3.10/dist-packages (from datasets) (2.32.3)\n",
      "Requirement already satisfied: tqdm>=4.66.3 in /usr/local/lib/python3.10/dist-packages (from datasets) (4.67.1)\n",
      "Collecting xxhash (from datasets)\n",
      "  Downloading xxhash-3.5.0-cp310-cp310-manylinux_2_17_x86_64.manylinux2014_x86_64.whl.metadata (12 kB)\n",
      "Collecting multiprocess<0.70.17 (from datasets)\n",
      "  Downloading multiprocess-0.70.16-py310-none-any.whl.metadata (7.2 kB)\n",
      "Collecting fsspec<=2024.9.0,>=2023.1.0 (from fsspec[http]<=2024.9.0,>=2023.1.0->datasets)\n",
      "  Downloading fsspec-2024.9.0-py3-none-any.whl.metadata (11 kB)\n",
      "Requirement already satisfied: aiohttp in /usr/local/lib/python3.10/dist-packages (from datasets) (3.11.10)\n",
      "Requirement already satisfied: huggingface-hub>=0.23.0 in /usr/local/lib/python3.10/dist-packages (from datasets) (0.27.0)\n",
      "Requirement already satisfied: packaging in /usr/local/lib/python3.10/dist-packages (from datasets) (24.2)\n",
      "Requirement already satisfied: pyyaml>=5.1 in /usr/local/lib/python3.10/dist-packages (from datasets) (6.0.2)\n",
      "Requirement already satisfied: aiohappyeyeballs>=2.3.0 in /usr/local/lib/python3.10/dist-packages (from aiohttp->datasets) (2.4.4)\n",
      "Requirement already satisfied: aiosignal>=1.1.2 in /usr/local/lib/python3.10/dist-packages (from aiohttp->datasets) (1.3.2)\n",
      "Requirement already satisfied: async-timeout<6.0,>=4.0 in /usr/local/lib/python3.10/dist-packages (from aiohttp->datasets) (4.0.3)\n",
      "Requirement already satisfied: attrs>=17.3.0 in /usr/local/lib/python3.10/dist-packages (from aiohttp->datasets) (24.3.0)\n",
      "Requirement already satisfied: frozenlist>=1.1.1 in /usr/local/lib/python3.10/dist-packages (from aiohttp->datasets) (1.5.0)\n",
      "Requirement already satisfied: multidict<7.0,>=4.5 in /usr/local/lib/python3.10/dist-packages (from aiohttp->datasets) (6.1.0)\n",
      "Requirement already satisfied: propcache>=0.2.0 in /usr/local/lib/python3.10/dist-packages (from aiohttp->datasets) (0.2.1)\n",
      "Requirement already satisfied: yarl<2.0,>=1.17.0 in /usr/local/lib/python3.10/dist-packages (from aiohttp->datasets) (1.18.3)\n",
      "Requirement already satisfied: typing-extensions>=3.7.4.3 in /usr/local/lib/python3.10/dist-packages (from huggingface-hub>=0.23.0->datasets) (4.12.2)\n",
      "Requirement already satisfied: charset-normalizer<4,>=2 in /usr/local/lib/python3.10/dist-packages (from requests>=2.32.2->datasets) (3.4.0)\n",
      "Requirement already satisfied: idna<4,>=2.5 in /usr/local/lib/python3.10/dist-packages (from requests>=2.32.2->datasets) (3.10)\n",
      "Requirement already satisfied: urllib3<3,>=1.21.1 in /usr/local/lib/python3.10/dist-packages (from requests>=2.32.2->datasets) (2.2.3)\n",
      "Requirement already satisfied: certifi>=2017.4.17 in /usr/local/lib/python3.10/dist-packages (from requests>=2.32.2->datasets) (2024.12.14)\n",
      "Requirement already satisfied: python-dateutil>=2.8.2 in /usr/local/lib/python3.10/dist-packages (from pandas->datasets) (2.8.2)\n",
      "Requirement already satisfied: pytz>=2020.1 in /usr/local/lib/python3.10/dist-packages (from pandas->datasets) (2024.2)\n",
      "Requirement already satisfied: tzdata>=2022.7 in /usr/local/lib/python3.10/dist-packages (from pandas->datasets) (2024.2)\n",
      "Requirement already satisfied: six>=1.5 in /usr/local/lib/python3.10/dist-packages (from python-dateutil>=2.8.2->pandas->datasets) (1.17.0)\n",
      "Downloading datasets-3.2.0-py3-none-any.whl (480 kB)\n",
      "\u001b[2K   \u001b[90m━━━━━━━━━━━━━━━━━━━━━━━━━━━━━━━━━━━━━━━━\u001b[0m \u001b[32m480.6/480.6 kB\u001b[0m \u001b[31m14.4 MB/s\u001b[0m eta \u001b[36m0:00:00\u001b[0m\n",
      "\u001b[?25hDownloading dill-0.3.8-py3-none-any.whl (116 kB)\n",
      "\u001b[2K   \u001b[90m━━━━━━━━━━━━━━━━━━━━━━━━━━━━━━━━━━━━━━━━\u001b[0m \u001b[32m116.3/116.3 kB\u001b[0m \u001b[31m11.1 MB/s\u001b[0m eta \u001b[36m0:00:00\u001b[0m\n",
      "\u001b[?25hDownloading fsspec-2024.9.0-py3-none-any.whl (179 kB)\n",
      "\u001b[2K   \u001b[90m━━━━━━━━━━━━━━━━━━━━━━━━━━━━━━━━━━━━━━━━\u001b[0m \u001b[32m179.3/179.3 kB\u001b[0m \u001b[31m18.2 MB/s\u001b[0m eta \u001b[36m0:00:00\u001b[0m\n",
      "\u001b[?25hDownloading multiprocess-0.70.16-py310-none-any.whl (134 kB)\n",
      "\u001b[2K   \u001b[90m━━━━━━━━━━━━━━━━━━━━━━━━━━━━━━━━━━━━━━━━\u001b[0m \u001b[32m134.8/134.8 kB\u001b[0m \u001b[31m14.0 MB/s\u001b[0m eta \u001b[36m0:00:00\u001b[0m\n",
      "\u001b[?25hDownloading xxhash-3.5.0-cp310-cp310-manylinux_2_17_x86_64.manylinux2014_x86_64.whl (194 kB)\n",
      "\u001b[2K   \u001b[90m━━━━━━━━━━━━━━━━━━━━━━━━━━━━━━━━━━━━━━━━\u001b[0m \u001b[32m194.1/194.1 kB\u001b[0m \u001b[31m16.5 MB/s\u001b[0m eta \u001b[36m0:00:00\u001b[0m\n",
      "\u001b[?25hInstalling collected packages: xxhash, fsspec, dill, multiprocess, datasets\n",
      "  Attempting uninstall: fsspec\n",
      "    Found existing installation: fsspec 2024.10.0\n",
      "    Uninstalling fsspec-2024.10.0:\n",
      "      Successfully uninstalled fsspec-2024.10.0\n",
      "\u001b[31mERROR: pip's dependency resolver does not currently take into account all the packages that are installed. This behaviour is the source of the following dependency conflicts.\n",
      "gcsfs 2024.10.0 requires fsspec==2024.10.0, but you have fsspec 2024.9.0 which is incompatible.\u001b[0m\u001b[31m\n",
      "\u001b[0mSuccessfully installed datasets-3.2.0 dill-0.3.8 fsspec-2024.9.0 multiprocess-0.70.16 xxhash-3.5.0\n"
     ]
    }
   ],
   "source": [
    "!pip install datasets"
   ]
  },
  {
   "cell_type": "code",
   "execution_count": 7,
   "metadata": {
    "id": "rDFNIugogA_C"
   },
   "outputs": [],
   "source": [
    "from datasets import Dataset\n",
    "import os\n",
    "\n"
   ]
  },
  {
   "cell_type": "code",
   "execution_count": 15,
   "metadata": {
    "id": "yop4yYldgU6v"
   },
   "outputs": [],
   "source": [
    "# Lade die Arrow-Datei\n",
    "data = Dataset.from_file(\"data-00000-of-00001.arrow\")\n",
    "\n",
    "# Zielverzeichnis für CoNLL-Dateien\n",
    "output_dir = \"./data_conll\"\n",
    "os.makedirs(output_dir, exist_ok=True)\n",
    "\n",
    "tag_mapping = {0: \"O\", 1: \"B-PER\", 2: \"I-PER\", 3: \"B-ORG\", 4: \"I-ORG\", 5: \"B-LOC\", 6: \"I-LOC\"}\n",
    "\n",
    "def write_to_conll(data_split, output_file):\n",
    "    with open(output_file, 'w', encoding='utf-8') as f:\n",
    "        for example in data_split:\n",
    "            tokens = example[\"tokens\"]\n",
    "            tags = [tag_mapping[tag] for tag in example[\"ner_tags\"]]  # Mapping anwenden\n",
    "            for token, tag in zip(tokens, tags):\n",
    "                f.write(f\"{token} {tag}\\n\")\n",
    "            f.write(\"\\n\")  # Satztrennung\n"
   ]
  },
  {
   "cell_type": "code",
   "execution_count": 16,
   "metadata": {
    "id": "-xsfuYAJiAt4"
   },
   "outputs": [],
   "source": [
    "\n",
    "# Beispiel: Test-Datei einlesen\n",
    "train_data = Dataset.from_file(\"data-00000-of-00001.arrow\")\n",
    "write_to_conll(train_data, \"./data_conll/test.txt\")\n"
   ]
  },
  {
   "cell_type": "code",
   "execution_count": 17,
   "metadata": {
    "id": "HlpR0yaiiEFa"
   },
   "outputs": [],
   "source": [
    "# Beispiel: Train-Datei einlesen\n",
    "validation_data = Dataset.from_file(\"data-00000-of-00001.arrow\")\n",
    "write_to_conll(validation_data, \"./data_conll/train.txt\")\n"
   ]
  },
  {
   "cell_type": "code",
   "execution_count": 18,
   "metadata": {
    "id": "laygREzFiGZT"
   },
   "outputs": [],
   "source": [
    "# Beispiel: Validation-Datei einlesen\n",
    "test_data = Dataset.from_file(\"data-00000-of-00001.arrow\")\n",
    "write_to_conll(test_data, \"./data_conll/validation.txt\")"
   ]
  },
  {
   "cell_type": "code",
   "execution_count": 2,
   "metadata": {
    "colab": {
     "base_uri": "https://localhost:8080/"
    },
    "id": "gLKKuSEZfJlt",
    "outputId": "d3590902-533c-4010-ba45-d456e5bd3a46"
   },
   "outputs": [
    {
     "name": "stdout",
     "output_type": "stream",
     "text": [
      "Collecting flair\n",
      "  Downloading flair-0.15.0-py3-none-any.whl.metadata (12 kB)\n",
      "Collecting boto3>=1.20.27 (from flair)\n",
      "  Downloading boto3-1.35.99-py3-none-any.whl.metadata (6.7 kB)\n",
      "Collecting conllu<5.0.0,>=4.0 (from flair)\n",
      "  Downloading conllu-4.5.3-py2.py3-none-any.whl.metadata (19 kB)\n",
      "Requirement already satisfied: deprecated>=1.2.13 in /usr/local/lib/python3.10/dist-packages (from flair) (1.2.15)\n",
      "Collecting ftfy>=6.1.0 (from flair)\n",
      "  Downloading ftfy-6.3.1-py3-none-any.whl.metadata (7.3 kB)\n",
      "Requirement already satisfied: gdown>=4.4.0 in /usr/local/lib/python3.10/dist-packages (from flair) (5.2.0)\n",
      "Requirement already satisfied: huggingface-hub>=0.10.0 in /usr/local/lib/python3.10/dist-packages (from flair) (0.27.0)\n",
      "Collecting langdetect>=1.0.9 (from flair)\n",
      "  Downloading langdetect-1.0.9.tar.gz (981 kB)\n",
      "\u001b[2K     \u001b[90m━━━━━━━━━━━━━━━━━━━━━━━━━━━━━━━━━━━━━━━━\u001b[0m \u001b[32m981.5/981.5 kB\u001b[0m \u001b[31m13.0 MB/s\u001b[0m eta \u001b[36m0:00:00\u001b[0m\n",
      "\u001b[?25h  Preparing metadata (setup.py) ... \u001b[?25l\u001b[?25hdone\n",
      "Requirement already satisfied: lxml>=4.8.0 in /usr/local/lib/python3.10/dist-packages (from flair) (5.3.0)\n",
      "Requirement already satisfied: matplotlib>=2.2.3 in /usr/local/lib/python3.10/dist-packages (from flair) (3.8.0)\n",
      "Requirement already satisfied: more-itertools>=8.13.0 in /usr/local/lib/python3.10/dist-packages (from flair) (10.5.0)\n",
      "Collecting mpld3>=0.3 (from flair)\n",
      "  Downloading mpld3-0.5.10-py3-none-any.whl.metadata (5.1 kB)\n",
      "Collecting pptree>=3.1 (from flair)\n",
      "  Downloading pptree-3.1.tar.gz (3.0 kB)\n",
      "  Preparing metadata (setup.py) ... \u001b[?25l\u001b[?25hdone\n",
      "Requirement already satisfied: python-dateutil>=2.8.2 in /usr/local/lib/python3.10/dist-packages (from flair) (2.8.2)\n",
      "Collecting pytorch-revgrad>=0.2.0 (from flair)\n",
      "  Downloading pytorch_revgrad-0.2.0-py3-none-any.whl.metadata (1.7 kB)\n",
      "Requirement already satisfied: regex>=2022.1.18 in /usr/local/lib/python3.10/dist-packages (from flair) (2024.11.6)\n",
      "Requirement already satisfied: scikit-learn>=1.0.2 in /usr/local/lib/python3.10/dist-packages (from flair) (1.6.0)\n",
      "Collecting segtok>=1.5.11 (from flair)\n",
      "  Downloading segtok-1.5.11-py3-none-any.whl.metadata (9.0 kB)\n",
      "Collecting sqlitedict>=2.0.0 (from flair)\n",
      "  Downloading sqlitedict-2.1.0.tar.gz (21 kB)\n",
      "  Preparing metadata (setup.py) ... \u001b[?25l\u001b[?25hdone\n",
      "Requirement already satisfied: tabulate>=0.8.10 in /usr/local/lib/python3.10/dist-packages (from flair) (0.9.0)\n",
      "Requirement already satisfied: torch!=1.8,>=1.5.0 in /usr/local/lib/python3.10/dist-packages (from flair) (2.5.1+cu121)\n",
      "Requirement already satisfied: tqdm>=4.63.0 in /usr/local/lib/python3.10/dist-packages (from flair) (4.67.1)\n",
      "Collecting transformer-smaller-training-vocab>=0.2.3 (from flair)\n",
      "  Downloading transformer_smaller_training_vocab-0.4.0-py3-none-any.whl.metadata (8.1 kB)\n",
      "Requirement already satisfied: transformers<5.0.0,>=4.25.0 in /usr/local/lib/python3.10/dist-packages (from transformers[sentencepiece]<5.0.0,>=4.25.0->flair) (4.47.1)\n",
      "Collecting wikipedia-api>=0.5.7 (from flair)\n",
      "  Downloading wikipedia_api-0.7.3.tar.gz (17 kB)\n",
      "  Preparing metadata (setup.py) ... \u001b[?25l\u001b[?25hdone\n",
      "Collecting bioc<3.0.0,>=2.0.0 (from flair)\n",
      "  Downloading bioc-2.1-py3-none-any.whl.metadata (4.6 kB)\n",
      "Collecting jsonlines>=1.2.0 (from bioc<3.0.0,>=2.0.0->flair)\n",
      "  Downloading jsonlines-4.0.0-py3-none-any.whl.metadata (1.6 kB)\n",
      "Collecting intervaltree (from bioc<3.0.0,>=2.0.0->flair)\n",
      "  Downloading intervaltree-3.1.0.tar.gz (32 kB)\n",
      "  Preparing metadata (setup.py) ... \u001b[?25l\u001b[?25hdone\n",
      "Collecting docopt (from bioc<3.0.0,>=2.0.0->flair)\n",
      "  Downloading docopt-0.6.2.tar.gz (25 kB)\n",
      "  Preparing metadata (setup.py) ... \u001b[?25l\u001b[?25hdone\n",
      "Collecting botocore<1.36.0,>=1.35.99 (from boto3>=1.20.27->flair)\n",
      "  Downloading botocore-1.35.99-py3-none-any.whl.metadata (5.7 kB)\n",
      "Collecting jmespath<2.0.0,>=0.7.1 (from boto3>=1.20.27->flair)\n",
      "  Downloading jmespath-1.0.1-py3-none-any.whl.metadata (7.6 kB)\n",
      "Collecting s3transfer<0.11.0,>=0.10.0 (from boto3>=1.20.27->flair)\n",
      "  Downloading s3transfer-0.10.4-py3-none-any.whl.metadata (1.7 kB)\n",
      "Requirement already satisfied: wrapt<2,>=1.10 in /usr/local/lib/python3.10/dist-packages (from deprecated>=1.2.13->flair) (1.17.0)\n",
      "Requirement already satisfied: wcwidth in /usr/local/lib/python3.10/dist-packages (from ftfy>=6.1.0->flair) (0.2.13)\n",
      "Requirement already satisfied: beautifulsoup4 in /usr/local/lib/python3.10/dist-packages (from gdown>=4.4.0->flair) (4.12.3)\n",
      "Requirement already satisfied: filelock in /usr/local/lib/python3.10/dist-packages (from gdown>=4.4.0->flair) (3.16.1)\n",
      "Requirement already satisfied: requests[socks] in /usr/local/lib/python3.10/dist-packages (from gdown>=4.4.0->flair) (2.32.3)\n",
      "Requirement already satisfied: fsspec>=2023.5.0 in /usr/local/lib/python3.10/dist-packages (from huggingface-hub>=0.10.0->flair) (2024.10.0)\n",
      "Requirement already satisfied: packaging>=20.9 in /usr/local/lib/python3.10/dist-packages (from huggingface-hub>=0.10.0->flair) (24.2)\n",
      "Requirement already satisfied: pyyaml>=5.1 in /usr/local/lib/python3.10/dist-packages (from huggingface-hub>=0.10.0->flair) (6.0.2)\n",
      "Requirement already satisfied: typing-extensions>=3.7.4.3 in /usr/local/lib/python3.10/dist-packages (from huggingface-hub>=0.10.0->flair) (4.12.2)\n",
      "Requirement already satisfied: six in /usr/local/lib/python3.10/dist-packages (from langdetect>=1.0.9->flair) (1.17.0)\n",
      "Requirement already satisfied: contourpy>=1.0.1 in /usr/local/lib/python3.10/dist-packages (from matplotlib>=2.2.3->flair) (1.3.1)\n",
      "Requirement already satisfied: cycler>=0.10 in /usr/local/lib/python3.10/dist-packages (from matplotlib>=2.2.3->flair) (0.12.1)\n",
      "Requirement already satisfied: fonttools>=4.22.0 in /usr/local/lib/python3.10/dist-packages (from matplotlib>=2.2.3->flair) (4.55.3)\n",
      "Requirement already satisfied: kiwisolver>=1.0.1 in /usr/local/lib/python3.10/dist-packages (from matplotlib>=2.2.3->flair) (1.4.7)\n",
      "Requirement already satisfied: numpy<2,>=1.21 in /usr/local/lib/python3.10/dist-packages (from matplotlib>=2.2.3->flair) (1.26.4)\n",
      "Requirement already satisfied: pillow>=6.2.0 in /usr/local/lib/python3.10/dist-packages (from matplotlib>=2.2.3->flair) (11.0.0)\n",
      "Requirement already satisfied: pyparsing>=2.3.1 in /usr/local/lib/python3.10/dist-packages (from matplotlib>=2.2.3->flair) (3.2.0)\n",
      "Requirement already satisfied: jinja2 in /usr/local/lib/python3.10/dist-packages (from mpld3>=0.3->flair) (3.1.4)\n",
      "Requirement already satisfied: scipy>=1.6.0 in /usr/local/lib/python3.10/dist-packages (from scikit-learn>=1.0.2->flair) (1.13.1)\n",
      "Requirement already satisfied: joblib>=1.2.0 in /usr/local/lib/python3.10/dist-packages (from scikit-learn>=1.0.2->flair) (1.4.2)\n",
      "Requirement already satisfied: threadpoolctl>=3.1.0 in /usr/local/lib/python3.10/dist-packages (from scikit-learn>=1.0.2->flair) (3.5.0)\n",
      "Requirement already satisfied: networkx in /usr/local/lib/python3.10/dist-packages (from torch!=1.8,>=1.5.0->flair) (3.4.2)\n",
      "Requirement already satisfied: sympy==1.13.1 in /usr/local/lib/python3.10/dist-packages (from torch!=1.8,>=1.5.0->flair) (1.13.1)\n",
      "Requirement already satisfied: mpmath<1.4,>=1.1.0 in /usr/local/lib/python3.10/dist-packages (from sympy==1.13.1->torch!=1.8,>=1.5.0->flair) (1.3.0)\n",
      "Requirement already satisfied: tokenizers<0.22,>=0.21 in /usr/local/lib/python3.10/dist-packages (from transformers<5.0.0,>=4.25.0->transformers[sentencepiece]<5.0.0,>=4.25.0->flair) (0.21.0)\n",
      "Requirement already satisfied: safetensors>=0.4.1 in /usr/local/lib/python3.10/dist-packages (from transformers<5.0.0,>=4.25.0->transformers[sentencepiece]<5.0.0,>=4.25.0->flair) (0.4.5)\n",
      "Requirement already satisfied: sentencepiece!=0.1.92,>=0.1.91 in /usr/local/lib/python3.10/dist-packages (from transformers[sentencepiece]<5.0.0,>=4.25.0->flair) (0.2.0)\n",
      "Requirement already satisfied: protobuf in /usr/local/lib/python3.10/dist-packages (from transformers[sentencepiece]<5.0.0,>=4.25.0->flair) (4.25.5)\n",
      "Requirement already satisfied: urllib3!=2.2.0,<3,>=1.25.4 in /usr/local/lib/python3.10/dist-packages (from botocore<1.36.0,>=1.35.99->boto3>=1.20.27->flair) (2.2.3)\n",
      "Requirement already satisfied: attrs>=19.2.0 in /usr/local/lib/python3.10/dist-packages (from jsonlines>=1.2.0->bioc<3.0.0,>=2.0.0->flair) (24.3.0)\n",
      "Requirement already satisfied: accelerate>=0.26.0 in /usr/local/lib/python3.10/dist-packages (from transformers[sentencepiece,torch]<5.0,>=4.1->transformer-smaller-training-vocab>=0.2.3->flair) (1.2.1)\n",
      "Requirement already satisfied: soupsieve>1.2 in /usr/local/lib/python3.10/dist-packages (from beautifulsoup4->gdown>=4.4.0->flair) (2.6)\n",
      "Collecting sortedcontainers<3.0,>=2.0 (from intervaltree->bioc<3.0.0,>=2.0.0->flair)\n",
      "  Downloading sortedcontainers-2.4.0-py2.py3-none-any.whl.metadata (10 kB)\n",
      "Requirement already satisfied: MarkupSafe>=2.0 in /usr/local/lib/python3.10/dist-packages (from jinja2->mpld3>=0.3->flair) (3.0.2)\n",
      "Requirement already satisfied: charset-normalizer<4,>=2 in /usr/local/lib/python3.10/dist-packages (from requests[socks]->gdown>=4.4.0->flair) (3.4.0)\n",
      "Requirement already satisfied: idna<4,>=2.5 in /usr/local/lib/python3.10/dist-packages (from requests[socks]->gdown>=4.4.0->flair) (3.10)\n",
      "Requirement already satisfied: certifi>=2017.4.17 in /usr/local/lib/python3.10/dist-packages (from requests[socks]->gdown>=4.4.0->flair) (2024.12.14)\n",
      "Requirement already satisfied: PySocks!=1.5.7,>=1.5.6 in /usr/local/lib/python3.10/dist-packages (from requests[socks]->gdown>=4.4.0->flair) (1.7.1)\n",
      "Requirement already satisfied: psutil in /usr/local/lib/python3.10/dist-packages (from accelerate>=0.26.0->transformers[sentencepiece,torch]<5.0,>=4.1->transformer-smaller-training-vocab>=0.2.3->flair) (5.9.5)\n",
      "Downloading flair-0.15.0-py3-none-any.whl (1.2 MB)\n",
      "\u001b[2K   \u001b[90m━━━━━━━━━━━━━━━━━━━━━━━━━━━━━━━━━━━━━━━━\u001b[0m \u001b[32m1.2/1.2 MB\u001b[0m \u001b[31m61.5 MB/s\u001b[0m eta \u001b[36m0:00:00\u001b[0m\n",
      "\u001b[?25hDownloading bioc-2.1-py3-none-any.whl (33 kB)\n",
      "Downloading boto3-1.35.99-py3-none-any.whl (139 kB)\n",
      "\u001b[2K   \u001b[90m━━━━━━━━━━━━━━━━━━━━━━━━━━━━━━━━━━━━━━━━\u001b[0m \u001b[32m139.2/139.2 kB\u001b[0m \u001b[31m12.5 MB/s\u001b[0m eta \u001b[36m0:00:00\u001b[0m\n",
      "\u001b[?25hDownloading conllu-4.5.3-py2.py3-none-any.whl (16 kB)\n",
      "Downloading ftfy-6.3.1-py3-none-any.whl (44 kB)\n",
      "\u001b[2K   \u001b[90m━━━━━━━━━━━━━━━━━━━━━━━━━━━━━━━━━━━━━━━━\u001b[0m \u001b[32m44.8/44.8 kB\u001b[0m \u001b[31m4.0 MB/s\u001b[0m eta \u001b[36m0:00:00\u001b[0m\n",
      "\u001b[?25hDownloading mpld3-0.5.10-py3-none-any.whl (202 kB)\n",
      "\u001b[2K   \u001b[90m━━━━━━━━━━━━━━━━━━━━━━━━━━━━━━━━━━━━━━━━\u001b[0m \u001b[32m202.6/202.6 kB\u001b[0m \u001b[31m19.3 MB/s\u001b[0m eta \u001b[36m0:00:00\u001b[0m\n",
      "\u001b[?25hDownloading pytorch_revgrad-0.2.0-py3-none-any.whl (4.6 kB)\n",
      "Downloading segtok-1.5.11-py3-none-any.whl (24 kB)\n",
      "Downloading transformer_smaller_training_vocab-0.4.0-py3-none-any.whl (14 kB)\n",
      "Downloading botocore-1.35.99-py3-none-any.whl (13.3 MB)\n",
      "\u001b[2K   \u001b[90m━━━━━━━━━━━━━━━━━━━━━━━━━━━━━━━━━━━━━━━━\u001b[0m \u001b[32m13.3/13.3 MB\u001b[0m \u001b[31m107.0 MB/s\u001b[0m eta \u001b[36m0:00:00\u001b[0m\n",
      "\u001b[?25hDownloading jmespath-1.0.1-py3-none-any.whl (20 kB)\n",
      "Downloading jsonlines-4.0.0-py3-none-any.whl (8.7 kB)\n",
      "Downloading s3transfer-0.10.4-py3-none-any.whl (83 kB)\n",
      "\u001b[2K   \u001b[90m━━━━━━━━━━━━━━━━━━━━━━━━━━━━━━━━━━━━━━━━\u001b[0m \u001b[32m83.2/83.2 kB\u001b[0m \u001b[31m7.5 MB/s\u001b[0m eta \u001b[36m0:00:00\u001b[0m\n",
      "\u001b[?25hDownloading sortedcontainers-2.4.0-py2.py3-none-any.whl (29 kB)\n",
      "Building wheels for collected packages: langdetect, pptree, sqlitedict, wikipedia-api, docopt, intervaltree\n",
      "  Building wheel for langdetect (setup.py) ... \u001b[?25l\u001b[?25hdone\n",
      "  Created wheel for langdetect: filename=langdetect-1.0.9-py3-none-any.whl size=993222 sha256=659a49e18e041ba8ceb7bdf1ba87b0ac38ef55b5f88a252205a42c08b7e26ff3\n",
      "  Stored in directory: /root/.cache/pip/wheels/95/03/7d/59ea870c70ce4e5a370638b5462a7711ab78fba2f655d05106\n",
      "  Building wheel for pptree (setup.py) ... \u001b[?25l\u001b[?25hdone\n",
      "  Created wheel for pptree: filename=pptree-3.1-py3-none-any.whl size=4608 sha256=69ffb4ddf4162431f311f998962c8b3dd4169383e99d0ff59b7eafa2a2e377dc\n",
      "  Stored in directory: /root/.cache/pip/wheels/9f/b6/0e/6f26eb9e6eb53ff2107a7888d72b5a6a597593956113037828\n",
      "  Building wheel for sqlitedict (setup.py) ... \u001b[?25l\u001b[?25hdone\n",
      "  Created wheel for sqlitedict: filename=sqlitedict-2.1.0-py3-none-any.whl size=16864 sha256=1192a7ecb881849e1474d468c2a3143f1b1a9a611b017bd3439586731039f914\n",
      "  Stored in directory: /root/.cache/pip/wheels/79/d6/e7/304e0e6cb2221022c26d8161f7c23cd4f259a9e41e8bbcfabd\n",
      "  Building wheel for wikipedia-api (setup.py) ... \u001b[?25l\u001b[?25hdone\n",
      "  Created wheel for wikipedia-api: filename=Wikipedia_API-0.7.3-py3-none-any.whl size=14325 sha256=fe2655276ab66fcabbfd3d231e6d41b811ca43d3ef2d384c4a011e11729f3826\n",
      "  Stored in directory: /root/.cache/pip/wheels/39/c8/cd/ba9a385ad2f6e457226fe2a7dceaeb0c17a19346d2e78ff4be\n",
      "  Building wheel for docopt (setup.py) ... \u001b[?25l\u001b[?25hdone\n",
      "  Created wheel for docopt: filename=docopt-0.6.2-py2.py3-none-any.whl size=13706 sha256=8e3235ebe42fc45f2a0ab24369aa8096d7db91a0ff9c9f60277399d51bb368f7\n",
      "  Stored in directory: /root/.cache/pip/wheels/fc/ab/d4/5da2067ac95b36618c629a5f93f809425700506f72c9732fac\n",
      "  Building wheel for intervaltree (setup.py) ... \u001b[?25l\u001b[?25hdone\n",
      "  Created wheel for intervaltree: filename=intervaltree-3.1.0-py2.py3-none-any.whl size=26097 sha256=0eecbc0a670962d33ab87b4cff31bfea831a29505589a445badf4952a069042e\n",
      "  Stored in directory: /root/.cache/pip/wheels/fa/80/8c/43488a924a046b733b64de3fac99252674c892a4c3801c0a61\n",
      "Successfully built langdetect pptree sqlitedict wikipedia-api docopt intervaltree\n",
      "Installing collected packages: sqlitedict, sortedcontainers, pptree, docopt, segtok, langdetect, jsonlines, jmespath, intervaltree, ftfy, conllu, wikipedia-api, botocore, bioc, s3transfer, pytorch-revgrad, mpld3, boto3, transformer-smaller-training-vocab, flair\n",
      "Successfully installed bioc-2.1 boto3-1.35.99 botocore-1.35.99 conllu-4.5.3 docopt-0.6.2 flair-0.15.0 ftfy-6.3.1 intervaltree-3.1.0 jmespath-1.0.1 jsonlines-4.0.0 langdetect-1.0.9 mpld3-0.5.10 pptree-3.1 pytorch-revgrad-0.2.0 s3transfer-0.10.4 segtok-1.5.11 sortedcontainers-2.4.0 sqlitedict-2.1.0 transformer-smaller-training-vocab-0.4.0 wikipedia-api-0.7.3\n"
     ]
    }
   ],
   "source": [
    "!pip install flair"
   ]
  },
  {
   "cell_type": "code",
   "execution_count": 3,
   "metadata": {
    "id": "EcIBG45ybhdF"
   },
   "outputs": [],
   "source": [
    "from flair.data import Corpus\n",
    "from flair.datasets import ColumnCorpus\n",
    "from flair.embeddings import WordEmbeddings, StackedEmbeddings\n",
    "from flair.models import SequenceTagger\n",
    "from flair.trainers import ModelTrainer\n",
    "from flair.visual.training_curves import Plotter\n",
    "import torch"
   ]
  },
  {
   "cell_type": "code",
   "execution_count": 4,
   "metadata": {
    "colab": {
     "base_uri": "https://localhost:8080/"
    },
    "id": "-MmV5dBGfUVi",
    "outputId": "928f81e8-f6d2-4477-fe53-ab591115d3f1"
   },
   "outputs": [
    {
     "name": "stdout",
     "output_type": "stream",
     "text": [
      "Using GPU: Tesla T4\n"
     ]
    }
   ],
   "source": [
    "# GPU überprüfen\n",
    "if torch.cuda.is_available():\n",
    "    device = torch.device(\"cuda\")\n",
    "    print(\"Using GPU:\", torch.cuda.get_device_name(0))\n",
    "else:\n",
    "    device = torch.device(\"cpu\")\n",
    "    print(\"Using CPU.\")"
   ]
  },
  {
   "cell_type": "code",
   "execution_count": 21,
   "metadata": {
    "colab": {
     "base_uri": "https://localhost:8080/"
    },
    "id": "ZXX91uZafXkK",
    "outputId": "d5279b43-27fe-4d9d-85fa-a6fa8c2a9f44"
   },
   "outputs": [
    {
     "name": "stdout",
     "output_type": "stream",
     "text": [
      "2025-01-15 15:29:15,505 Reading data from /content/data_conll\n",
      "2025-01-15 15:29:15,508 Train: /content/data_conll/train.txt\n",
      "2025-01-15 15:29:15,509 Dev: /content/data_conll/validation.txt\n",
      "2025-01-15 15:29:15,511 Test: /content/data_conll/test.txt\n"
     ]
    }
   ],
   "source": [
    "# 1. Daten einlesen\n",
    "# Format: \"token tag\" (z. B. I-PER, O), Spalten durch Leerzeichen getrennt\n",
    "# Datei-Pfade (passe diese an):\n",
    "data_folder = \"/content/data_conll\"\n",
    "corpus = ColumnCorpus(\n",
    "    data_folder,\n",
    "    column_format={0: 'text', 1: 'ner'},\n",
    "    train_file=\"train.txt\",\n",
    "    test_file=\"test.txt\",\n",
    "    dev_file=\"validation.txt\"\n",
    ")"
   ]
  },
  {
   "cell_type": "code",
   "execution_count": 22,
   "metadata": {
    "colab": {
     "base_uri": "https://localhost:8080/"
    },
    "id": "m5Hi_1Wzlk6d",
    "outputId": "e8023a63-2a01-43d6-8b15-3cebd54cade7"
   },
   "outputs": [
    {
     "name": "stdout",
     "output_type": "stream",
     "text": [
      "2025-01-15 15:30:34,442 https://flair.informatik.hu-berlin.de/resources/embeddings/token/glove.gensim.vectors.npy not found in cache, downloading to /tmp/tmpn9dexvy_\n"
     ]
    },
    {
     "name": "stderr",
     "output_type": "stream",
     "text": [
      "100%|██████████| 153M/153M [00:14<00:00, 11.2MB/s]"
     ]
    },
    {
     "name": "stdout",
     "output_type": "stream",
     "text": [
      "2025-01-15 15:30:49,172 copying /tmp/tmpn9dexvy_ to cache at /root/.flair/embeddings/glove.gensim.vectors.npy\n"
     ]
    },
    {
     "name": "stderr",
     "output_type": "stream",
     "text": [
      "\n"
     ]
    },
    {
     "name": "stdout",
     "output_type": "stream",
     "text": [
      "2025-01-15 15:30:49,359 removing temp file /tmp/tmpn9dexvy_\n",
      "2025-01-15 15:30:49,882 https://flair.informatik.hu-berlin.de/resources/embeddings/token/glove.gensim not found in cache, downloading to /tmp/tmpfwpmgju_\n"
     ]
    },
    {
     "name": "stderr",
     "output_type": "stream",
     "text": [
      "100%|██████████| 20.5M/20.5M [00:02<00:00, 9.20MB/s]"
     ]
    },
    {
     "name": "stdout",
     "output_type": "stream",
     "text": [
      "2025-01-15 15:30:52,704 copying /tmp/tmpfwpmgju_ to cache at /root/.flair/embeddings/glove.gensim\n",
      "2025-01-15 15:30:52,725 removing temp file /tmp/tmpfwpmgju_\n"
     ]
    },
    {
     "name": "stderr",
     "output_type": "stream",
     "text": [
      "\n"
     ]
    }
   ],
   "source": [
    "# 2. Embeddings definieren\n",
    "# Verwende FastText, GloVe oder eine Kombination\n",
    "word_embeddings = [\n",
    "    WordEmbeddings('glove'),       # GloVe-Embeddings\n",
    "    #WordEmbeddings('en-crawl')    # FastText-Embeddings (alternativ)\n",
    "]"
   ]
  },
  {
   "cell_type": "code",
   "execution_count": 24,
   "metadata": {
    "id": "kw4VK3FPmNVo"
   },
   "outputs": [],
   "source": [
    "from flair.embeddings import StackedEmbeddings\n",
    "\n",
    "# Kombiniere die Embeddings (falls mehrere)\n",
    "embeddings = StackedEmbeddings(word_embeddings)\n"
   ]
  },
  {
   "cell_type": "code",
   "execution_count": 26,
   "metadata": {
    "colab": {
     "base_uri": "https://localhost:8080/"
    },
    "id": "uIDyFAvDlwk7",
    "outputId": "ef024baa-c946-47cf-ca61-79dc9b6de886"
   },
   "outputs": [
    {
     "name": "stdout",
     "output_type": "stream",
     "text": [
      "2025-01-15 15:54:21,659 Computing label dictionary. Progress:\n"
     ]
    },
    {
     "name": "stderr",
     "output_type": "stream",
     "text": [
      "0it [00:00, ?it/s]\n",
      "20000it [00:00, 33070.64it/s]"
     ]
    },
    {
     "name": "stdout",
     "output_type": "stream",
     "text": [
      "2025-01-15 15:54:22,277 Dictionary created for label 'ner' with 3 values: ORG (seen 8571 times), PER (seen 7770 times), LOC (seen 7563 times)\n",
      "2025-01-15 15:54:22,280 SequenceTagger predicts: Dictionary with 13 tags: O, S-ORG, B-ORG, E-ORG, I-ORG, S-PER, B-PER, E-PER, I-PER, S-LOC, B-LOC, E-LOC, I-LOC\n"
     ]
    },
    {
     "name": "stderr",
     "output_type": "stream",
     "text": [
      "\n"
     ]
    }
   ],
   "source": [
    "# 3. SequenceTagger definieren\n",
    "tagger = SequenceTagger(\n",
    "    hidden_size=256,              # Anzahl der Hidden Units im LSTM\n",
    "    embeddings=embeddings,        # Eingangs-Embeddings\n",
    "    tag_dictionary = corpus.make_label_dictionary(label_type='ner'),\n",
    "    tag_type='ner',\n",
    "    use_crf=True                  # CRF-Layer für bessere Sequenzvorhersagen\n",
    ")\n"
   ]
  },
  {
   "cell_type": "code",
   "execution_count": 27,
   "metadata": {
    "colab": {
     "base_uri": "https://localhost:8080/"
    },
    "id": "podWsuMMl5Ug",
    "outputId": "f7b3bfeb-8fb1-4d62-9e11-c62956ec48a8"
   },
   "outputs": [
    {
     "name": "stdout",
     "output_type": "stream",
     "text": [
      "2025-01-15 15:56:06,705 ----------------------------------------------------------------------------------------------------\n",
      "2025-01-15 15:56:06,707 Model: \"SequenceTagger(\n",
      "  (embeddings): StackedEmbeddings(\n",
      "    (list_embedding_0): WordEmbeddings(\n",
      "      'glove'\n",
      "      (embedding): Embedding(400001, 100)\n",
      "    )\n",
      "  )\n",
      "  (word_dropout): WordDropout(p=0.05)\n",
      "  (locked_dropout): LockedDropout(p=0.5)\n",
      "  (embedding2nn): Linear(in_features=100, out_features=100, bias=True)\n",
      "  (rnn): LSTM(100, 256, batch_first=True, bidirectional=True)\n",
      "  (linear): Linear(in_features=512, out_features=15, bias=True)\n",
      "  (loss_function): ViterbiLoss()\n",
      "  (crf): CRF()\n",
      ")\"\n",
      "2025-01-15 15:56:06,710 ----------------------------------------------------------------------------------------------------\n",
      "2025-01-15 15:56:06,712 Corpus: 20000 train + 10000 dev + 10000 test sentences\n",
      "2025-01-15 15:56:06,713 ----------------------------------------------------------------------------------------------------\n",
      "2025-01-15 15:56:06,715 Train:  20000 sentences\n",
      "2025-01-15 15:56:06,716         (train_with_dev=False, train_with_test=False)\n",
      "2025-01-15 15:56:06,717 ----------------------------------------------------------------------------------------------------\n",
      "2025-01-15 15:56:06,718 Training Params:\n",
      "2025-01-15 15:56:06,719  - learning_rate: \"0.1\" \n",
      "2025-01-15 15:56:06,721  - mini_batch_size: \"32\"\n",
      "2025-01-15 15:56:06,722  - max_epochs: \"20\"\n",
      "2025-01-15 15:56:06,723  - shuffle: \"True\"\n",
      "2025-01-15 15:56:06,724 ----------------------------------------------------------------------------------------------------\n",
      "2025-01-15 15:56:06,726 Plugins:\n",
      "2025-01-15 15:56:06,727  - AnnealOnPlateau | patience: '3', anneal_factor: '0.5', min_learning_rate: '0.0001'\n",
      "2025-01-15 15:56:06,728 ----------------------------------------------------------------------------------------------------\n",
      "2025-01-15 15:56:06,730 Final evaluation on model from best epoch (best-model.pt)\n",
      "2025-01-15 15:56:06,738  - metric: \"('micro avg', 'f1-score')\"\n",
      "2025-01-15 15:56:06,739 ----------------------------------------------------------------------------------------------------\n",
      "2025-01-15 15:56:06,740 Computation:\n",
      "2025-01-15 15:56:06,741  - compute on device: cuda:0\n",
      "2025-01-15 15:56:06,742  - embedding storage: gpu\n",
      "2025-01-15 15:56:06,743 ----------------------------------------------------------------------------------------------------\n",
      "2025-01-15 15:56:06,744 Model training base path: \"output\"\n",
      "2025-01-15 15:56:06,745 ----------------------------------------------------------------------------------------------------\n",
      "2025-01-15 15:56:06,746 ----------------------------------------------------------------------------------------------------\n"
     ]
    },
    {
     "name": "stderr",
     "output_type": "stream",
     "text": [
      "/usr/local/lib/python3.10/dist-packages/flair/trainers/trainer.py:545: FutureWarning: `torch.cuda.amp.GradScaler(args...)` is deprecated. Please use `torch.amp.GradScaler('cuda', args...)` instead.\n",
      "  scaler = torch.cuda.amp.GradScaler(enabled=use_amp and flair.device.type != \"cpu\")\n"
     ]
    },
    {
     "name": "stdout",
     "output_type": "stream",
     "text": [
      "2025-01-15 15:56:10,282 epoch 1 - iter 62/625 - loss 1.59104073 - time (sec): 3.53 - samples/sec: 3310.47 - lr: 0.100000 - momentum: 0.000000\n",
      "2025-01-15 15:56:12,173 epoch 1 - iter 124/625 - loss 1.29947780 - time (sec): 5.43 - samples/sec: 4328.36 - lr: 0.100000 - momentum: 0.000000\n",
      "2025-01-15 15:56:13,968 epoch 1 - iter 186/625 - loss 1.14520855 - time (sec): 7.22 - samples/sec: 4893.46 - lr: 0.100000 - momentum: 0.000000\n",
      "2025-01-15 15:56:15,948 epoch 1 - iter 248/625 - loss 1.05423997 - time (sec): 9.20 - samples/sec: 5107.73 - lr: 0.100000 - momentum: 0.000000\n",
      "2025-01-15 15:56:18,650 epoch 1 - iter 310/625 - loss 0.98905304 - time (sec): 11.90 - samples/sec: 4931.38 - lr: 0.100000 - momentum: 0.000000\n",
      "2025-01-15 15:56:20,539 epoch 1 - iter 372/625 - loss 0.93894452 - time (sec): 13.79 - samples/sec: 5133.41 - lr: 0.100000 - momentum: 0.000000\n",
      "2025-01-15 15:56:22,493 epoch 1 - iter 434/625 - loss 0.90151012 - time (sec): 15.75 - samples/sec: 5250.48 - lr: 0.100000 - momentum: 0.000000\n",
      "2025-01-15 15:56:24,491 epoch 1 - iter 496/625 - loss 0.86870381 - time (sec): 17.74 - samples/sec: 5342.09 - lr: 0.100000 - momentum: 0.000000\n",
      "2025-01-15 15:56:26,382 epoch 1 - iter 558/625 - loss 0.84131944 - time (sec): 19.63 - samples/sec: 5440.48 - lr: 0.100000 - momentum: 0.000000\n",
      "2025-01-15 15:56:28,454 epoch 1 - iter 620/625 - loss 0.82202215 - time (sec): 21.71 - samples/sec: 5460.64 - lr: 0.100000 - momentum: 0.000000\n",
      "2025-01-15 15:56:28,613 ----------------------------------------------------------------------------------------------------\n",
      "2025-01-15 15:56:28,614 EPOCH 1 done: loss 0.8205 - lr: 0.100000\n"
     ]
    },
    {
     "name": "stderr",
     "output_type": "stream",
     "text": [
      "100%|██████████| 157/157 [00:18<00:00,  8.56it/s]"
     ]
    },
    {
     "name": "stdout",
     "output_type": "stream",
     "text": [
      "2025-01-15 15:56:47,074 DEV : loss 0.5909384489059448 - f1-score (micro avg)  0.3586\n"
     ]
    },
    {
     "name": "stderr",
     "output_type": "stream",
     "text": [
      "\n"
     ]
    },
    {
     "name": "stdout",
     "output_type": "stream",
     "text": [
      "2025-01-15 15:56:47,311  - 0 epochs without improvement\n",
      "2025-01-15 15:56:47,312 saving best model\n",
      "2025-01-15 15:56:47,974 ----------------------------------------------------------------------------------------------------\n",
      "2025-01-15 15:56:49,792 epoch 2 - iter 62/625 - loss 0.61951428 - time (sec): 1.81 - samples/sec: 6490.02 - lr: 0.100000 - momentum: 0.000000\n",
      "2025-01-15 15:56:52,018 epoch 2 - iter 124/625 - loss 0.62930392 - time (sec): 4.04 - samples/sec: 5952.42 - lr: 0.100000 - momentum: 0.000000\n",
      "2025-01-15 15:56:53,854 epoch 2 - iter 186/625 - loss 0.61976498 - time (sec): 5.87 - samples/sec: 6134.67 - lr: 0.100000 - momentum: 0.000000\n",
      "2025-01-15 15:56:56,129 epoch 2 - iter 248/625 - loss 0.61503947 - time (sec): 8.15 - samples/sec: 5888.53 - lr: 0.100000 - momentum: 0.000000\n",
      "2025-01-15 15:56:58,605 epoch 2 - iter 310/625 - loss 0.61252550 - time (sec): 10.62 - samples/sec: 5638.40 - lr: 0.100000 - momentum: 0.000000\n",
      "2025-01-15 15:57:00,377 epoch 2 - iter 372/625 - loss 0.60892161 - time (sec): 12.40 - samples/sec: 5773.24 - lr: 0.100000 - momentum: 0.000000\n",
      "2025-01-15 15:57:02,213 epoch 2 - iter 434/625 - loss 0.60596499 - time (sec): 14.23 - samples/sec: 5835.73 - lr: 0.100000 - momentum: 0.000000\n",
      "2025-01-15 15:57:04,162 epoch 2 - iter 496/625 - loss 0.60480199 - time (sec): 16.18 - samples/sec: 5867.17 - lr: 0.100000 - momentum: 0.000000\n",
      "2025-01-15 15:57:06,053 epoch 2 - iter 558/625 - loss 0.60096139 - time (sec): 18.07 - samples/sec: 5913.60 - lr: 0.100000 - momentum: 0.000000\n",
      "2025-01-15 15:57:07,823 epoch 2 - iter 620/625 - loss 0.59769543 - time (sec): 19.84 - samples/sec: 5971.09 - lr: 0.100000 - momentum: 0.000000\n",
      "2025-01-15 15:57:08,053 ----------------------------------------------------------------------------------------------------\n",
      "2025-01-15 15:57:08,057 EPOCH 2 done: loss 0.5972 - lr: 0.100000\n"
     ]
    },
    {
     "name": "stderr",
     "output_type": "stream",
     "text": [
      "100%|██████████| 157/157 [00:18<00:00,  8.60it/s]"
     ]
    },
    {
     "name": "stdout",
     "output_type": "stream",
     "text": [
      "2025-01-15 15:57:26,472 DEV : loss 0.48722437024116516 - f1-score (micro avg)  0.3978\n"
     ]
    },
    {
     "name": "stderr",
     "output_type": "stream",
     "text": [
      "\n"
     ]
    },
    {
     "name": "stdout",
     "output_type": "stream",
     "text": [
      "2025-01-15 15:57:26,740  - 0 epochs without improvement\n",
      "2025-01-15 15:57:26,742 saving best model\n",
      "2025-01-15 15:57:27,448 ----------------------------------------------------------------------------------------------------\n",
      "2025-01-15 15:57:29,310 epoch 3 - iter 62/625 - loss 0.57171148 - time (sec): 1.86 - samples/sec: 6319.54 - lr: 0.100000 - momentum: 0.000000\n",
      "2025-01-15 15:57:31,210 epoch 3 - iter 124/625 - loss 0.57106963 - time (sec): 3.76 - samples/sec: 6305.09 - lr: 0.100000 - momentum: 0.000000\n",
      "2025-01-15 15:57:33,045 epoch 3 - iter 186/625 - loss 0.56257959 - time (sec): 5.59 - samples/sec: 6343.57 - lr: 0.100000 - momentum: 0.000000\n",
      "2025-01-15 15:57:35,478 epoch 3 - iter 248/625 - loss 0.56582737 - time (sec): 8.03 - samples/sec: 5923.98 - lr: 0.100000 - momentum: 0.000000\n",
      "2025-01-15 15:57:37,763 epoch 3 - iter 310/625 - loss 0.56560376 - time (sec): 10.31 - samples/sec: 5775.43 - lr: 0.100000 - momentum: 0.000000\n",
      "2025-01-15 15:57:39,546 epoch 3 - iter 372/625 - loss 0.56042047 - time (sec): 12.09 - samples/sec: 5922.84 - lr: 0.100000 - momentum: 0.000000\n",
      "2025-01-15 15:57:41,348 epoch 3 - iter 434/625 - loss 0.55874299 - time (sec): 13.90 - samples/sec: 6002.35 - lr: 0.100000 - momentum: 0.000000\n",
      "2025-01-15 15:57:43,394 epoch 3 - iter 496/625 - loss 0.55993011 - time (sec): 15.94 - samples/sec: 5981.07 - lr: 0.100000 - momentum: 0.000000\n",
      "2025-01-15 15:57:45,229 epoch 3 - iter 558/625 - loss 0.55879590 - time (sec): 17.78 - samples/sec: 6019.62 - lr: 0.100000 - momentum: 0.000000\n",
      "2025-01-15 15:57:47,141 epoch 3 - iter 620/625 - loss 0.55866891 - time (sec): 19.69 - samples/sec: 6023.50 - lr: 0.100000 - momentum: 0.000000\n",
      "2025-01-15 15:57:47,351 ----------------------------------------------------------------------------------------------------\n",
      "2025-01-15 15:57:47,353 EPOCH 3 done: loss 0.5587 - lr: 0.100000\n"
     ]
    },
    {
     "name": "stderr",
     "output_type": "stream",
     "text": [
      "100%|██████████| 157/157 [00:17<00:00,  9.14it/s]"
     ]
    },
    {
     "name": "stdout",
     "output_type": "stream",
     "text": [
      "2025-01-15 15:58:04,669 DEV : loss 0.4734741747379303 - f1-score (micro avg)  0.424\n"
     ]
    },
    {
     "name": "stderr",
     "output_type": "stream",
     "text": [
      "\n"
     ]
    },
    {
     "name": "stdout",
     "output_type": "stream",
     "text": [
      "2025-01-15 15:58:04,916  - 0 epochs without improvement\n",
      "2025-01-15 15:58:04,919 saving best model\n",
      "2025-01-15 15:58:05,682 ----------------------------------------------------------------------------------------------------\n",
      "2025-01-15 15:58:07,646 epoch 4 - iter 62/625 - loss 0.53463597 - time (sec): 1.96 - samples/sec: 6177.04 - lr: 0.100000 - momentum: 0.000000\n",
      "2025-01-15 15:58:09,418 epoch 4 - iter 124/625 - loss 0.53871777 - time (sec): 3.73 - samples/sec: 6381.95 - lr: 0.100000 - momentum: 0.000000\n",
      "2025-01-15 15:58:11,287 epoch 4 - iter 186/625 - loss 0.53563254 - time (sec): 5.60 - samples/sec: 6371.53 - lr: 0.100000 - momentum: 0.000000\n",
      "2025-01-15 15:58:13,496 epoch 4 - iter 248/625 - loss 0.54249877 - time (sec): 7.81 - samples/sec: 6069.80 - lr: 0.100000 - momentum: 0.000000\n",
      "2025-01-15 15:58:15,902 epoch 4 - iter 310/625 - loss 0.54134552 - time (sec): 10.22 - samples/sec: 5750.64 - lr: 0.100000 - momentum: 0.000000\n",
      "2025-01-15 15:58:18,000 epoch 4 - iter 372/625 - loss 0.54198701 - time (sec): 12.31 - samples/sec: 5766.77 - lr: 0.100000 - momentum: 0.000000\n",
      "2025-01-15 15:58:19,819 epoch 4 - iter 434/625 - loss 0.53973202 - time (sec): 14.13 - samples/sec: 5857.94 - lr: 0.100000 - momentum: 0.000000\n",
      "2025-01-15 15:58:21,689 epoch 4 - iter 496/625 - loss 0.53701055 - time (sec): 16.00 - samples/sec: 5920.52 - lr: 0.100000 - momentum: 0.000000\n",
      "2025-01-15 15:58:23,594 epoch 4 - iter 558/625 - loss 0.53930491 - time (sec): 17.91 - samples/sec: 5940.85 - lr: 0.100000 - momentum: 0.000000\n",
      "2025-01-15 15:58:25,498 epoch 4 - iter 620/625 - loss 0.53831598 - time (sec): 19.81 - samples/sec: 5979.88 - lr: 0.100000 - momentum: 0.000000\n",
      "2025-01-15 15:58:25,729 ----------------------------------------------------------------------------------------------------\n",
      "2025-01-15 15:58:25,731 EPOCH 4 done: loss 0.5375 - lr: 0.100000\n"
     ]
    },
    {
     "name": "stderr",
     "output_type": "stream",
     "text": [
      "100%|██████████| 157/157 [00:15<00:00,  9.96it/s]\n"
     ]
    },
    {
     "name": "stdout",
     "output_type": "stream",
     "text": [
      "2025-01-15 15:58:41,671 DEV : loss 0.45587554574012756 - f1-score (micro avg)  0.4504\n",
      "2025-01-15 15:58:41,911  - 0 epochs without improvement\n",
      "2025-01-15 15:58:41,913 saving best model\n",
      "2025-01-15 15:58:42,663 ----------------------------------------------------------------------------------------------------\n",
      "2025-01-15 15:58:44,611 epoch 5 - iter 62/625 - loss 0.50639822 - time (sec): 1.94 - samples/sec: 6273.30 - lr: 0.100000 - momentum: 0.000000\n",
      "2025-01-15 15:58:46,462 epoch 5 - iter 124/625 - loss 0.51544510 - time (sec): 3.80 - samples/sec: 6275.25 - lr: 0.100000 - momentum: 0.000000\n",
      "2025-01-15 15:58:48,610 epoch 5 - iter 186/625 - loss 0.51843257 - time (sec): 5.94 - samples/sec: 5988.07 - lr: 0.100000 - momentum: 0.000000\n",
      "2025-01-15 15:58:50,530 epoch 5 - iter 248/625 - loss 0.52028030 - time (sec): 7.86 - samples/sec: 5997.79 - lr: 0.100000 - momentum: 0.000000\n",
      "2025-01-15 15:58:52,665 epoch 5 - iter 310/625 - loss 0.51786291 - time (sec): 10.00 - samples/sec: 5915.82 - lr: 0.100000 - momentum: 0.000000\n",
      "2025-01-15 15:58:55,179 epoch 5 - iter 372/625 - loss 0.51862421 - time (sec): 12.51 - samples/sec: 5690.06 - lr: 0.100000 - momentum: 0.000000\n",
      "2025-01-15 15:58:56,846 epoch 5 - iter 434/625 - loss 0.51985343 - time (sec): 14.18 - samples/sec: 5835.69 - lr: 0.100000 - momentum: 0.000000\n",
      "2025-01-15 15:58:58,634 epoch 5 - iter 496/625 - loss 0.51846627 - time (sec): 15.97 - samples/sec: 5923.28 - lr: 0.100000 - momentum: 0.000000\n",
      "2025-01-15 15:59:00,873 epoch 5 - iter 558/625 - loss 0.52175123 - time (sec): 18.21 - samples/sec: 5867.73 - lr: 0.100000 - momentum: 0.000000\n",
      "2025-01-15 15:59:02,745 epoch 5 - iter 620/625 - loss 0.52200395 - time (sec): 20.08 - samples/sec: 5903.72 - lr: 0.100000 - momentum: 0.000000\n",
      "2025-01-15 15:59:02,909 ----------------------------------------------------------------------------------------------------\n",
      "2025-01-15 15:59:02,910 EPOCH 5 done: loss 0.5221 - lr: 0.100000\n"
     ]
    },
    {
     "name": "stderr",
     "output_type": "stream",
     "text": [
      "100%|██████████| 157/157 [00:16<00:00,  9.37it/s]\n"
     ]
    },
    {
     "name": "stdout",
     "output_type": "stream",
     "text": [
      "2025-01-15 15:59:19,920 DEV : loss 0.4410876929759979 - f1-score (micro avg)  0.4648\n",
      "2025-01-15 15:59:20,280  - 0 epochs without improvement\n",
      "2025-01-15 15:59:20,282 saving best model\n",
      "2025-01-15 15:59:21,050 ----------------------------------------------------------------------------------------------------\n",
      "2025-01-15 15:59:23,180 epoch 6 - iter 62/625 - loss 0.51887205 - time (sec): 2.13 - samples/sec: 5701.01 - lr: 0.100000 - momentum: 0.000000\n",
      "2025-01-15 15:59:25,030 epoch 6 - iter 124/625 - loss 0.50696563 - time (sec): 3.98 - samples/sec: 6003.05 - lr: 0.100000 - momentum: 0.000000\n",
      "2025-01-15 15:59:26,923 epoch 6 - iter 186/625 - loss 0.50701090 - time (sec): 5.87 - samples/sec: 6102.67 - lr: 0.100000 - momentum: 0.000000\n",
      "2025-01-15 15:59:28,898 epoch 6 - iter 248/625 - loss 0.51203476 - time (sec): 7.84 - samples/sec: 6093.60 - lr: 0.100000 - momentum: 0.000000\n",
      "2025-01-15 15:59:30,983 epoch 6 - iter 310/625 - loss 0.51193764 - time (sec): 9.93 - samples/sec: 5990.91 - lr: 0.100000 - momentum: 0.000000\n",
      "2025-01-15 15:59:33,621 epoch 6 - iter 372/625 - loss 0.51203271 - time (sec): 12.57 - samples/sec: 5661.36 - lr: 0.100000 - momentum: 0.000000\n",
      "2025-01-15 15:59:35,458 epoch 6 - iter 434/625 - loss 0.51079192 - time (sec): 14.41 - samples/sec: 5753.92 - lr: 0.100000 - momentum: 0.000000\n",
      "2025-01-15 15:59:37,230 epoch 6 - iter 496/625 - loss 0.50981353 - time (sec): 16.18 - samples/sec: 5843.20 - lr: 0.100000 - momentum: 0.000000\n",
      "2025-01-15 15:59:39,099 epoch 6 - iter 558/625 - loss 0.51012562 - time (sec): 18.05 - samples/sec: 5905.69 - lr: 0.100000 - momentum: 0.000000\n",
      "2025-01-15 15:59:40,977 epoch 6 - iter 620/625 - loss 0.51007983 - time (sec): 19.92 - samples/sec: 5949.87 - lr: 0.100000 - momentum: 0.000000\n",
      "2025-01-15 15:59:41,121 ----------------------------------------------------------------------------------------------------\n",
      "2025-01-15 15:59:41,124 EPOCH 6 done: loss 0.5102 - lr: 0.100000\n"
     ]
    },
    {
     "name": "stderr",
     "output_type": "stream",
     "text": [
      "100%|██████████| 157/157 [00:16<00:00,  9.77it/s]\n"
     ]
    },
    {
     "name": "stdout",
     "output_type": "stream",
     "text": [
      "2025-01-15 15:59:57,412 DEV : loss 0.4271529018878937 - f1-score (micro avg)  0.475\n",
      "2025-01-15 15:59:57,792  - 0 epochs without improvement\n",
      "2025-01-15 15:59:57,797 saving best model\n",
      "2025-01-15 15:59:58,926 ----------------------------------------------------------------------------------------------------\n",
      "2025-01-15 16:00:00,782 epoch 7 - iter 62/625 - loss 0.50507920 - time (sec): 1.85 - samples/sec: 6264.47 - lr: 0.100000 - momentum: 0.000000\n",
      "2025-01-15 16:00:02,926 epoch 7 - iter 124/625 - loss 0.51159728 - time (sec): 4.00 - samples/sec: 5894.18 - lr: 0.100000 - momentum: 0.000000\n",
      "2025-01-15 16:00:04,916 epoch 7 - iter 186/625 - loss 0.50846921 - time (sec): 5.99 - samples/sec: 5962.65 - lr: 0.100000 - momentum: 0.000000\n",
      "2025-01-15 16:00:06,816 epoch 7 - iter 248/625 - loss 0.50546642 - time (sec): 7.89 - samples/sec: 6026.61 - lr: 0.100000 - momentum: 0.000000\n",
      "2025-01-15 16:00:08,691 epoch 7 - iter 310/625 - loss 0.50534313 - time (sec): 9.76 - samples/sec: 6065.79 - lr: 0.100000 - momentum: 0.000000\n",
      "2025-01-15 16:00:11,196 epoch 7 - iter 372/625 - loss 0.50280356 - time (sec): 12.27 - samples/sec: 5774.47 - lr: 0.100000 - momentum: 0.000000\n",
      "2025-01-15 16:00:13,247 epoch 7 - iter 434/625 - loss 0.50324006 - time (sec): 14.32 - samples/sec: 5773.76 - lr: 0.100000 - momentum: 0.000000\n",
      "2025-01-15 16:00:15,121 epoch 7 - iter 496/625 - loss 0.50351500 - time (sec): 16.19 - samples/sec: 5850.25 - lr: 0.100000 - momentum: 0.000000\n",
      "2025-01-15 16:00:16,967 epoch 7 - iter 558/625 - loss 0.50407580 - time (sec): 18.04 - samples/sec: 5909.35 - lr: 0.100000 - momentum: 0.000000\n",
      "2025-01-15 16:00:18,838 epoch 7 - iter 620/625 - loss 0.50257775 - time (sec): 19.91 - samples/sec: 5956.56 - lr: 0.100000 - momentum: 0.000000\n",
      "2025-01-15 16:00:18,979 ----------------------------------------------------------------------------------------------------\n",
      "2025-01-15 16:00:18,980 EPOCH 7 done: loss 0.5028 - lr: 0.100000\n"
     ]
    },
    {
     "name": "stderr",
     "output_type": "stream",
     "text": [
      "100%|██████████| 157/157 [00:15<00:00,  9.88it/s]\n"
     ]
    },
    {
     "name": "stdout",
     "output_type": "stream",
     "text": [
      "2025-01-15 16:00:35,064 DEV : loss 0.420190691947937 - f1-score (micro avg)  0.4752\n",
      "2025-01-15 16:00:35,425  - 0 epochs without improvement\n",
      "2025-01-15 16:00:35,429 saving best model\n",
      "2025-01-15 16:00:36,627 ----------------------------------------------------------------------------------------------------\n",
      "2025-01-15 16:00:38,853 epoch 8 - iter 62/625 - loss 0.50342722 - time (sec): 2.22 - samples/sec: 5425.66 - lr: 0.100000 - momentum: 0.000000\n",
      "2025-01-15 16:00:40,794 epoch 8 - iter 124/625 - loss 0.50903180 - time (sec): 4.16 - samples/sec: 5729.23 - lr: 0.100000 - momentum: 0.000000\n",
      "2025-01-15 16:00:42,615 epoch 8 - iter 186/625 - loss 0.50078587 - time (sec): 5.98 - samples/sec: 5938.94 - lr: 0.100000 - momentum: 0.000000\n",
      "2025-01-15 16:00:44,685 epoch 8 - iter 248/625 - loss 0.49882699 - time (sec): 8.05 - samples/sec: 5906.12 - lr: 0.100000 - momentum: 0.000000\n",
      "2025-01-15 16:00:46,582 epoch 8 - iter 310/625 - loss 0.49951810 - time (sec): 9.95 - samples/sec: 6003.62 - lr: 0.100000 - momentum: 0.000000\n",
      "2025-01-15 16:00:48,966 epoch 8 - iter 372/625 - loss 0.49774441 - time (sec): 12.34 - samples/sec: 5817.57 - lr: 0.100000 - momentum: 0.000000\n",
      "2025-01-15 16:00:51,119 epoch 8 - iter 434/625 - loss 0.49702982 - time (sec): 14.49 - samples/sec: 5744.35 - lr: 0.100000 - momentum: 0.000000\n",
      "2025-01-15 16:00:52,926 epoch 8 - iter 496/625 - loss 0.49678730 - time (sec): 16.30 - samples/sec: 5827.14 - lr: 0.100000 - momentum: 0.000000\n",
      "2025-01-15 16:00:54,811 epoch 8 - iter 558/625 - loss 0.49370318 - time (sec): 18.18 - samples/sec: 5865.54 - lr: 0.100000 - momentum: 0.000000\n",
      "2025-01-15 16:00:56,571 epoch 8 - iter 620/625 - loss 0.49414055 - time (sec): 19.94 - samples/sec: 5946.72 - lr: 0.100000 - momentum: 0.000000\n",
      "2025-01-15 16:00:56,713 ----------------------------------------------------------------------------------------------------\n",
      "2025-01-15 16:00:56,715 EPOCH 8 done: loss 0.4939 - lr: 0.100000\n"
     ]
    },
    {
     "name": "stderr",
     "output_type": "stream",
     "text": [
      "100%|██████████| 157/157 [00:15<00:00,  9.86it/s]\n"
     ]
    },
    {
     "name": "stdout",
     "output_type": "stream",
     "text": [
      "2025-01-15 16:01:12,787 DEV : loss 0.44583651423454285 - f1-score (micro avg)  0.4636\n",
      "2025-01-15 16:01:13,029  - 1 epochs without improvement\n",
      "2025-01-15 16:01:13,030 ----------------------------------------------------------------------------------------------------\n",
      "2025-01-15 16:01:16,219 epoch 9 - iter 62/625 - loss 0.47966450 - time (sec): 3.19 - samples/sec: 3898.60 - lr: 0.100000 - momentum: 0.000000\n",
      "2025-01-15 16:01:17,993 epoch 9 - iter 124/625 - loss 0.48754754 - time (sec): 4.96 - samples/sec: 4807.78 - lr: 0.100000 - momentum: 0.000000\n",
      "2025-01-15 16:01:19,817 epoch 9 - iter 186/625 - loss 0.48541148 - time (sec): 6.78 - samples/sec: 5269.55 - lr: 0.100000 - momentum: 0.000000\n",
      "2025-01-15 16:01:21,760 epoch 9 - iter 248/625 - loss 0.48631467 - time (sec): 8.73 - samples/sec: 5451.49 - lr: 0.100000 - momentum: 0.000000\n",
      "2025-01-15 16:01:23,502 epoch 9 - iter 310/625 - loss 0.48606677 - time (sec): 10.47 - samples/sec: 5642.81 - lr: 0.100000 - momentum: 0.000000\n",
      "2025-01-15 16:01:25,303 epoch 9 - iter 372/625 - loss 0.48716502 - time (sec): 12.27 - samples/sec: 5766.62 - lr: 0.100000 - momentum: 0.000000\n",
      "2025-01-15 16:01:27,509 epoch 9 - iter 434/625 - loss 0.48617479 - time (sec): 14.48 - samples/sec: 5701.43 - lr: 0.100000 - momentum: 0.000000\n",
      "2025-01-15 16:01:29,766 epoch 9 - iter 496/625 - loss 0.48487340 - time (sec): 16.73 - samples/sec: 5649.51 - lr: 0.100000 - momentum: 0.000000\n",
      "2025-01-15 16:01:31,806 epoch 9 - iter 558/625 - loss 0.48658216 - time (sec): 18.77 - samples/sec: 5684.69 - lr: 0.100000 - momentum: 0.000000\n",
      "2025-01-15 16:01:33,667 epoch 9 - iter 620/625 - loss 0.48766343 - time (sec): 20.63 - samples/sec: 5746.72 - lr: 0.100000 - momentum: 0.000000\n",
      "2025-01-15 16:01:33,814 ----------------------------------------------------------------------------------------------------\n",
      "2025-01-15 16:01:33,815 EPOCH 9 done: loss 0.4879 - lr: 0.100000\n"
     ]
    },
    {
     "name": "stderr",
     "output_type": "stream",
     "text": [
      "100%|██████████| 157/157 [00:16<00:00,  9.75it/s]"
     ]
    },
    {
     "name": "stdout",
     "output_type": "stream",
     "text": [
      "2025-01-15 16:01:50,074 DEV : loss 0.41004887223243713 - f1-score (micro avg)  0.4898\n"
     ]
    },
    {
     "name": "stderr",
     "output_type": "stream",
     "text": [
      "\n"
     ]
    },
    {
     "name": "stdout",
     "output_type": "stream",
     "text": [
      "2025-01-15 16:01:50,322  - 0 epochs without improvement\n",
      "2025-01-15 16:01:50,324 saving best model\n",
      "2025-01-15 16:01:51,073 ----------------------------------------------------------------------------------------------------\n",
      "2025-01-15 16:01:53,441 epoch 10 - iter 62/625 - loss 0.48113400 - time (sec): 2.36 - samples/sec: 5033.62 - lr: 0.100000 - momentum: 0.000000\n",
      "2025-01-15 16:01:55,823 epoch 10 - iter 124/625 - loss 0.48177176 - time (sec): 4.74 - samples/sec: 5069.01 - lr: 0.100000 - momentum: 0.000000\n",
      "2025-01-15 16:01:57,652 epoch 10 - iter 186/625 - loss 0.48755567 - time (sec): 6.57 - samples/sec: 5443.15 - lr: 0.100000 - momentum: 0.000000\n",
      "2025-01-15 16:01:59,532 epoch 10 - iter 248/625 - loss 0.48639546 - time (sec): 8.45 - samples/sec: 5661.48 - lr: 0.100000 - momentum: 0.000000\n",
      "2025-01-15 16:02:01,401 epoch 10 - iter 310/625 - loss 0.48639959 - time (sec): 10.32 - samples/sec: 5754.56 - lr: 0.100000 - momentum: 0.000000\n",
      "2025-01-15 16:02:03,643 epoch 10 - iter 372/625 - loss 0.48574558 - time (sec): 12.56 - samples/sec: 5697.34 - lr: 0.100000 - momentum: 0.000000\n",
      "2025-01-15 16:02:05,881 epoch 10 - iter 434/625 - loss 0.48327067 - time (sec): 14.80 - samples/sec: 5630.48 - lr: 0.100000 - momentum: 0.000000\n",
      "2025-01-15 16:02:08,541 epoch 10 - iter 496/625 - loss 0.48453200 - time (sec): 17.46 - samples/sec: 5446.94 - lr: 0.100000 - momentum: 0.000000\n",
      "2025-01-15 16:02:10,265 epoch 10 - iter 558/625 - loss 0.48448436 - time (sec): 19.19 - samples/sec: 5563.18 - lr: 0.100000 - momentum: 0.000000\n",
      "2025-01-15 16:02:12,196 epoch 10 - iter 620/625 - loss 0.48356720 - time (sec): 21.12 - samples/sec: 5615.77 - lr: 0.100000 - momentum: 0.000000\n",
      "2025-01-15 16:02:12,348 ----------------------------------------------------------------------------------------------------\n",
      "2025-01-15 16:02:12,349 EPOCH 10 done: loss 0.4839 - lr: 0.100000\n"
     ]
    },
    {
     "name": "stderr",
     "output_type": "stream",
     "text": [
      "100%|██████████| 157/157 [00:15<00:00,  9.86it/s]"
     ]
    },
    {
     "name": "stdout",
     "output_type": "stream",
     "text": [
      "2025-01-15 16:02:28,419 DEV : loss 0.40706175565719604 - f1-score (micro avg)  0.4971\n"
     ]
    },
    {
     "name": "stderr",
     "output_type": "stream",
     "text": [
      "\n"
     ]
    },
    {
     "name": "stdout",
     "output_type": "stream",
     "text": [
      "2025-01-15 16:02:28,675  - 0 epochs without improvement\n",
      "2025-01-15 16:02:28,676 saving best model\n",
      "2025-01-15 16:02:29,381 ----------------------------------------------------------------------------------------------------\n",
      "2025-01-15 16:02:31,714 epoch 11 - iter 62/625 - loss 0.45404413 - time (sec): 2.32 - samples/sec: 5091.60 - lr: 0.100000 - momentum: 0.000000\n",
      "2025-01-15 16:02:34,415 epoch 11 - iter 124/625 - loss 0.46519549 - time (sec): 5.03 - samples/sec: 4724.75 - lr: 0.100000 - momentum: 0.000000\n",
      "2025-01-15 16:02:36,259 epoch 11 - iter 186/625 - loss 0.47035745 - time (sec): 6.87 - samples/sec: 5166.03 - lr: 0.100000 - momentum: 0.000000\n",
      "2025-01-15 16:02:38,078 epoch 11 - iter 248/625 - loss 0.47022268 - time (sec): 8.69 - samples/sec: 5467.02 - lr: 0.100000 - momentum: 0.000000\n",
      "2025-01-15 16:02:39,896 epoch 11 - iter 310/625 - loss 0.47291577 - time (sec): 10.51 - samples/sec: 5657.56 - lr: 0.100000 - momentum: 0.000000\n",
      "2025-01-15 16:02:41,680 epoch 11 - iter 372/625 - loss 0.47369805 - time (sec): 12.29 - samples/sec: 5791.26 - lr: 0.100000 - momentum: 0.000000\n",
      "2025-01-15 16:02:43,817 epoch 11 - iter 434/625 - loss 0.47465051 - time (sec): 14.43 - samples/sec: 5780.74 - lr: 0.100000 - momentum: 0.000000\n",
      "2025-01-15 16:02:46,631 epoch 11 - iter 496/625 - loss 0.47662247 - time (sec): 17.24 - samples/sec: 5518.16 - lr: 0.100000 - momentum: 0.000000\n",
      "2025-01-15 16:02:48,505 epoch 11 - iter 558/625 - loss 0.47570272 - time (sec): 19.12 - samples/sec: 5609.42 - lr: 0.100000 - momentum: 0.000000\n",
      "2025-01-15 16:02:50,269 epoch 11 - iter 620/625 - loss 0.47687090 - time (sec): 20.88 - samples/sec: 5682.98 - lr: 0.100000 - momentum: 0.000000\n",
      "2025-01-15 16:02:50,407 ----------------------------------------------------------------------------------------------------\n",
      "2025-01-15 16:02:50,408 EPOCH 11 done: loss 0.4769 - lr: 0.100000\n"
     ]
    },
    {
     "name": "stderr",
     "output_type": "stream",
     "text": [
      "100%|██████████| 157/157 [00:16<00:00,  9.60it/s]"
     ]
    },
    {
     "name": "stdout",
     "output_type": "stream",
     "text": [
      "2025-01-15 16:03:06,898 DEV : loss 0.4111945331096649 - f1-score (micro avg)  0.4967\n"
     ]
    },
    {
     "name": "stderr",
     "output_type": "stream",
     "text": [
      "\n"
     ]
    },
    {
     "name": "stdout",
     "output_type": "stream",
     "text": [
      "2025-01-15 16:03:07,139  - 1 epochs without improvement\n",
      "2025-01-15 16:03:07,140 ----------------------------------------------------------------------------------------------------\n",
      "2025-01-15 16:03:09,216 epoch 12 - iter 62/625 - loss 0.49141685 - time (sec): 2.07 - samples/sec: 5790.98 - lr: 0.100000 - momentum: 0.000000\n",
      "2025-01-15 16:03:11,604 epoch 12 - iter 124/625 - loss 0.48715547 - time (sec): 4.46 - samples/sec: 5286.73 - lr: 0.100000 - momentum: 0.000000\n",
      "2025-01-15 16:03:13,838 epoch 12 - iter 186/625 - loss 0.48343010 - time (sec): 6.70 - samples/sec: 5265.10 - lr: 0.100000 - momentum: 0.000000\n",
      "2025-01-15 16:03:15,561 epoch 12 - iter 248/625 - loss 0.48067578 - time (sec): 8.42 - samples/sec: 5574.48 - lr: 0.100000 - momentum: 0.000000\n",
      "2025-01-15 16:03:17,467 epoch 12 - iter 310/625 - loss 0.47531307 - time (sec): 10.32 - samples/sec: 5728.53 - lr: 0.100000 - momentum: 0.000000\n",
      "2025-01-15 16:03:19,235 epoch 12 - iter 372/625 - loss 0.47410198 - time (sec): 12.09 - samples/sec: 5880.20 - lr: 0.100000 - momentum: 0.000000\n",
      "2025-01-15 16:03:21,345 epoch 12 - iter 434/625 - loss 0.47610168 - time (sec): 14.20 - samples/sec: 5849.81 - lr: 0.100000 - momentum: 0.000000\n",
      "2025-01-15 16:03:23,259 epoch 12 - iter 496/625 - loss 0.47429107 - time (sec): 16.12 - samples/sec: 5888.29 - lr: 0.100000 - momentum: 0.000000\n",
      "2025-01-15 16:03:25,916 epoch 12 - iter 558/625 - loss 0.47519691 - time (sec): 18.77 - samples/sec: 5660.86 - lr: 0.100000 - momentum: 0.000000\n",
      "2025-01-15 16:03:27,906 epoch 12 - iter 620/625 - loss 0.47244989 - time (sec): 20.76 - samples/sec: 5705.67 - lr: 0.100000 - momentum: 0.000000\n",
      "2025-01-15 16:03:28,075 ----------------------------------------------------------------------------------------------------\n",
      "2025-01-15 16:03:28,077 EPOCH 12 done: loss 0.4725 - lr: 0.100000\n"
     ]
    },
    {
     "name": "stderr",
     "output_type": "stream",
     "text": [
      "100%|██████████| 157/157 [00:16<00:00,  9.68it/s]"
     ]
    },
    {
     "name": "stdout",
     "output_type": "stream",
     "text": [
      "2025-01-15 16:03:44,450 DEV : loss 0.40437719225883484 - f1-score (micro avg)  0.492\n"
     ]
    },
    {
     "name": "stderr",
     "output_type": "stream",
     "text": [
      "\n"
     ]
    },
    {
     "name": "stdout",
     "output_type": "stream",
     "text": [
      "2025-01-15 16:03:44,776  - 2 epochs without improvement\n",
      "2025-01-15 16:03:44,777 ----------------------------------------------------------------------------------------------------\n",
      "2025-01-15 16:03:46,658 epoch 13 - iter 62/625 - loss 0.45910905 - time (sec): 1.88 - samples/sec: 6140.70 - lr: 0.100000 - momentum: 0.000000\n",
      "2025-01-15 16:03:48,725 epoch 13 - iter 124/625 - loss 0.46336800 - time (sec): 3.94 - samples/sec: 5915.27 - lr: 0.100000 - momentum: 0.000000\n",
      "2025-01-15 16:03:51,547 epoch 13 - iter 186/625 - loss 0.46781574 - time (sec): 6.77 - samples/sec: 5218.95 - lr: 0.100000 - momentum: 0.000000\n",
      "2025-01-15 16:03:53,291 epoch 13 - iter 248/625 - loss 0.46440935 - time (sec): 8.51 - samples/sec: 5527.59 - lr: 0.100000 - momentum: 0.000000\n",
      "2025-01-15 16:03:55,378 epoch 13 - iter 310/625 - loss 0.46907529 - time (sec): 10.60 - samples/sec: 5593.00 - lr: 0.100000 - momentum: 0.000000\n",
      "2025-01-15 16:03:57,175 epoch 13 - iter 372/625 - loss 0.47079906 - time (sec): 12.39 - samples/sec: 5725.51 - lr: 0.100000 - momentum: 0.000000\n",
      "2025-01-15 16:03:59,030 epoch 13 - iter 434/625 - loss 0.46979028 - time (sec): 14.25 - samples/sec: 5814.57 - lr: 0.100000 - momentum: 0.000000\n",
      "2025-01-15 16:04:00,931 epoch 13 - iter 496/625 - loss 0.46751330 - time (sec): 16.15 - samples/sec: 5883.94 - lr: 0.100000 - momentum: 0.000000\n",
      "2025-01-15 16:04:03,438 epoch 13 - iter 558/625 - loss 0.46655083 - time (sec): 18.66 - samples/sec: 5719.59 - lr: 0.100000 - momentum: 0.000000\n",
      "2025-01-15 16:04:05,611 epoch 13 - iter 620/625 - loss 0.46752287 - time (sec): 20.83 - samples/sec: 5697.62 - lr: 0.100000 - momentum: 0.000000\n",
      "2025-01-15 16:04:05,742 ----------------------------------------------------------------------------------------------------\n",
      "2025-01-15 16:04:05,743 EPOCH 13 done: loss 0.4677 - lr: 0.100000\n"
     ]
    },
    {
     "name": "stderr",
     "output_type": "stream",
     "text": [
      "100%|██████████| 157/157 [00:14<00:00, 10.74it/s]"
     ]
    },
    {
     "name": "stdout",
     "output_type": "stream",
     "text": [
      "2025-01-15 16:04:20,518 DEV : loss 0.41096049547195435 - f1-score (micro avg)  0.4926\n"
     ]
    },
    {
     "name": "stderr",
     "output_type": "stream",
     "text": [
      "\n"
     ]
    },
    {
     "name": "stdout",
     "output_type": "stream",
     "text": [
      "2025-01-15 16:04:20,770  - 3 epochs without improvement\n",
      "2025-01-15 16:04:20,772 ----------------------------------------------------------------------------------------------------\n",
      "2025-01-15 16:04:22,683 epoch 14 - iter 62/625 - loss 0.46416538 - time (sec): 1.91 - samples/sec: 6343.27 - lr: 0.100000 - momentum: 0.000000\n",
      "2025-01-15 16:04:24,487 epoch 14 - iter 124/625 - loss 0.46443340 - time (sec): 3.71 - samples/sec: 6416.97 - lr: 0.100000 - momentum: 0.000000\n",
      "2025-01-15 16:04:26,406 epoch 14 - iter 186/625 - loss 0.46810074 - time (sec): 5.63 - samples/sec: 6392.36 - lr: 0.100000 - momentum: 0.000000\n",
      "2025-01-15 16:04:28,761 epoch 14 - iter 248/625 - loss 0.46782827 - time (sec): 7.99 - samples/sec: 5975.20 - lr: 0.100000 - momentum: 0.000000\n",
      "2025-01-15 16:04:31,406 epoch 14 - iter 310/625 - loss 0.46856936 - time (sec): 10.63 - samples/sec: 5632.60 - lr: 0.100000 - momentum: 0.000000\n",
      "2025-01-15 16:04:33,324 epoch 14 - iter 372/625 - loss 0.46733992 - time (sec): 12.55 - samples/sec: 5711.10 - lr: 0.100000 - momentum: 0.000000\n",
      "2025-01-15 16:04:35,078 epoch 14 - iter 434/625 - loss 0.46621606 - time (sec): 14.30 - samples/sec: 5826.42 - lr: 0.100000 - momentum: 0.000000\n",
      "2025-01-15 16:04:36,884 epoch 14 - iter 496/625 - loss 0.46445678 - time (sec): 16.11 - samples/sec: 5914.62 - lr: 0.100000 - momentum: 0.000000\n",
      "2025-01-15 16:04:38,639 epoch 14 - iter 558/625 - loss 0.46545922 - time (sec): 17.87 - samples/sec: 5979.62 - lr: 0.100000 - momentum: 0.000000\n",
      "2025-01-15 16:04:40,791 epoch 14 - iter 620/625 - loss 0.46467600 - time (sec): 20.02 - samples/sec: 5926.80 - lr: 0.100000 - momentum: 0.000000\n",
      "2025-01-15 16:04:40,964 ----------------------------------------------------------------------------------------------------\n",
      "2025-01-15 16:04:40,969 EPOCH 14 done: loss 0.4646 - lr: 0.100000\n"
     ]
    },
    {
     "name": "stderr",
     "output_type": "stream",
     "text": [
      "100%|██████████| 157/157 [00:16<00:00,  9.40it/s]\n"
     ]
    },
    {
     "name": "stdout",
     "output_type": "stream",
     "text": [
      "2025-01-15 16:04:57,833 DEV : loss 0.40268123149871826 - f1-score (micro avg)  0.4939\n",
      "2025-01-15 16:04:58,074  - 4 epochs without improvement (above 'patience')-> annealing learning_rate to [0.05]\n",
      "2025-01-15 16:04:58,076 ----------------------------------------------------------------------------------------------------\n",
      "2025-01-15 16:04:59,924 epoch 15 - iter 62/625 - loss 0.45948631 - time (sec): 1.84 - samples/sec: 6233.28 - lr: 0.050000 - momentum: 0.000000\n",
      "2025-01-15 16:05:01,791 epoch 15 - iter 124/625 - loss 0.45344579 - time (sec): 3.71 - samples/sec: 6355.07 - lr: 0.050000 - momentum: 0.000000\n",
      "2025-01-15 16:05:03,805 epoch 15 - iter 186/625 - loss 0.45324535 - time (sec): 5.73 - samples/sec: 6171.46 - lr: 0.050000 - momentum: 0.000000\n",
      "2025-01-15 16:05:05,883 epoch 15 - iter 248/625 - loss 0.45010945 - time (sec): 7.80 - samples/sec: 6077.80 - lr: 0.050000 - momentum: 0.000000\n",
      "2025-01-15 16:05:08,769 epoch 15 - iter 310/625 - loss 0.44882748 - time (sec): 10.69 - samples/sec: 5581.86 - lr: 0.050000 - momentum: 0.000000\n",
      "2025-01-15 16:05:10,626 epoch 15 - iter 372/625 - loss 0.44833809 - time (sec): 12.55 - samples/sec: 5690.58 - lr: 0.050000 - momentum: 0.000000\n",
      "2025-01-15 16:05:12,451 epoch 15 - iter 434/625 - loss 0.44807454 - time (sec): 14.37 - samples/sec: 5776.42 - lr: 0.050000 - momentum: 0.000000\n",
      "2025-01-15 16:05:14,229 epoch 15 - iter 496/625 - loss 0.44735777 - time (sec): 16.15 - samples/sec: 5867.04 - lr: 0.050000 - momentum: 0.000000\n",
      "2025-01-15 16:05:16,393 epoch 15 - iter 558/625 - loss 0.44691525 - time (sec): 18.31 - samples/sec: 5830.13 - lr: 0.050000 - momentum: 0.000000\n",
      "2025-01-15 16:05:18,218 epoch 15 - iter 620/625 - loss 0.44734650 - time (sec): 20.14 - samples/sec: 5886.76 - lr: 0.050000 - momentum: 0.000000\n",
      "2025-01-15 16:05:18,373 ----------------------------------------------------------------------------------------------------\n",
      "2025-01-15 16:05:18,375 EPOCH 15 done: loss 0.4475 - lr: 0.050000\n"
     ]
    },
    {
     "name": "stderr",
     "output_type": "stream",
     "text": [
      "100%|██████████| 157/157 [00:17<00:00,  9.03it/s]\n"
     ]
    },
    {
     "name": "stdout",
     "output_type": "stream",
     "text": [
      "2025-01-15 16:05:35,910 DEV : loss 0.38622841238975525 - f1-score (micro avg)  0.5115\n",
      "2025-01-15 16:05:36,199  - 0 epochs without improvement\n",
      "2025-01-15 16:05:36,202 saving best model\n",
      "2025-01-15 16:05:36,959 ----------------------------------------------------------------------------------------------------\n",
      "2025-01-15 16:05:39,011 epoch 16 - iter 62/625 - loss 0.42203457 - time (sec): 2.05 - samples/sec: 5984.22 - lr: 0.050000 - momentum: 0.000000\n",
      "2025-01-15 16:05:41,150 epoch 16 - iter 124/625 - loss 0.43606625 - time (sec): 4.19 - samples/sec: 5766.33 - lr: 0.050000 - momentum: 0.000000\n",
      "2025-01-15 16:05:43,011 epoch 16 - iter 186/625 - loss 0.43746460 - time (sec): 6.05 - samples/sec: 5958.64 - lr: 0.050000 - momentum: 0.000000\n",
      "2025-01-15 16:05:44,912 epoch 16 - iter 248/625 - loss 0.43886559 - time (sec): 7.95 - samples/sec: 6035.96 - lr: 0.050000 - momentum: 0.000000\n",
      "2025-01-15 16:05:47,594 epoch 16 - iter 310/625 - loss 0.43969444 - time (sec): 10.63 - samples/sec: 5615.42 - lr: 0.050000 - momentum: 0.000000\n",
      "2025-01-15 16:05:49,371 epoch 16 - iter 372/625 - loss 0.44064895 - time (sec): 12.41 - samples/sec: 5771.16 - lr: 0.050000 - momentum: 0.000000\n",
      "2025-01-15 16:05:51,145 epoch 16 - iter 434/625 - loss 0.44208980 - time (sec): 14.18 - samples/sec: 5870.23 - lr: 0.050000 - momentum: 0.000000\n",
      "2025-01-15 16:05:52,883 epoch 16 - iter 496/625 - loss 0.44165686 - time (sec): 15.92 - samples/sec: 5965.50 - lr: 0.050000 - momentum: 0.000000\n",
      "2025-01-15 16:05:54,769 epoch 16 - iter 558/625 - loss 0.44086387 - time (sec): 17.81 - samples/sec: 5996.77 - lr: 0.050000 - momentum: 0.000000\n",
      "2025-01-15 16:05:56,661 epoch 16 - iter 620/625 - loss 0.44054816 - time (sec): 19.70 - samples/sec: 6016.83 - lr: 0.050000 - momentum: 0.000000\n",
      "2025-01-15 16:05:56,859 ----------------------------------------------------------------------------------------------------\n",
      "2025-01-15 16:05:56,860 EPOCH 16 done: loss 0.4404 - lr: 0.050000\n"
     ]
    },
    {
     "name": "stderr",
     "output_type": "stream",
     "text": [
      "100%|██████████| 157/157 [00:17<00:00,  9.08it/s]\n"
     ]
    },
    {
     "name": "stdout",
     "output_type": "stream",
     "text": [
      "2025-01-15 16:06:14,309 DEV : loss 0.391145259141922 - f1-score (micro avg)  0.5082\n",
      "2025-01-15 16:06:14,548  - 1 epochs without improvement\n",
      "2025-01-15 16:06:14,550 ----------------------------------------------------------------------------------------------------\n",
      "2025-01-15 16:06:16,449 epoch 17 - iter 62/625 - loss 0.44673973 - time (sec): 1.90 - samples/sec: 6296.16 - lr: 0.050000 - momentum: 0.000000\n",
      "2025-01-15 16:06:18,297 epoch 17 - iter 124/625 - loss 0.44519492 - time (sec): 3.74 - samples/sec: 6359.89 - lr: 0.050000 - momentum: 0.000000\n",
      "2025-01-15 16:06:20,079 epoch 17 - iter 186/625 - loss 0.44303448 - time (sec): 5.53 - samples/sec: 6391.37 - lr: 0.050000 - momentum: 0.000000\n",
      "2025-01-15 16:06:22,054 epoch 17 - iter 248/625 - loss 0.44094188 - time (sec): 7.50 - samples/sec: 6299.31 - lr: 0.050000 - momentum: 0.000000\n",
      "2025-01-15 16:06:24,648 epoch 17 - iter 310/625 - loss 0.44276660 - time (sec): 10.10 - samples/sec: 5887.06 - lr: 0.050000 - momentum: 0.000000\n",
      "2025-01-15 16:06:26,993 epoch 17 - iter 372/625 - loss 0.44210321 - time (sec): 12.44 - samples/sec: 5753.52 - lr: 0.050000 - momentum: 0.000000\n",
      "2025-01-15 16:06:28,940 epoch 17 - iter 434/625 - loss 0.44267942 - time (sec): 14.39 - samples/sec: 5806.29 - lr: 0.050000 - momentum: 0.000000\n",
      "2025-01-15 16:06:30,652 epoch 17 - iter 496/625 - loss 0.44123248 - time (sec): 16.10 - samples/sec: 5905.43 - lr: 0.050000 - momentum: 0.000000\n",
      "2025-01-15 16:06:32,510 epoch 17 - iter 558/625 - loss 0.43937513 - time (sec): 17.96 - samples/sec: 5951.32 - lr: 0.050000 - momentum: 0.000000\n",
      "2025-01-15 16:06:34,350 epoch 17 - iter 620/625 - loss 0.43947207 - time (sec): 19.80 - samples/sec: 5987.09 - lr: 0.050000 - momentum: 0.000000\n",
      "2025-01-15 16:06:34,509 ----------------------------------------------------------------------------------------------------\n",
      "2025-01-15 16:06:34,510 EPOCH 17 done: loss 0.4394 - lr: 0.050000\n"
     ]
    },
    {
     "name": "stderr",
     "output_type": "stream",
     "text": [
      "100%|██████████| 157/157 [00:17<00:00,  9.01it/s]"
     ]
    },
    {
     "name": "stdout",
     "output_type": "stream",
     "text": [
      "2025-01-15 16:06:52,082 DEV : loss 0.3819618821144104 - f1-score (micro avg)  0.5162\n"
     ]
    },
    {
     "name": "stderr",
     "output_type": "stream",
     "text": [
      "\n"
     ]
    },
    {
     "name": "stdout",
     "output_type": "stream",
     "text": [
      "2025-01-15 16:06:52,340  - 0 epochs without improvement\n",
      "2025-01-15 16:06:52,344 saving best model\n",
      "2025-01-15 16:06:53,108 ----------------------------------------------------------------------------------------------------\n",
      "2025-01-15 16:06:54,999 epoch 18 - iter 62/625 - loss 0.42466227 - time (sec): 1.89 - samples/sec: 6298.39 - lr: 0.050000 - momentum: 0.000000\n",
      "2025-01-15 16:06:56,925 epoch 18 - iter 124/625 - loss 0.43014238 - time (sec): 3.81 - samples/sec: 6269.91 - lr: 0.050000 - momentum: 0.000000\n",
      "2025-01-15 16:06:58,998 epoch 18 - iter 186/625 - loss 0.43623027 - time (sec): 5.89 - samples/sec: 6088.11 - lr: 0.050000 - momentum: 0.000000\n",
      "2025-01-15 16:07:00,790 epoch 18 - iter 248/625 - loss 0.43473150 - time (sec): 7.68 - samples/sec: 6186.37 - lr: 0.050000 - momentum: 0.000000\n",
      "2025-01-15 16:07:02,923 epoch 18 - iter 310/625 - loss 0.43545029 - time (sec): 9.81 - samples/sec: 6017.03 - lr: 0.050000 - momentum: 0.000000\n",
      "2025-01-15 16:07:05,485 epoch 18 - iter 372/625 - loss 0.43638264 - time (sec): 12.37 - samples/sec: 5715.37 - lr: 0.050000 - momentum: 0.000000\n",
      "2025-01-15 16:07:07,401 epoch 18 - iter 434/625 - loss 0.43726055 - time (sec): 14.29 - samples/sec: 5794.89 - lr: 0.050000 - momentum: 0.000000\n",
      "2025-01-15 16:07:09,177 epoch 18 - iter 496/625 - loss 0.43767157 - time (sec): 16.07 - samples/sec: 5891.74 - lr: 0.050000 - momentum: 0.000000\n",
      "2025-01-15 16:07:11,004 epoch 18 - iter 558/625 - loss 0.43564177 - time (sec): 17.89 - samples/sec: 5952.29 - lr: 0.050000 - momentum: 0.000000\n",
      "2025-01-15 16:07:13,104 epoch 18 - iter 620/625 - loss 0.43703965 - time (sec): 19.99 - samples/sec: 5931.26 - lr: 0.050000 - momentum: 0.000000\n",
      "2025-01-15 16:07:13,248 ----------------------------------------------------------------------------------------------------\n",
      "2025-01-15 16:07:13,249 EPOCH 18 done: loss 0.4370 - lr: 0.050000\n"
     ]
    },
    {
     "name": "stderr",
     "output_type": "stream",
     "text": [
      "100%|██████████| 157/157 [00:17<00:00,  9.06it/s]\n"
     ]
    },
    {
     "name": "stdout",
     "output_type": "stream",
     "text": [
      "2025-01-15 16:07:30,779 DEV : loss 0.37962502241134644 - f1-score (micro avg)  0.5173\n",
      "2025-01-15 16:07:31,075  - 0 epochs without improvement\n",
      "2025-01-15 16:07:31,077 saving best model\n",
      "2025-01-15 16:07:31,850 ----------------------------------------------------------------------------------------------------\n",
      "2025-01-15 16:07:33,777 epoch 19 - iter 62/625 - loss 0.43170490 - time (sec): 1.92 - samples/sec: 6230.97 - lr: 0.050000 - momentum: 0.000000\n",
      "2025-01-15 16:07:35,710 epoch 19 - iter 124/625 - loss 0.43085669 - time (sec): 3.86 - samples/sec: 6184.98 - lr: 0.050000 - momentum: 0.000000\n",
      "2025-01-15 16:07:37,648 epoch 19 - iter 186/625 - loss 0.43443414 - time (sec): 5.80 - samples/sec: 6129.98 - lr: 0.050000 - momentum: 0.000000\n",
      "2025-01-15 16:07:39,717 epoch 19 - iter 248/625 - loss 0.43548627 - time (sec): 7.86 - samples/sec: 6023.20 - lr: 0.050000 - momentum: 0.000000\n",
      "2025-01-15 16:07:41,896 epoch 19 - iter 310/625 - loss 0.43527609 - time (sec): 10.04 - samples/sec: 5867.75 - lr: 0.050000 - momentum: 0.000000\n",
      "2025-01-15 16:07:44,367 epoch 19 - iter 372/625 - loss 0.43435953 - time (sec): 12.51 - samples/sec: 5650.95 - lr: 0.050000 - momentum: 0.000000\n",
      "2025-01-15 16:07:46,233 epoch 19 - iter 434/625 - loss 0.43527113 - time (sec): 14.38 - samples/sec: 5735.80 - lr: 0.050000 - momentum: 0.000000\n",
      "2025-01-15 16:07:48,275 epoch 19 - iter 496/625 - loss 0.43703884 - time (sec): 16.42 - samples/sec: 5763.95 - lr: 0.050000 - momentum: 0.000000\n",
      "2025-01-15 16:07:50,225 epoch 19 - iter 558/625 - loss 0.43572602 - time (sec): 18.37 - samples/sec: 5816.70 - lr: 0.050000 - momentum: 0.000000\n",
      "2025-01-15 16:07:52,040 epoch 19 - iter 620/625 - loss 0.43564438 - time (sec): 20.19 - samples/sec: 5870.20 - lr: 0.050000 - momentum: 0.000000\n",
      "2025-01-15 16:07:52,195 ----------------------------------------------------------------------------------------------------\n",
      "2025-01-15 16:07:52,197 EPOCH 19 done: loss 0.4353 - lr: 0.050000\n"
     ]
    },
    {
     "name": "stderr",
     "output_type": "stream",
     "text": [
      "100%|██████████| 157/157 [00:17<00:00,  9.09it/s]"
     ]
    },
    {
     "name": "stdout",
     "output_type": "stream",
     "text": [
      "2025-01-15 16:08:09,610 DEV : loss 0.3833804726600647 - f1-score (micro avg)  0.5166\n"
     ]
    },
    {
     "name": "stderr",
     "output_type": "stream",
     "text": [
      "\n"
     ]
    },
    {
     "name": "stdout",
     "output_type": "stream",
     "text": [
      "2025-01-15 16:08:09,865  - 1 epochs without improvement\n",
      "2025-01-15 16:08:09,867 ----------------------------------------------------------------------------------------------------\n",
      "2025-01-15 16:08:11,680 epoch 20 - iter 62/625 - loss 0.42503985 - time (sec): 1.81 - samples/sec: 6500.91 - lr: 0.050000 - momentum: 0.000000\n",
      "2025-01-15 16:08:13,693 epoch 20 - iter 124/625 - loss 0.43571868 - time (sec): 3.82 - samples/sec: 6256.05 - lr: 0.050000 - momentum: 0.000000\n",
      "2025-01-15 16:08:15,692 epoch 20 - iter 186/625 - loss 0.43537718 - time (sec): 5.82 - samples/sec: 6187.00 - lr: 0.050000 - momentum: 0.000000\n",
      "2025-01-15 16:08:17,735 epoch 20 - iter 248/625 - loss 0.43653164 - time (sec): 7.87 - samples/sec: 6091.10 - lr: 0.050000 - momentum: 0.000000\n",
      "2025-01-15 16:08:19,728 epoch 20 - iter 310/625 - loss 0.43701938 - time (sec): 9.86 - samples/sec: 6065.90 - lr: 0.050000 - momentum: 0.000000\n",
      "2025-01-15 16:08:22,389 epoch 20 - iter 372/625 - loss 0.43433251 - time (sec): 12.52 - samples/sec: 5726.44 - lr: 0.050000 - momentum: 0.000000\n",
      "2025-01-15 16:08:24,232 epoch 20 - iter 434/625 - loss 0.43434759 - time (sec): 14.36 - samples/sec: 5816.67 - lr: 0.050000 - momentum: 0.000000\n",
      "2025-01-15 16:08:25,957 epoch 20 - iter 496/625 - loss 0.43425245 - time (sec): 16.09 - samples/sec: 5904.14 - lr: 0.050000 - momentum: 0.000000\n",
      "2025-01-15 16:08:27,828 epoch 20 - iter 558/625 - loss 0.43484918 - time (sec): 17.96 - samples/sec: 5946.21 - lr: 0.050000 - momentum: 0.000000\n",
      "2025-01-15 16:08:29,629 epoch 20 - iter 620/625 - loss 0.43442219 - time (sec): 19.76 - samples/sec: 6004.43 - lr: 0.050000 - momentum: 0.000000\n",
      "2025-01-15 16:08:29,752 ----------------------------------------------------------------------------------------------------\n",
      "2025-01-15 16:08:29,754 EPOCH 20 done: loss 0.4347 - lr: 0.050000\n"
     ]
    },
    {
     "name": "stderr",
     "output_type": "stream",
     "text": [
      "100%|██████████| 157/157 [00:16<00:00,  9.35it/s]\n"
     ]
    },
    {
     "name": "stdout",
     "output_type": "stream",
     "text": [
      "2025-01-15 16:08:46,775 DEV : loss 0.37877851724624634 - f1-score (micro avg)  0.5215\n",
      "2025-01-15 16:08:47,173  - 0 epochs without improvement\n",
      "2025-01-15 16:08:47,178 saving best model\n",
      "2025-01-15 16:08:49,131 ----------------------------------------------------------------------------------------------------\n",
      "2025-01-15 16:08:49,137 Loading model from best epoch ...\n",
      "2025-01-15 16:08:49,797 SequenceTagger predicts: Dictionary with 15 tags: O, S-ORG, B-ORG, E-ORG, I-ORG, S-PER, B-PER, E-PER, I-PER, S-LOC, B-LOC, E-LOC, I-LOC, <START>, <STOP>\n"
     ]
    },
    {
     "name": "stderr",
     "output_type": "stream",
     "text": [
      "100%|██████████| 157/157 [00:12<00:00, 12.78it/s]\n"
     ]
    },
    {
     "name": "stdout",
     "output_type": "stream",
     "text": [
      "2025-01-15 16:09:02,319 \n",
      "Results:\n",
      "- F-score (micro) 0.5088\n",
      "- F-score (macro) 0.5078\n",
      "- Accuracy 0.3551\n",
      "\n",
      "By class:\n",
      "              precision    recall  f1-score   support\n",
      "\n",
      "         PER     0.5392    0.5907    0.5638      3931\n",
      "         ORG     0.4773    0.3629    0.4123      4321\n",
      "         LOC     0.5645    0.5311    0.5473      3775\n",
      "\n",
      "   micro avg     0.5290    0.4901    0.5088     12027\n",
      "   macro avg     0.5270    0.4949    0.5078     12027\n",
      "weighted avg     0.5249    0.4901    0.5042     12027\n",
      "\n",
      "2025-01-15 16:09:02,321 ----------------------------------------------------------------------------------------------------\n"
     ]
    },
    {
     "data": {
      "text/plain": [
       "{'test_score': 0.5088476478204574}"
      ]
     },
     "execution_count": 27,
     "metadata": {},
     "output_type": "execute_result"
    }
   ],
   "source": [
    "# 4. Training\n",
    "trainer = ModelTrainer(tagger, corpus)\n",
    "\n",
    "trainer.train(\n",
    "    base_path='./output',         # Speicherort für Modell und Logs\n",
    "    learning_rate=0.1,            # Lernrate\n",
    "    mini_batch_size=32,           # Batch-Größe\n",
    "    max_epochs=20,                # Maximale Anzahl an Epochen\n",
    "    embeddings_storage_mode='gpu' if torch.cuda.is_available() else 'cpu'  # Effiziente Speicherung\n",
    ")\n"
   ]
  },
  {
   "cell_type": "code",
   "execution_count": 29,
   "metadata": {
    "colab": {
     "base_uri": "https://localhost:8080/",
     "height": 1000
    },
    "id": "0OuEcd-WvBiT",
    "outputId": "0588a29a-fb08-4f8a-9159-95b8dfa44e97"
   },
   "outputs": [
    {
     "name": "stdout",
     "output_type": "stream",
     "text": [
      "2025-01-15 16:11:58,998 ----------------------------------------------------------------------------------------------------\n",
      "2025-01-15 16:11:59,000 WARNING: No LOSS found for test split in this data.\n",
      "2025-01-15 16:11:59,001 Are you sure you want to plot LOSS and not another value?\n",
      "2025-01-15 16:11:59,002 ----------------------------------------------------------------------------------------------------\n",
      "2025-01-15 16:11:59,019 ----------------------------------------------------------------------------------------------------\n",
      "2025-01-15 16:11:59,020 WARNING: No F1 found for test split in this data.\n",
      "2025-01-15 16:11:59,023 Are you sure you want to plot F1 and not another value?\n",
      "2025-01-15 16:11:59,024 ----------------------------------------------------------------------------------------------------\n",
      "2025-01-15 16:12:00,184 Loss and F1 plots are saved in output/training.png\n"
     ]
    },
    {
     "data": {
      "image/png": "[encoded data removed]",
      "text/plain": [
       "<Figure size 1500x1000 with 2 Axes>"
      ]
     },
     "metadata": {},
     "output_type": "display_data"
    }
   ],
   "source": [
    "# 5. Visualisierung der Trainingsergebnisse (optional)\n",
    "from flair.visual.training_curves import Plotter\n",
    "\n",
    "plotter = Plotter()\n",
    "plotter.plot_training_curves('./output/loss.tsv')  # Verlustkurve ohne Gewichtsdaten\n"
   ]
  },
  {
   "cell_type": "code",
   "execution_count": 33,
   "metadata": {
    "colab": {
     "base_uri": "https://localhost:8080/"
    },
    "id": "EtakGQ3Qruir",
    "outputId": "3a8f27e9-09c7-4536-b7ff-ce6b133fcfab"
   },
   "outputs": [
    {
     "name": "stderr",
     "output_type": "stream",
     "text": [
      "100%|██████████| 313/313 [00:19<00:00, 16.47it/s]\n"
     ]
    }
   ],
   "source": [
    "# 6. Evaluierung\n",
    "evaluation_result = tagger.evaluate(corpus.test, out_path=\"./output/test_results.txt\", gold_label_type='ner')\n"
   ]
  },
  {
   "cell_type": "code",
   "execution_count": 40,
   "metadata": {
    "colab": {
     "base_uri": "https://localhost:8080/"
    },
    "id": "2cIbRhFgwgxb",
    "outputId": "fb75e3d5-e459-4401-b4fd-ec2bced8dba1"
   },
   "outputs": [
    {
     "name": "stdout",
     "output_type": "stream",
     "text": [
      "\n",
      "Results:\n",
      "- F-score (micro) 0.5088\n",
      "- F-score (macro) 0.5078\n",
      "- Accuracy 0.3551\n",
      "\n",
      "By class:\n",
      "              precision    recall  f1-score   support\n",
      "\n",
      "         PER     0.5392    0.5907    0.5638      3931\n",
      "         ORG     0.4773    0.3629    0.4123      4321\n",
      "         LOC     0.5645    0.5311    0.5473      3775\n",
      "\n",
      "   micro avg     0.5290    0.4901    0.5088     12027\n",
      "   macro avg     0.5270    0.4949    0.5078     12027\n",
      "weighted avg     0.5249    0.4901    0.5042     12027\n",
      "\n"
     ]
    }
   ],
   "source": [
    "# Drucke den Klassifikationsbericht\n",
    "print(evaluation_result.detailed_results)\n"
   ]
  },
  {
   "cell_type": "code",
   "execution_count": 1,
   "metadata": {},
   "outputs": [
    {
     "name": "stdout",
     "output_type": "stream",
     "text": [
      "Defaulting to user installation because normal site-packages is not writeable\n",
      "Requirement already satisfied: flair in ./.local/lib/python3.11/site-packages (0.15.0)\n",
      "Requirement already satisfied: boto3>=1.20.27 in ./.local/lib/python3.11/site-packages (from flair) (1.36.2)\n",
      "Requirement already satisfied: conllu<5.0.0,>=4.0 in ./.local/lib/python3.11/site-packages (from flair) (4.5.3)\n",
      "Requirement already satisfied: deprecated>=1.2.13 in ./.local/lib/python3.11/site-packages (from flair) (1.2.15)\n",
      "Requirement already satisfied: ftfy>=6.1.0 in ./.local/lib/python3.11/site-packages (from flair) (6.3.1)\n",
      "Requirement already satisfied: gdown>=4.4.0 in ./.local/lib/python3.11/site-packages (from flair) (5.2.0)\n",
      "Requirement already satisfied: huggingface-hub>=0.10.0 in ./.local/lib/python3.11/site-packages (from flair) (0.26.5)\n",
      "Requirement already satisfied: langdetect>=1.0.9 in ./.local/lib/python3.11/site-packages (from flair) (1.0.9)\n",
      "Requirement already satisfied: lxml>=4.8.0 in /software.9/software/Anaconda3/2024.02-1/lib/python3.11/site-packages (from flair) (4.9.3)\n",
      "Requirement already satisfied: matplotlib>=2.2.3 in /software.9/software/Anaconda3/2024.02-1/lib/python3.11/site-packages (from flair) (3.8.0)\n",
      "Requirement already satisfied: more-itertools>=8.13.0 in /software.9/software/Anaconda3/2024.02-1/lib/python3.11/site-packages (from flair) (10.1.0)\n",
      "Requirement already satisfied: mpld3>=0.3 in ./.local/lib/python3.11/site-packages (from flair) (0.5.10)\n",
      "Requirement already satisfied: pptree>=3.1 in ./.local/lib/python3.11/site-packages (from flair) (3.1)\n",
      "Requirement already satisfied: python-dateutil>=2.8.2 in /software.9/software/Anaconda3/2024.02-1/lib/python3.11/site-packages (from flair) (2.8.2)\n",
      "Requirement already satisfied: pytorch-revgrad>=0.2.0 in ./.local/lib/python3.11/site-packages (from flair) (0.2.0)\n",
      "Requirement already satisfied: regex>=2022.1.18 in /software.9/software/Anaconda3/2024.02-1/lib/python3.11/site-packages (from flair) (2023.10.3)\n",
      "Requirement already satisfied: scikit-learn>=1.0.2 in /software.9/software/Anaconda3/2024.02-1/lib/python3.11/site-packages (from flair) (1.2.2)\n",
      "Requirement already satisfied: segtok>=1.5.11 in ./.local/lib/python3.11/site-packages (from flair) (1.5.11)\n",
      "Requirement already satisfied: sqlitedict>=2.0.0 in ./.local/lib/python3.11/site-packages (from flair) (2.1.0)\n",
      "Requirement already satisfied: tabulate>=0.8.10 in /software.9/software/Anaconda3/2024.02-1/lib/python3.11/site-packages (from flair) (0.9.0)\n",
      "Requirement already satisfied: torch!=1.8,>=1.5.0 in ./.local/lib/python3.11/site-packages (from flair) (2.5.1+cpu)\n",
      "Requirement already satisfied: tqdm>=4.63.0 in ./.local/lib/python3.11/site-packages (from flair) (4.67.1)\n",
      "Requirement already satisfied: transformer-smaller-training-vocab>=0.2.3 in ./.local/lib/python3.11/site-packages (from flair) (0.4.0)\n",
      "Requirement already satisfied: transformers<5.0.0,>=4.25.0 in ./.local/lib/python3.11/site-packages (from transformers[sentencepiece]<5.0.0,>=4.25.0->flair) (4.47.1)\n",
      "Requirement already satisfied: wikipedia-api>=0.5.7 in ./.local/lib/python3.11/site-packages (from flair) (0.8.0)\n",
      "Requirement already satisfied: bioc<3.0.0,>=2.0.0 in ./.local/lib/python3.11/site-packages (from flair) (2.1)\n",
      "Requirement already satisfied: jsonlines>=1.2.0 in ./.local/lib/python3.11/site-packages (from bioc<3.0.0,>=2.0.0->flair) (4.0.0)\n",
      "Requirement already satisfied: intervaltree in /software.9/software/Anaconda3/2024.02-1/lib/python3.11/site-packages (from bioc<3.0.0,>=2.0.0->flair) (3.1.0)\n",
      "Requirement already satisfied: docopt in ./.local/lib/python3.11/site-packages (from bioc<3.0.0,>=2.0.0->flair) (0.6.2)\n",
      "Requirement already satisfied: botocore<1.37.0,>=1.36.2 in ./.local/lib/python3.11/site-packages (from boto3>=1.20.27->flair) (1.36.2)\n",
      "Requirement already satisfied: jmespath<2.0.0,>=0.7.1 in /software.9/software/Anaconda3/2024.02-1/lib/python3.11/site-packages (from boto3>=1.20.27->flair) (1.0.1)\n",
      "Requirement already satisfied: s3transfer<0.12.0,>=0.11.0 in ./.local/lib/python3.11/site-packages (from boto3>=1.20.27->flair) (0.11.1)\n",
      "Requirement already satisfied: wrapt<2,>=1.10 in /software.9/software/Anaconda3/2024.02-1/lib/python3.11/site-packages (from deprecated>=1.2.13->flair) (1.14.1)\n",
      "Requirement already satisfied: wcwidth in /software.9/software/Anaconda3/2024.02-1/lib/python3.11/site-packages (from ftfy>=6.1.0->flair) (0.2.5)\n",
      "Requirement already satisfied: beautifulsoup4 in /software.9/software/Anaconda3/2024.02-1/lib/python3.11/site-packages (from gdown>=4.4.0->flair) (4.12.2)\n",
      "Requirement already satisfied: filelock in /software.9/software/Anaconda3/2024.02-1/lib/python3.11/site-packages (from gdown>=4.4.0->flair) (3.13.1)\n",
      "Requirement already satisfied: requests[socks] in ./.local/lib/python3.11/site-packages (from gdown>=4.4.0->flair) (2.32.3)\n",
      "Requirement already satisfied: fsspec>=2023.5.0 in /software.9/software/Anaconda3/2024.02-1/lib/python3.11/site-packages (from huggingface-hub>=0.10.0->flair) (2023.10.0)\n",
      "Requirement already satisfied: packaging>=20.9 in /software.9/software/Anaconda3/2024.02-1/lib/python3.11/site-packages (from huggingface-hub>=0.10.0->flair) (23.1)\n",
      "Requirement already satisfied: pyyaml>=5.1 in /software.9/software/Anaconda3/2024.02-1/lib/python3.11/site-packages (from huggingface-hub>=0.10.0->flair) (6.0.1)\n",
      "Requirement already satisfied: typing-extensions>=3.7.4.3 in /software.9/software/Anaconda3/2024.02-1/lib/python3.11/site-packages (from huggingface-hub>=0.10.0->flair) (4.9.0)\n",
      "Requirement already satisfied: six in /software.9/software/Anaconda3/2024.02-1/lib/python3.11/site-packages (from langdetect>=1.0.9->flair) (1.16.0)\n",
      "Requirement already satisfied: contourpy>=1.0.1 in /software.9/software/Anaconda3/2024.02-1/lib/python3.11/site-packages (from matplotlib>=2.2.3->flair) (1.2.0)\n",
      "Requirement already satisfied: cycler>=0.10 in /software.9/software/Anaconda3/2024.02-1/lib/python3.11/site-packages (from matplotlib>=2.2.3->flair) (0.11.0)\n",
      "Requirement already satisfied: fonttools>=4.22.0 in /software.9/software/Anaconda3/2024.02-1/lib/python3.11/site-packages (from matplotlib>=2.2.3->flair) (4.25.0)\n",
      "Requirement already satisfied: kiwisolver>=1.0.1 in /software.9/software/Anaconda3/2024.02-1/lib/python3.11/site-packages (from matplotlib>=2.2.3->flair) (1.4.4)\n",
      "Requirement already satisfied: numpy<2,>=1.21 in /software.9/software/Anaconda3/2024.02-1/lib/python3.11/site-packages (from matplotlib>=2.2.3->flair) (1.26.4)\n",
      "Requirement already satisfied: pillow>=6.2.0 in /software.9/software/Anaconda3/2024.02-1/lib/python3.11/site-packages (from matplotlib>=2.2.3->flair) (10.2.0)\n",
      "Requirement already satisfied: pyparsing>=2.3.1 in /software.9/software/Anaconda3/2024.02-1/lib/python3.11/site-packages (from matplotlib>=2.2.3->flair) (3.0.9)\n",
      "Requirement already satisfied: jinja2 in /software.9/software/Anaconda3/2024.02-1/lib/python3.11/site-packages (from mpld3>=0.3->flair) (3.1.3)\n",
      "Requirement already satisfied: scipy>=1.3.2 in /software.9/software/Anaconda3/2024.02-1/lib/python3.11/site-packages (from scikit-learn>=1.0.2->flair) (1.11.4)\n",
      "Requirement already satisfied: joblib>=1.1.1 in /software.9/software/Anaconda3/2024.02-1/lib/python3.11/site-packages (from scikit-learn>=1.0.2->flair) (1.2.0)\n",
      "Requirement already satisfied: threadpoolctl>=2.0.0 in /software.9/software/Anaconda3/2024.02-1/lib/python3.11/site-packages (from scikit-learn>=1.0.2->flair) (2.2.0)\n",
      "Requirement already satisfied: networkx in /software.9/software/Anaconda3/2024.02-1/lib/python3.11/site-packages (from torch!=1.8,>=1.5.0->flair) (3.1)\n",
      "Requirement already satisfied: sympy==1.13.1 in ./.local/lib/python3.11/site-packages (from torch!=1.8,>=1.5.0->flair) (1.13.1)\n",
      "Requirement already satisfied: mpmath<1.4,>=1.1.0 in /software.9/software/Anaconda3/2024.02-1/lib/python3.11/site-packages (from sympy==1.13.1->torch!=1.8,>=1.5.0->flair) (1.3.0)\n",
      "Requirement already satisfied: tokenizers<0.22,>=0.21 in ./.local/lib/python3.11/site-packages (from transformers<5.0.0,>=4.25.0->transformers[sentencepiece]<5.0.0,>=4.25.0->flair) (0.21.0)\n",
      "Requirement already satisfied: safetensors>=0.4.1 in ./.local/lib/python3.11/site-packages (from transformers<5.0.0,>=4.25.0->transformers[sentencepiece]<5.0.0,>=4.25.0->flair) (0.4.5)\n",
      "Requirement already satisfied: sentencepiece!=0.1.92,>=0.1.91 in ./.local/lib/python3.11/site-packages (from transformers[sentencepiece]<5.0.0,>=4.25.0->flair) (0.2.0)\n",
      "Requirement already satisfied: protobuf in /software.9/software/Anaconda3/2024.02-1/lib/python3.11/site-packages (from transformers[sentencepiece]<5.0.0,>=4.25.0->flair) (3.20.3)\n",
      "Requirement already satisfied: urllib3!=2.2.0,<3,>=1.25.4 in /software.9/software/Anaconda3/2024.02-1/lib/python3.11/site-packages (from botocore<1.37.0,>=1.36.2->boto3>=1.20.27->flair) (2.0.7)\n",
      "Requirement already satisfied: attrs>=19.2.0 in /software.9/software/Anaconda3/2024.02-1/lib/python3.11/site-packages (from jsonlines>=1.2.0->bioc<3.0.0,>=2.0.0->flair) (23.1.0)\n",
      "Requirement already satisfied: accelerate>=0.26.0 in ./.local/lib/python3.11/site-packages (from transformers[sentencepiece,torch]<5.0,>=4.1->transformer-smaller-training-vocab>=0.2.3->flair) (1.2.1)\n",
      "Requirement already satisfied: soupsieve>1.2 in /software.9/software/Anaconda3/2024.02-1/lib/python3.11/site-packages (from beautifulsoup4->gdown>=4.4.0->flair) (2.5)\n",
      "Requirement already satisfied: sortedcontainers<3.0,>=2.0 in /software.9/software/Anaconda3/2024.02-1/lib/python3.11/site-packages (from intervaltree->bioc<3.0.0,>=2.0.0->flair) (2.4.0)\n",
      "Requirement already satisfied: MarkupSafe>=2.0 in /software.9/software/Anaconda3/2024.02-1/lib/python3.11/site-packages (from jinja2->mpld3>=0.3->flair) (2.1.3)\n",
      "Requirement already satisfied: charset-normalizer<4,>=2 in /software.9/software/Anaconda3/2024.02-1/lib/python3.11/site-packages (from requests[socks]->gdown>=4.4.0->flair) (2.0.4)\n",
      "Requirement already satisfied: idna<4,>=2.5 in /software.9/software/Anaconda3/2024.02-1/lib/python3.11/site-packages (from requests[socks]->gdown>=4.4.0->flair) (3.4)\n",
      "Requirement already satisfied: certifi>=2017.4.17 in /software.9/software/Anaconda3/2024.02-1/lib/python3.11/site-packages (from requests[socks]->gdown>=4.4.0->flair) (2024.2.2)\n",
      "Requirement already satisfied: PySocks!=1.5.7,>=1.5.6 in /software.9/software/Anaconda3/2024.02-1/lib/python3.11/site-packages (from requests[socks]->gdown>=4.4.0->flair) (1.7.1)\n",
      "Requirement already satisfied: psutil in /software.9/software/Anaconda3/2024.02-1/lib/python3.11/site-packages (from accelerate>=0.26.0->transformers[sentencepiece,torch]<5.0,>=4.1->transformer-smaller-training-vocab>=0.2.3->flair) (5.9.0)\n"
     ]
    }
   ],
   "source": [
    "!pip install flair"
   ]
  },
  {
   "cell_type": "code",
   "execution_count": 2,
   "metadata": {},
   "outputs": [
    {
     "name": "stdout",
     "output_type": "stream",
     "text": [
      "2025-01-19 12:35:30,162 SequenceTagger predicts: Dictionary with 15 tags: O, S-ORG, B-ORG, E-ORG, I-ORG, S-PER, B-PER, E-PER, I-PER, S-LOC, B-LOC, E-LOC, I-LOC, <START>, <STOP>\n"
     ]
    }
   ],
   "source": [
    "from flair.models import SequenceTagger\n",
    "\n",
    "# Pfad zum gespeicherten Modell\n",
    "model_path = \"best-model.pt\"\n",
    "\n",
    "# Modell laden\n",
    "tagger = SequenceTagger.load(model_path)\n"
   ]
  },
  {
   "cell_type": "code",
   "execution_count": 3,
   "metadata": {},
   "outputs": [
    {
     "name": "stdout",
     "output_type": "stream",
     "text": [
      "2025-01-19 12:35:54,993 Reading data from Data_en/test_en\n",
      "2025-01-19 12:35:54,993 Train: None\n",
      "2025-01-19 12:35:54,993 Dev: None\n",
      "2025-01-19 12:35:54,993 Test: Data_en/test_en/test_en.txt\n",
      "Sentence[17]: \"Shortly afterward an encouraging response influenced him to go to India he arrived at Adyar in 1884\" → [\"India\"/LOC, \"Adyar\"/LOC]\n",
      "Entity: India, Type: LOC, Confidence: 0.6956\n",
      "Entity: Adyar, Type: LOC, Confidence: 0.3927\n",
      "Sentence[8]: \"Kanye West featuring Jamie Foxx Gold Digger 2005\" → [\"Kanye West\"/PER, \"Jamie Foxx\"/PER, \"Digger 2005\"/PER]\n",
      "Entity: Kanye West, Type: PER, Confidence: 0.4515\n",
      "Entity: Jamie Foxx, Type: PER, Confidence: 0.5855\n",
      "Entity: Digger 2005, Type: PER, Confidence: 0.4727\n",
      "Sentence[3]: \"Blacktown railway station\" → [\"Blacktown railway station\"/ORG]\n",
      "Entity: Blacktown railway station, Type: ORG, Confidence: 0.6703\n",
      "Sentence[5]: \"Mycalesis perseus lalassis Hewitson 1864\" → [\"lalassis Hewitson\"/LOC]\n",
      "Entity: lalassis Hewitson, Type: LOC, Confidence: 0.6861\n",
      "Sentence[5]: \"Jonny Lee Miller Eli Stone\" → [\"Jonny Lee\"/PER, \"Eli Stone\"/PER]\n",
      "Entity: Jonny Lee, Type: PER, Confidence: 0.6403\n",
      "Entity: Eli Stone, Type: PER, Confidence: 0.5062\n",
      "Sentence[3]: \"Tambourissa cocottensis Lorence\" → [\"Tambourissa cocottensis Lorence\"/PER]\n",
      "Entity: Tambourissa cocottensis Lorence, Type: PER, Confidence: 0.6045\n",
      "Sentence[8]: \"Admission to the bar in the United States\" → [\"United States\"/LOC]\n",
      "Entity: United States, Type: LOC, Confidence: 0.3924\n",
      "Sentence[4]: \"Willy Unger of 11\" → [\"Willy Unger\"/PER]\n",
      "Entity: Willy Unger, Type: PER, Confidence: 0.6234\n",
      "Sentence[14]: \"Much construction was undertaken during this period such as the building of Palermo Cathedral\" → [\"Palermo Cathedral\"/ORG]\n",
      "Entity: Palermo Cathedral, Type: ORG, Confidence: 0.5481\n",
      "Sentence[5]: \"List of The OC characters\" → [\"List of The OC characters\"/ORG]\n",
      "Entity: List of The OC characters, Type: ORG, Confidence: 0.5234\n"
     ]
    }
   ],
   "source": [
    "from flair.datasets import ColumnCorpus\n",
    "\n",
    "# Gib den Pfad zum Verzeichnis mit deinen CoNLL-Dateien an\n",
    "data_folder = \"./Data_en/test_en\"  # Das Verzeichnis, das die 'test_de.txt' enthält\n",
    "\n",
    "# Erstelle den ColumnCorpus, indem du die Testdatei angibst\n",
    "corpus = ColumnCorpus(data_folder, \n",
    "                      column_format={0: 'text', 1: 'ner'},\n",
    "                      test_file=\"test_en.txt\")\n",
    "\n",
    "# Nur die ersten 10 Sätze durchlaufen\n",
    "max_sentences = 10\n",
    "for i, sentence in enumerate(corpus.test):\n",
    "    if i >= max_sentences:\n",
    "        break\n",
    "    \n",
    "    # Vorhersagen durchführen\n",
    "    tagger.predict(sentence)\n",
    "    \n",
    "    # Ausgabe des Satzes\n",
    "    print(sentence)\n",
    "    \n",
    "    # Ausgabe der erkannten Entitäten\n",
    "    for entity in sentence.get_spans('ner'):\n",
    "        print(f\"Entity: {entity.text}, Type: {entity.get_label('ner').value}, Confidence: {entity.score:.4f}\")"
   ]
  },
  {
   "cell_type": "code",
   "execution_count": 5,
   "metadata": {},
   "outputs": [
    {
     "data": {
      "text/html": [
       "<span class=\"tex2jax_ignore\"><!DOCTYPE html>\n",
       "<html lang=\"en\">\n",
       "    <head>\n",
       "        <title>displaCy</title>\n",
       "    </head>\n",
       "\n",
       "    <body style=\"font-size: 16px; font-family: -apple-system, BlinkMacSystemFont, 'Segoe UI', Helvetica, Arial, sans-serif, 'Apple Color Emoji', 'Segoe UI Emoji', 'Segoe UI Symbol'; padding: 4rem 2rem; direction: ltr\">\n",
       "<figure style=\"margin-bottom: 6rem\">\n",
       "<div class=\"entities\" style=\"line-height: 2.5; direction: ltr\">Much construction was undertaken during this period such as the building of \n",
       "<mark class=\"entity\" style=\"background: #feca74; padding: 0.45em 0.6em; margin: 0 0.25em; line-height: 1; border-radius: 0.35em;\">\n",
       "    Palermo\n",
       "    <span style=\"font-size: 0.8em; font-weight: bold; line-height: 1; border-radius: 0.35em; vertical-align: middle; margin-left: 0.5rem\">GPE</span>\n",
       "</mark>\n",
       " Cathedral</div>\n",
       "</figure>\n",
       "</body>\n",
       "</html></span>"
      ],
      "text/plain": [
       "<IPython.core.display.HTML object>"
      ]
     },
     "metadata": {},
     "output_type": "display_data"
    }
   ],
   "source": [
    "import spacy\n",
    "from spacy import displacy\n",
    "\n",
    "# Lade das spaCy Modell\n",
    "nlp = spacy.load(\"en_core_web_sm\")  # Für deutsche Sprache\n",
    "\n",
    "# Beispieltext\n",
    "text = \"Much construction was undertaken during this period such as the building of Palermo Cathedral\"\n",
    "\n",
    "# Text verarbeiten\n",
    "doc = nlp(text)\n",
    "\n",
    "# Visualisierung der Entitäten\n",
    "displacy.render(doc, style=\"ent\", page=True)"
   ]
  },
  {
   "cell_type": "code",
   "execution_count": null,
   "metadata": {},
   "outputs": [],
   "source": []
  }
 ],
 "metadata": {
  "accelerator": "GPU",
  "colab": {
   "gpuType": "T4",
   "provenance": []
  },
  "kernelspec": {
   "display_name": "Python 3 (ipykernel)",
   "language": "python",
   "name": "python3"
  },
  "language_info": {
   "codemirror_mode": {
    "name": "ipython",
    "version": 3
   },
   "file_extension": ".py",
   "mimetype": "text/x-python",
   "name": "python",
   "nbconvert_exporter": "python",
   "pygments_lexer": "ipython3",
   "version": "3.11.7"
  }
 },
 "nbformat": 4,
 "nbformat_minor": 4
}
