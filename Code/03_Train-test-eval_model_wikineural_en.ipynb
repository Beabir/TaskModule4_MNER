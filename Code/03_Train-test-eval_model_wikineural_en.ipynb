{
 "cells": [
  {
   "cell_type": "code",
   "execution_count": 1,
   "id": "d3c835a5-38ce-4536-ada8-2600aba7568d",
   "metadata": {},
   "outputs": [
    {
     "name": "stderr",
     "output_type": "stream",
     "text": [
      "Some weights of BertForTokenClassification were not initialized from the model checkpoint at Babelscape/wikineural-multilingual-ner and are newly initialized because the shapes did not match:\n",
      "- classifier.bias: found shape torch.Size([9]) in the checkpoint and torch.Size([7]) in the model instantiated\n",
      "- classifier.weight: found shape torch.Size([9, 768]) in the checkpoint and torch.Size([7, 768]) in the model instantiated\n",
      "You should probably TRAIN this model on a down-stream task to be able to use it for predictions and inference.\n"
     ]
    }
   ],
   "source": [
    "from transformers import AutoTokenizer, AutoModelForTokenClassification\n",
    "\n",
    "# Modellname\n",
    "model_name = \"Babelscape/wikineural-multilingual-ner\"\n",
    "\n",
    "# Label-Liste und Mapping\n",
    "label_list = [\"O\", \"B-PER\", \"I-PER\", \"B-ORG\", \"I-ORG\", \"B-LOC\", \"I-LOC\"]\n",
    "id2label = {i: label for i, label in enumerate(label_list)}\n",
    "label2id = {label: i for i, label in enumerate(label_list)}\n",
    "\n",
    "# Lade Tokenizer\n",
    "tokenizer = AutoTokenizer.from_pretrained(model_name)\n",
    "\n",
    "# Lade Modell mit der Option, Größenunterschiede zu ignorieren\n",
    "model = AutoModelForTokenClassification.from_pretrained(\n",
    "    model_name,\n",
    "    num_labels=len(label_list),\n",
    "    ignore_mismatched_sizes=True\n",
    ")\n",
    "\n",
    "# Aktualisiere das Modell mit den passenden Labels\n",
    "model.config.id2label = id2label\n",
    "model.config.label2id = label2id\n",
    "\n",
    "\n",
    "\n"
   ]
  },
  {
   "cell_type": "code",
   "execution_count": 2,
   "id": "e3efd338-5b4b-406f-8488-e69acf39e784",
   "metadata": {},
   "outputs": [
    {
     "name": "stdout",
     "output_type": "stream",
     "text": [
      "<class 'datasets.arrow_dataset.Dataset'>\n",
      "Dataset({\n",
      "    features: ['tokens', 'ner_tags', 'langs', 'spans', 'input_ids', 'token_type_ids', 'attention_mask', 'labels'],\n",
      "    num_rows: 10000\n",
      "})\n"
     ]
    }
   ],
   "source": [
    "from datasets import load_from_disk\n",
    "\n",
    "dataset = load_from_disk(\"Data_en/test_en\")\n",
    "print(type(dataset))  # Zeigt an, welcher Typ geladen wurde\n",
    "print(dataset)  # Gibt einen Überblick über die Struktur des Datasets\n",
    "\n"
   ]
  },
  {
   "cell_type": "code",
   "execution_count": 7,
   "id": "79980a41-71a2-4bca-b69e-4fdc61786f88",
   "metadata": {
    "scrolled": true
   },
   "outputs": [
    {
     "name": "stdout",
     "output_type": "stream",
     "text": [
      "Defaulting to user installation because normal site-packages is not writeable\n",
      "Collecting accelerate>=0.26.0\n",
      "  Downloading accelerate-1.2.1-py3-none-any.whl.metadata (19 kB)\n",
      "Requirement already satisfied: numpy<3.0.0,>=1.17 in /software.9/software/Anaconda3/2024.02-1/lib/python3.11/site-packages (from accelerate>=0.26.0) (1.26.4)\n",
      "Requirement already satisfied: packaging>=20.0 in /software.9/software/Anaconda3/2024.02-1/lib/python3.11/site-packages (from accelerate>=0.26.0) (23.1)\n",
      "Requirement already satisfied: psutil in /software.9/software/Anaconda3/2024.02-1/lib/python3.11/site-packages (from accelerate>=0.26.0) (5.9.0)\n",
      "Requirement already satisfied: pyyaml in /software.9/software/Anaconda3/2024.02-1/lib/python3.11/site-packages (from accelerate>=0.26.0) (6.0.1)\n",
      "Requirement already satisfied: torch>=1.10.0 in ./.local/lib/python3.11/site-packages (from accelerate>=0.26.0) (2.5.1+cpu)\n",
      "Requirement already satisfied: huggingface-hub>=0.21.0 in ./.local/lib/python3.11/site-packages (from accelerate>=0.26.0) (0.26.5)\n",
      "Requirement already satisfied: safetensors>=0.4.3 in ./.local/lib/python3.11/site-packages (from accelerate>=0.26.0) (0.4.5)\n",
      "Requirement already satisfied: filelock in /software.9/software/Anaconda3/2024.02-1/lib/python3.11/site-packages (from huggingface-hub>=0.21.0->accelerate>=0.26.0) (3.13.1)\n",
      "Requirement already satisfied: fsspec>=2023.5.0 in /software.9/software/Anaconda3/2024.02-1/lib/python3.11/site-packages (from huggingface-hub>=0.21.0->accelerate>=0.26.0) (2023.10.0)\n",
      "Requirement already satisfied: requests in ./.local/lib/python3.11/site-packages (from huggingface-hub>=0.21.0->accelerate>=0.26.0) (2.32.3)\n",
      "Requirement already satisfied: tqdm>=4.42.1 in ./.local/lib/python3.11/site-packages (from huggingface-hub>=0.21.0->accelerate>=0.26.0) (4.67.1)\n",
      "Requirement already satisfied: typing-extensions>=3.7.4.3 in /software.9/software/Anaconda3/2024.02-1/lib/python3.11/site-packages (from huggingface-hub>=0.21.0->accelerate>=0.26.0) (4.9.0)\n",
      "Requirement already satisfied: networkx in /software.9/software/Anaconda3/2024.02-1/lib/python3.11/site-packages (from torch>=1.10.0->accelerate>=0.26.0) (3.1)\n",
      "Requirement already satisfied: jinja2 in /software.9/software/Anaconda3/2024.02-1/lib/python3.11/site-packages (from torch>=1.10.0->accelerate>=0.26.0) (3.1.3)\n",
      "Requirement already satisfied: sympy==1.13.1 in ./.local/lib/python3.11/site-packages (from torch>=1.10.0->accelerate>=0.26.0) (1.13.1)\n",
      "Requirement already satisfied: mpmath<1.4,>=1.1.0 in /software.9/software/Anaconda3/2024.02-1/lib/python3.11/site-packages (from sympy==1.13.1->torch>=1.10.0->accelerate>=0.26.0) (1.3.0)\n",
      "Requirement already satisfied: MarkupSafe>=2.0 in /software.9/software/Anaconda3/2024.02-1/lib/python3.11/site-packages (from jinja2->torch>=1.10.0->accelerate>=0.26.0) (2.1.3)\n",
      "Requirement already satisfied: charset-normalizer<4,>=2 in /software.9/software/Anaconda3/2024.02-1/lib/python3.11/site-packages (from requests->huggingface-hub>=0.21.0->accelerate>=0.26.0) (2.0.4)\n",
      "Requirement already satisfied: idna<4,>=2.5 in /software.9/software/Anaconda3/2024.02-1/lib/python3.11/site-packages (from requests->huggingface-hub>=0.21.0->accelerate>=0.26.0) (3.4)\n",
      "Requirement already satisfied: urllib3<3,>=1.21.1 in /software.9/software/Anaconda3/2024.02-1/lib/python3.11/site-packages (from requests->huggingface-hub>=0.21.0->accelerate>=0.26.0) (2.0.7)\n",
      "Requirement already satisfied: certifi>=2017.4.17 in /software.9/software/Anaconda3/2024.02-1/lib/python3.11/site-packages (from requests->huggingface-hub>=0.21.0->accelerate>=0.26.0) (2024.2.2)\n",
      "Downloading accelerate-1.2.1-py3-none-any.whl (336 kB)\n",
      "\u001b[2K   \u001b[90m━━━━━━━━━━━━━━━━━━━━━━━━━━━━━━━━━━━━━━━━\u001b[0m \u001b[32m336.4/336.4 kB\u001b[0m \u001b[31m1.0 MB/s\u001b[0m eta \u001b[36m0:00:00\u001b[0mta \u001b[36m0:00:01\u001b[0m\n",
      "\u001b[?25hInstalling collected packages: accelerate\n",
      "Successfully installed accelerate-1.2.1\n",
      "Note: you may need to restart the kernel to use updated packages.\n"
     ]
    }
   ],
   "source": [
    "pip install 'accelerate>=0.26.0'\n"
   ]
  },
  {
   "cell_type": "code",
   "execution_count": 10,
   "id": "6c5e319b-f699-426a-95ad-1aaff36f731d",
   "metadata": {},
   "outputs": [
    {
     "name": "stdout",
     "output_type": "stream",
     "text": [
      "Defaulting to user installation because normal site-packages is not writeable\n",
      "Requirement already satisfied: transformers[torch] in ./.local/lib/python3.11/site-packages (4.47.0)\n",
      "Requirement already satisfied: filelock in /software.9/software/Anaconda3/2024.02-1/lib/python3.11/site-packages (from transformers[torch]) (3.13.1)\n",
      "Requirement already satisfied: huggingface-hub<1.0,>=0.24.0 in ./.local/lib/python3.11/site-packages (from transformers[torch]) (0.26.5)\n",
      "Requirement already satisfied: numpy>=1.17 in /software.9/software/Anaconda3/2024.02-1/lib/python3.11/site-packages (from transformers[torch]) (1.26.4)\n",
      "Requirement already satisfied: packaging>=20.0 in /software.9/software/Anaconda3/2024.02-1/lib/python3.11/site-packages (from transformers[torch]) (23.1)\n",
      "Requirement already satisfied: pyyaml>=5.1 in /software.9/software/Anaconda3/2024.02-1/lib/python3.11/site-packages (from transformers[torch]) (6.0.1)\n",
      "Requirement already satisfied: regex!=2019.12.17 in /software.9/software/Anaconda3/2024.02-1/lib/python3.11/site-packages (from transformers[torch]) (2023.10.3)\n",
      "Requirement already satisfied: requests in ./.local/lib/python3.11/site-packages (from transformers[torch]) (2.32.3)\n",
      "Requirement already satisfied: tokenizers<0.22,>=0.21 in ./.local/lib/python3.11/site-packages (from transformers[torch]) (0.21.0)\n",
      "Requirement already satisfied: safetensors>=0.4.1 in ./.local/lib/python3.11/site-packages (from transformers[torch]) (0.4.5)\n",
      "Requirement already satisfied: tqdm>=4.27 in ./.local/lib/python3.11/site-packages (from transformers[torch]) (4.67.1)\n",
      "Requirement already satisfied: torch in ./.local/lib/python3.11/site-packages (from transformers[torch]) (2.5.1+cpu)\n",
      "Requirement already satisfied: accelerate>=0.26.0 in ./.local/lib/python3.11/site-packages (from transformers[torch]) (1.2.1)\n",
      "Requirement already satisfied: psutil in /software.9/software/Anaconda3/2024.02-1/lib/python3.11/site-packages (from accelerate>=0.26.0->transformers[torch]) (5.9.0)\n",
      "Requirement already satisfied: fsspec>=2023.5.0 in /software.9/software/Anaconda3/2024.02-1/lib/python3.11/site-packages (from huggingface-hub<1.0,>=0.24.0->transformers[torch]) (2023.10.0)\n",
      "Requirement already satisfied: typing-extensions>=3.7.4.3 in /software.9/software/Anaconda3/2024.02-1/lib/python3.11/site-packages (from huggingface-hub<1.0,>=0.24.0->transformers[torch]) (4.9.0)\n",
      "Requirement already satisfied: networkx in /software.9/software/Anaconda3/2024.02-1/lib/python3.11/site-packages (from torch->transformers[torch]) (3.1)\n",
      "Requirement already satisfied: jinja2 in /software.9/software/Anaconda3/2024.02-1/lib/python3.11/site-packages (from torch->transformers[torch]) (3.1.3)\n",
      "Requirement already satisfied: sympy==1.13.1 in ./.local/lib/python3.11/site-packages (from torch->transformers[torch]) (1.13.1)\n",
      "Requirement already satisfied: mpmath<1.4,>=1.1.0 in /software.9/software/Anaconda3/2024.02-1/lib/python3.11/site-packages (from sympy==1.13.1->torch->transformers[torch]) (1.3.0)\n",
      "Requirement already satisfied: charset-normalizer<4,>=2 in /software.9/software/Anaconda3/2024.02-1/lib/python3.11/site-packages (from requests->transformers[torch]) (2.0.4)\n",
      "Requirement already satisfied: idna<4,>=2.5 in /software.9/software/Anaconda3/2024.02-1/lib/python3.11/site-packages (from requests->transformers[torch]) (3.4)\n",
      "Requirement already satisfied: urllib3<3,>=1.21.1 in /software.9/software/Anaconda3/2024.02-1/lib/python3.11/site-packages (from requests->transformers[torch]) (2.0.7)\n",
      "Requirement already satisfied: certifi>=2017.4.17 in /software.9/software/Anaconda3/2024.02-1/lib/python3.11/site-packages (from requests->transformers[torch]) (2024.2.2)\n",
      "Requirement already satisfied: MarkupSafe>=2.0 in /software.9/software/Anaconda3/2024.02-1/lib/python3.11/site-packages (from jinja2->torch->transformers[torch]) (2.1.3)\n"
     ]
    }
   ],
   "source": [
    "!pip install accelerate>=0.26.0\n",
    "!pip install transformers[torch]\n"
   ]
  },
  {
   "cell_type": "code",
   "execution_count": 6,
   "id": "82e7ad08-3a31-4158-bf78-a0692dff36df",
   "metadata": {},
   "outputs": [
    {
     "name": "stdout",
     "output_type": "stream",
     "text": [
      "Dataset erfolgreich geladen!\n",
      "Dataset({\n",
      "    features: ['tokens', 'ner_tags', 'langs', 'spans', 'input_ids', 'token_type_ids', 'attention_mask', 'labels'],\n",
      "    num_rows: 10000\n",
      "})\n"
     ]
    }
   ],
   "source": [
    "from datasets import load_from_disk\n",
    "\n",
    "try:\n",
    "    eval_dataset = load_from_disk(\"Data_en/validation_en\")\n",
    "    print(\"Dataset erfolgreich geladen!\")\n",
    "    print(eval_dataset)\n",
    "except Exception as e:\n",
    "    print(f\"Fehler beim Laden des Datasets: {e}\")\n"
   ]
  },
  {
   "cell_type": "code",
   "execution_count": 7,
   "id": "85ccc4d4-6331-449c-a403-50d170e2cbfa",
   "metadata": {},
   "outputs": [],
   "source": [
    "train_dataset = load_from_disk(\"Data_en/train_en\")\n",
    "eval_dataset = load_from_disk(\"Data_en/validation_en\")\n",
    "test_dataset=load_from_disk(\"Data_en/test_en\")"
   ]
  },
  {
   "cell_type": "code",
   "execution_count": 14,
   "id": "7b3f349d-5982-4e5b-bb3f-7e342799adc6",
   "metadata": {},
   "outputs": [
    {
     "name": "stdout",
     "output_type": "stream",
     "text": [
      "['.ipynb_checkpoints', 'state.json', 'data-00000-of-00001.arrow', 'dataset_info.json']\n"
     ]
    }
   ],
   "source": [
    "import os\n",
    "print(os.listdir(\"Data_en/validation_en\"))\n"
   ]
  },
  {
   "cell_type": "code",
   "execution_count": 17,
   "id": "0542fbbe-cd9b-4c9a-b97c-dd7177fbb20b",
   "metadata": {},
   "outputs": [
    {
     "name": "stdout",
     "output_type": "stream",
     "text": [
      "{'tokens': ['Sioux', 'Falls', 'Arena', 'Sioux', 'Falls', 'South', 'Dakota'], 'ner_tags': [3, 4, 4, 0, 5, 6, 6, 6, 6, 0], 'langs': ['en', 'en', 'en', 'en', 'en', 'en', 'en', 'en', 'en', 'en'], 'spans': ['ORG: Sioux Falls Arena', 'LOC: Sioux Falls , South Dakota'], 'input_ids': [101, 72663, 23118, 17951, 72663, 23118, 11056, 21435, 102], 'token_type_ids': [0, 0, 0, 0, 0, 0, 0, 0, 0], 'attention_mask': [1, 1, 1, 1, 1, 1, 1, 1, 1], 'labels': [-100, 3, 4, 4, 0, 5, 6, 6, -100]}\n",
      "{'tokens': [['Sioux', 'Falls', 'Arena', 'Sioux', 'Falls', 'South', 'Dakota'], ['George', 'Randolph', 'Hearst', 'Jr'], ['Conch', 'Key', 'Florida'], ['Fairground', 'by', 'Simply', 'Red', 'Bad', 'Romance', 'by', 'Lady', 'Gaga'], ['The', 'Game', 'Ice', 'Cube', 'Dr', 'Dre']], 'ner_tags': [[3, 4, 4, 0, 5, 6, 6, 6, 6, 0], [1, 2, 2, 2, 2, 2], [5, 6, 6, 6], [0, 0, 0, 3, 4, 0, 3, 4, 0, 0, 1, 2], [0, 0, 0, 1, 2, 0, 1, 2]], 'langs': [['en', 'en', 'en', 'en', 'en', 'en', 'en', 'en', 'en', 'en'], ['en', 'en', 'en', 'en', 'en', 'en'], ['en', 'en', 'en', 'en'], ['en', 'en', 'en', 'en', 'en', 'en', 'en', 'en', 'en', 'en', 'en', 'en'], ['en', 'en', 'en', 'en', 'en', 'en', 'en', 'en']], 'spans': [['ORG: Sioux Falls Arena', 'LOC: Sioux Falls , South Dakota'], ['PER: George Randolph Hearst , Jr .'], ['LOC: Conch Key , Florida'], ['ORG: Simply Red', 'ORG: Bad Romance', 'PER: Lady Gaga'], ['PER: Ice Cube', 'PER: Dr. Dre']], 'input_ids': [[101, 72663, 23118, 17951, 72663, 23118, 11056, 21435, 102], [101, 10955, 55078, 85212, 10562, 12966, 102], [101, 12845, 10269, 21663, 13668, 102], [101, 25697, 58821, 10155, 103695, 59146, 11641, 14027, 34404, 10155, 14005, 38393, 102], [101, 10117, 14061, 22694, 80825, 11612, 72531, 102]], 'token_type_ids': [[0, 0, 0, 0, 0, 0, 0, 0, 0], [0, 0, 0, 0, 0, 0, 0], [0, 0, 0, 0, 0, 0], [0, 0, 0, 0, 0, 0, 0, 0, 0, 0, 0, 0, 0], [0, 0, 0, 0, 0, 0, 0, 0]], 'attention_mask': [[1, 1, 1, 1, 1, 1, 1, 1, 1], [1, 1, 1, 1, 1, 1, 1], [1, 1, 1, 1, 1, 1], [1, 1, 1, 1, 1, 1, 1, 1, 1, 1, 1, 1, 1], [1, 1, 1, 1, 1, 1, 1, 1]], 'labels': [[-100, 3, 4, 4, 0, 5, 6, 6, -100], [-100, 1, 2, 2, -100, 2, -100], [-100, 5, -100, 6, 6, -100], [-100, 0, -100, 0, 0, -100, 3, 4, 0, 3, 4, 0, -100], [-100, 0, 0, 0, 1, 2, 0, -100]]}\n"
     ]
    }
   ],
   "source": [
    "print(eval_dataset[0])  # Zeigt die erste Zeile des Datasets\n",
    "print(eval_dataset[:5])  # Zeigt die ersten fünf Zeilen\n"
   ]
  },
  {
   "cell_type": "code",
   "execution_count": 15,
   "id": "ed8987da-7cad-4523-a24c-0daefbc9090f",
   "metadata": {},
   "outputs": [
    {
     "name": "stdout",
     "output_type": "stream",
     "text": [
      "Defaulting to user installation because normal site-packages is not writeable\n",
      "Requirement already satisfied: datasets in ./.local/lib/python3.11/site-packages (3.2.0)\n",
      "Requirement already satisfied: filelock in /software.9/software/Anaconda3/2024.02-1/lib/python3.11/site-packages (from datasets) (3.13.1)\n",
      "Requirement already satisfied: numpy>=1.17 in /software.9/software/Anaconda3/2024.02-1/lib/python3.11/site-packages (from datasets) (1.26.4)\n",
      "Requirement already satisfied: pyarrow>=15.0.0 in ./.local/lib/python3.11/site-packages (from datasets) (18.1.0)\n",
      "Requirement already satisfied: dill<0.3.9,>=0.3.0 in ./.local/lib/python3.11/site-packages (from datasets) (0.3.8)\n",
      "Requirement already satisfied: pandas in /software.9/software/Anaconda3/2024.02-1/lib/python3.11/site-packages (from datasets) (2.1.4)\n",
      "Requirement already satisfied: requests>=2.32.2 in ./.local/lib/python3.11/site-packages (from datasets) (2.32.3)\n",
      "Requirement already satisfied: tqdm>=4.66.3 in ./.local/lib/python3.11/site-packages (from datasets) (4.67.1)\n",
      "Requirement already satisfied: xxhash in ./.local/lib/python3.11/site-packages (from datasets) (3.5.0)\n",
      "Requirement already satisfied: multiprocess<0.70.17 in ./.local/lib/python3.11/site-packages (from datasets) (0.70.16)\n",
      "Requirement already satisfied: fsspec<=2024.9.0,>=2023.1.0 in /software.9/software/Anaconda3/2024.02-1/lib/python3.11/site-packages (from fsspec[http]<=2024.9.0,>=2023.1.0->datasets) (2023.10.0)\n",
      "Requirement already satisfied: aiohttp in /software.9/software/Anaconda3/2024.02-1/lib/python3.11/site-packages (from datasets) (3.9.3)\n",
      "Requirement already satisfied: huggingface-hub>=0.23.0 in ./.local/lib/python3.11/site-packages (from datasets) (0.26.5)\n",
      "Requirement already satisfied: packaging in /software.9/software/Anaconda3/2024.02-1/lib/python3.11/site-packages (from datasets) (23.1)\n",
      "Requirement already satisfied: pyyaml>=5.1 in /software.9/software/Anaconda3/2024.02-1/lib/python3.11/site-packages (from datasets) (6.0.1)\n",
      "Requirement already satisfied: aiosignal>=1.1.2 in /software.9/software/Anaconda3/2024.02-1/lib/python3.11/site-packages (from aiohttp->datasets) (1.2.0)\n",
      "Requirement already satisfied: attrs>=17.3.0 in /software.9/software/Anaconda3/2024.02-1/lib/python3.11/site-packages (from aiohttp->datasets) (23.1.0)\n",
      "Requirement already satisfied: frozenlist>=1.1.1 in /software.9/software/Anaconda3/2024.02-1/lib/python3.11/site-packages (from aiohttp->datasets) (1.4.0)\n",
      "Requirement already satisfied: multidict<7.0,>=4.5 in /software.9/software/Anaconda3/2024.02-1/lib/python3.11/site-packages (from aiohttp->datasets) (6.0.4)\n",
      "Requirement already satisfied: yarl<2.0,>=1.0 in /software.9/software/Anaconda3/2024.02-1/lib/python3.11/site-packages (from aiohttp->datasets) (1.9.3)\n",
      "Requirement already satisfied: typing-extensions>=3.7.4.3 in /software.9/software/Anaconda3/2024.02-1/lib/python3.11/site-packages (from huggingface-hub>=0.23.0->datasets) (4.9.0)\n",
      "Requirement already satisfied: charset-normalizer<4,>=2 in /software.9/software/Anaconda3/2024.02-1/lib/python3.11/site-packages (from requests>=2.32.2->datasets) (2.0.4)\n",
      "Requirement already satisfied: idna<4,>=2.5 in /software.9/software/Anaconda3/2024.02-1/lib/python3.11/site-packages (from requests>=2.32.2->datasets) (3.4)\n",
      "Requirement already satisfied: urllib3<3,>=1.21.1 in /software.9/software/Anaconda3/2024.02-1/lib/python3.11/site-packages (from requests>=2.32.2->datasets) (2.0.7)\n",
      "Requirement already satisfied: certifi>=2017.4.17 in /software.9/software/Anaconda3/2024.02-1/lib/python3.11/site-packages (from requests>=2.32.2->datasets) (2024.2.2)\n",
      "Requirement already satisfied: python-dateutil>=2.8.2 in /software.9/software/Anaconda3/2024.02-1/lib/python3.11/site-packages (from pandas->datasets) (2.8.2)\n",
      "Requirement already satisfied: pytz>=2020.1 in /software.9/software/Anaconda3/2024.02-1/lib/python3.11/site-packages (from pandas->datasets) (2023.3.post1)\n",
      "Requirement already satisfied: tzdata>=2022.1 in /software.9/software/Anaconda3/2024.02-1/lib/python3.11/site-packages (from pandas->datasets) (2023.3)\n",
      "Requirement already satisfied: six>=1.5 in /software.9/software/Anaconda3/2024.02-1/lib/python3.11/site-packages (from python-dateutil>=2.8.2->pandas->datasets) (1.16.0)\n"
     ]
    }
   ],
   "source": [
    "!pip install --upgrade datasets\n"
   ]
  },
  {
   "cell_type": "code",
   "execution_count": 6,
   "id": "dd5098d0-2f3d-446f-815a-79f99a93f6f8",
   "metadata": {},
   "outputs": [
    {
     "name": "stdout",
     "output_type": "stream",
     "text": [
      "<class 'datasets.arrow_dataset.Dataset'>\n",
      "<class 'datasets.arrow_dataset.Dataset'>\n"
     ]
    }
   ],
   "source": [
    "print(type(train_dataset))  # Sollte <class 'datasets.arrow_dataset.Dataset'> anzeigen\n",
    "print(type(eval_dataset))  # Sollte <class 'datasets.arrow_dataset.Dataset'> anzeigen\n"
   ]
  },
  {
   "cell_type": "code",
   "execution_count": 8,
   "id": "ccb055c7-aa06-481e-9e8e-d55a032edf34",
   "metadata": {},
   "outputs": [
    {
     "name": "stderr",
     "output_type": "stream",
     "text": [
      "/storage/homefs/jd14r010/.local/lib/python3.11/site-packages/transformers/training_args.py:1575: FutureWarning: `evaluation_strategy` is deprecated and will be removed in version 4.46 of 🤗 Transformers. Use `eval_strategy` instead\n",
      "  warnings.warn(\n",
      "/scratch/local/13583643/ipykernel_1470414/3429003470.py:24: FutureWarning: `tokenizer` is deprecated and will be removed in version 5.0.0 for `Trainer.__init__`. Use `processing_class` instead.\n",
      "  trainer = Trainer(\n"
     ]
    }
   ],
   "source": [
    "from transformers import Trainer, TrainingArguments, DataCollatorForSeq2Seq\n",
    "\n",
    "# Erstelle den DataCollator\n",
    "data_collator = DataCollatorForSeq2Seq(tokenizer, model=model)\n",
    "\n",
    "training_args = TrainingArguments(\n",
    "    output_dir=\"./results\",             # Speichert das Modell hier\n",
    "    evaluation_strategy=\"epoch\",       # Evaluiert am Ende jeder Epoche\n",
    "    save_strategy=\"epoch\",             # Speichert am Ende jeder Epoche\n",
    "    learning_rate=1e-5,                # Lernrate\n",
    "    per_device_train_batch_size=8,    # Batchgröße fürs Training\n",
    "    per_device_eval_batch_size=8,     # Batchgröße für Evaluation\n",
    "    num_train_epochs=3,                # Anzahl der Epochen\n",
    "    weight_decay=0.01,                 # Gewichtszerfall\n",
    "    save_total_limit=2,                # Speichere nur die letzten zwei Checkpoints\n",
    "    load_best_model_at_end=True,       # Lädt das beste Modell am Ende\n",
    "    logging_dir=\"./logs\",              # Log-Verzeichnis\n",
    "    logging_steps=10,\n",
    "    push_to_hub=False                  # Setze auf True, wenn du das Modell teilen möchtest\n",
    ")\n",
    "\n",
    "\n",
    "# Initialisiere den Trainer mit dem DataCollator\n",
    "trainer = Trainer(\n",
    "    model=model,\n",
    "    args=training_args,         # Deine Trainingseinstellungen\n",
    "    data_collator=data_collator, # Setze den DataCollator hier\n",
    "    tokenizer=tokenizer,         # Übergib den Tokenizer\n",
    "    train_dataset=train_dataset, # Dein Trainingsdatensatz\n",
    "    eval_dataset=eval_dataset    # Dein Evaluationsdatensatz\n",
    ")\n"
   ]
  },
  {
   "cell_type": "code",
   "execution_count": 11,
   "id": "19ccbdac-1c6f-40ec-9225-67e23c444791",
   "metadata": {},
   "outputs": [
    {
     "data": {
      "text/html": [
       "\n",
       "    <div>\n",
       "      \n",
       "      <progress value='6' max='6' style='width:300px; height:20px; vertical-align: middle;'></progress>\n",
       "      [6/6 00:11, Epoch 3/3]\n",
       "    </div>\n",
       "    <table border=\"1\" class=\"dataframe\">\n",
       "  <thead>\n",
       " <tr style=\"text-align: left;\">\n",
       "      <th>Epoch</th>\n",
       "      <th>Training Loss</th>\n",
       "      <th>Validation Loss</th>\n",
       "    </tr>\n",
       "  </thead>\n",
       "  <tbody>\n",
       "    <tr>\n",
       "      <td>1</td>\n",
       "      <td>1.641200</td>\n",
       "      <td>2.006855</td>\n",
       "    </tr>\n",
       "    <tr>\n",
       "      <td>2</td>\n",
       "      <td>1.630700</td>\n",
       "      <td>1.977502</td>\n",
       "    </tr>\n",
       "    <tr>\n",
       "      <td>3</td>\n",
       "      <td>1.757000</td>\n",
       "      <td>1.965532</td>\n",
       "    </tr>\n",
       "  </tbody>\n",
       "</table><p>"
      ],
      "text/plain": [
       "<IPython.core.display.HTML object>"
      ]
     },
     "metadata": {},
     "output_type": "display_data"
    },
    {
     "data": {
      "text/plain": [
       "TrainOutput(global_step=6, training_loss=1.6600581407546997, metrics={'train_runtime': 12.7864, 'train_samples_per_second': 2.346, 'train_steps_per_second': 0.469, 'total_flos': 532824503112.0, 'train_loss': 1.6600581407546997, 'epoch': 3.0})"
      ]
     },
     "execution_count": 11,
     "metadata": {},
     "output_type": "execute_result"
    }
   ],
   "source": [
    "# Teste mit einem kleinen Teildatensatz\n",
    "small_train_dataset = train_dataset.select(range(10))\n",
    "small_eval_dataset = eval_dataset.select(range(10))\n",
    "\n",
    "trainer.train_dataset = small_train_dataset\n",
    "trainer.eval_dataset = small_eval_dataset\n",
    "\n",
    "trainer.train()"
   ]
  },
  {
   "cell_type": "code",
   "execution_count": 9,
   "id": "784b4d84-3080-4064-8cae-27bae050c8a7",
   "metadata": {},
   "outputs": [
    {
     "data": {
      "text/html": [
       "\n",
       "    <div>\n",
       "      \n",
       "      <progress value='7500' max='7500' style='width:300px; height:20px; vertical-align: middle;'></progress>\n",
       "      [7500/7500 46:57, Epoch 3/3]\n",
       "    </div>\n",
       "    <table border=\"1\" class=\"dataframe\">\n",
       "  <thead>\n",
       " <tr style=\"text-align: left;\">\n",
       "      <th>Epoch</th>\n",
       "      <th>Training Loss</th>\n",
       "      <th>Validation Loss</th>\n",
       "    </tr>\n",
       "  </thead>\n",
       "  <tbody>\n",
       "    <tr>\n",
       "      <td>1</td>\n",
       "      <td>0.586600</td>\n",
       "      <td>0.590594</td>\n",
       "    </tr>\n",
       "    <tr>\n",
       "      <td>2</td>\n",
       "      <td>0.738400</td>\n",
       "      <td>0.572959</td>\n",
       "    </tr>\n",
       "    <tr>\n",
       "      <td>3</td>\n",
       "      <td>0.437800</td>\n",
       "      <td>0.579609</td>\n",
       "    </tr>\n",
       "  </tbody>\n",
       "</table><p>"
      ],
      "text/plain": [
       "<IPython.core.display.HTML object>"
      ]
     },
     "metadata": {},
     "output_type": "display_data"
    },
    {
     "data": {
      "text/plain": [
       "TrainOutput(global_step=7500, training_loss=0.5479087477684021, metrics={'train_runtime': 2817.8395, 'train_samples_per_second': 21.293, 'train_steps_per_second': 2.662, 'total_flos': 607444431225984.0, 'train_loss': 0.5479087477684021, 'epoch': 3.0})"
      ]
     },
     "execution_count": 9,
     "metadata": {},
     "output_type": "execute_result"
    }
   ],
   "source": [
    "trainer.train()\n"
   ]
  },
  {
   "cell_type": "code",
   "execution_count": 10,
   "id": "05c56366-432e-4247-b986-b6a49afe05f2",
   "metadata": {},
   "outputs": [
    {
     "data": {
      "text/plain": [
       "('./finetuned_wikineural/tokenizer_config.json',\n",
       " './finetuned_wikineural/special_tokens_map.json',\n",
       " './finetuned_wikineural/vocab.txt',\n",
       " './finetuned_wikineural/added_tokens.json',\n",
       " './finetuned_wikineural/tokenizer.json')"
      ]
     },
     "execution_count": 10,
     "metadata": {},
     "output_type": "execute_result"
    }
   ],
   "source": [
    "model.save_pretrained(\"./finetuned_wikineural\")\n",
    "tokenizer.save_pretrained(\"./finetuned_wikineural\")\n"
   ]
  },
  {
   "cell_type": "code",
   "execution_count": 11,
   "id": "8f025828-d881-4854-8ca1-92ba16bba8e1",
   "metadata": {},
   "outputs": [],
   "source": [
    "from transformers import AutoTokenizer, AutoModelForTokenClassification\n",
    "from datasets import load_dataset\n",
    "from sklearn.metrics import classification_report\n",
    "import torch"
   ]
  },
  {
   "cell_type": "code",
   "execution_count": 12,
   "id": "4e1d1b69-2dc3-4c8d-91ca-72a52f737f4d",
   "metadata": {},
   "outputs": [],
   "source": [
    "# Load the pre-trained model and tokenizer\n",
    "model_name = \"./finetuned_wikineural\"\n",
    "\n",
    "tokenizer = AutoTokenizer.from_pretrained(model_name)\n",
    "model = AutoModelForTokenClassification.from_pretrained(model_name)"
   ]
  },
  {
   "cell_type": "code",
   "execution_count": 14,
   "id": "19b8ab20-3ad4-415f-971f-97a941ba53ef",
   "metadata": {},
   "outputs": [],
   "source": [
    "# Load preprocessed English dataset\n",
    "from datasets import load_from_disk\n",
    "english_dataset = load_from_disk(\"Data_en/test_en\")"
   ]
  },
  {
   "cell_type": "code",
   "execution_count": 15,
   "id": "2dd17a85-854f-4dbb-957e-7d77b63cc615",
   "metadata": {},
   "outputs": [
    {
     "name": "stdout",
     "output_type": "stream",
     "text": [
      "{'tokens': ['Shortly', 'afterward', 'an', 'encouraging', 'response', 'influenced', 'him', 'to', 'go', 'to', 'India', 'he', 'arrived', 'at', 'Adyar', 'in', '1884'], 'ner_tags': [0, 0, 0, 0, 0, 0, 0, 0, 0, 0, 0, 5, 0, 0, 0, 0, 5, 0, 0, 0], 'langs': ['en', 'en', 'en', 'en', 'en', 'en', 'en', 'en', 'en', 'en', 'en', 'en', 'en', 'en', 'en', 'en', 'en', 'en', 'en', 'en'], 'spans': ['LOC: India', 'LOC: Adyar'], 'input_ids': [101, 50752, 10662, 16988, 10151, 10110, 30656, 108545, 21001, 31377, 10957, 10114, 11783, 10114, 11098, 10261, 22584, 10160, 25474, 22953, 10106, 13366, 102], 'token_type_ids': [0, 0, 0, 0, 0, 0, 0, 0, 0, 0, 0, 0, 0, 0, 0, 0, 0, 0, 0, 0, 0, 0, 0], 'attention_mask': [1, 1, 1, 1, 1, 1, 1, 1, 1, 1, 1, 1, 1, 1, 1, 1, 1, 1, 1, 1, 1, 1, 1], 'labels': [-100, 0, 0, -100, 0, 0, -100, -100, 0, 0, 0, 0, 0, 0, 0, 5, 0, 0, 0, -100, 0, 5, -100]}\n",
      "{'tokens': Sequence(feature=Value(dtype='string', id=None), length=-1, id=None), 'ner_tags': Sequence(feature=ClassLabel(names=['O', 'B-PER', 'I-PER', 'B-ORG', 'I-ORG', 'B-LOC', 'I-LOC'], id=None), length=-1, id=None), 'langs': Sequence(feature=Value(dtype='string', id=None), length=-1, id=None), 'spans': Sequence(feature=Value(dtype='string', id=None), length=-1, id=None), 'input_ids': Sequence(feature=Value(dtype='int32', id=None), length=-1, id=None), 'token_type_ids': Sequence(feature=Value(dtype='int8', id=None), length=-1, id=None), 'attention_mask': Sequence(feature=Value(dtype='int8', id=None), length=-1, id=None), 'labels': Sequence(feature=Value(dtype='int64', id=None), length=-1, id=None)}\n"
     ]
    }
   ],
   "source": [
    "print(english_dataset[0])  # Print the first example\n",
    "print(english_dataset.features)  # Print the dataset features"
   ]
  },
  {
   "cell_type": "code",
   "execution_count": 16,
   "id": "a2974d56-eb6b-4f95-894b-808b5c4d1e5f",
   "metadata": {},
   "outputs": [
    {
     "data": {
      "application/vnd.jupyter.widget-view+json": {
       "model_id": "6967ef91bc5346ab81491342767497c7",
       "version_major": 2,
       "version_minor": 0
      },
      "text/plain": [
       "Map:   0%|          | 0/10000 [00:00<?, ? examples/s]"
      ]
     },
     "metadata": {},
     "output_type": "display_data"
    }
   ],
   "source": [
    "def prepare_dataset(examples):\n",
    "    # The tokenization step is not needed as input_ids are already present\n",
    "    return {\n",
    "        'input_ids': examples['input_ids'],\n",
    "        'attention_mask': examples['attention_mask'],\n",
    "        'token_type_ids': examples['token_type_ids'],\n",
    "        'labels': examples['labels']\n",
    "    }\n",
    "\n",
    "tokenized_english = english_dataset.map(prepare_dataset, batched=True)"
   ]
  },
  {
   "cell_type": "code",
   "execution_count": 17,
   "id": "42d8d7f6-e0a0-4748-91c3-ebd2c33290a9",
   "metadata": {},
   "outputs": [],
   "source": [
    "# Create a data loader:\n",
    "from torch.utils.data import DataLoader\n",
    "\n",
    "def collate_fn(batch):\n",
    "    return {\n",
    "        'input_ids': torch.tensor([item['input_ids'] for item in batch]),\n",
    "        'attention_mask': torch.tensor([item['attention_mask'] for item in batch]),\n",
    "        'token_type_ids': torch.tensor([item['token_type_ids'] for item in batch]),\n",
    "        'labels': torch.tensor([item['labels'] for item in batch])\n",
    "    }\n",
    "\n",
    "data_loader = DataLoader(tokenized_english, batch_size=16, shuffle=False, collate_fn=collate_fn)"
   ]
  },
  {
   "cell_type": "code",
   "execution_count": 18,
   "id": "39a3b0e4-02fc-4b91-b7ec-d5325ff53bd7",
   "metadata": {},
   "outputs": [],
   "source": [
    "from torch.nn.utils.rnn import pad_sequence\n",
    "\n",
    "def collate_fn(batch):\n",
    "    input_ids = [torch.tensor(item['input_ids']) for item in batch]\n",
    "    attention_mask = [torch.tensor(item['attention_mask']) for item in batch]\n",
    "    token_type_ids = [torch.tensor(item['token_type_ids']) for item in batch]\n",
    "    labels = [torch.tensor(item['labels']) for item in batch]\n",
    "    \n",
    "    # Pad sequences to the maximum length in the batch\n",
    "    input_ids = pad_sequence(input_ids, batch_first=True, padding_value=0)\n",
    "    attention_mask = pad_sequence(attention_mask, batch_first=True, padding_value=0)\n",
    "    token_type_ids = pad_sequence(token_type_ids, batch_first=True, padding_value=0)\n",
    "    labels = pad_sequence(labels, batch_first=True, padding_value=-100)  # Use -100 for padding in labels\n",
    "    \n",
    "    return {\n",
    "        'input_ids': input_ids,\n",
    "        'attention_mask': attention_mask,\n",
    "        'token_type_ids': token_type_ids,\n",
    "        'labels': labels\n",
    "    }\n",
    "\n",
    "data_loader = DataLoader(tokenized_english, batch_size=16, shuffle=False, collate_fn=collate_fn)"
   ]
  },
  {
   "cell_type": "code",
   "execution_count": 20,
   "id": "f052b61d-e6ad-4901-b312-c57fb50b3f1a",
   "metadata": {},
   "outputs": [
    {
     "name": "stdout",
     "output_type": "stream",
     "text": [
      "Defaulting to user installation because normal site-packages is not writeable\n",
      "Collecting seqeval\n",
      "  Downloading seqeval-1.2.2.tar.gz (43 kB)\n",
      "\u001b[2K     \u001b[90m━━━━━━━━━━━━━━━━━━━━━━━━━━━━━━━━━━━━━━━\u001b[0m \u001b[32m43.6/43.6 kB\u001b[0m \u001b[31m286.1 kB/s\u001b[0m eta \u001b[36m0:00:00\u001b[0m \u001b[36m0:00:01\u001b[0m\n",
      "\u001b[?25h  Preparing metadata (setup.py) ... \u001b[?25ldone\n",
      "\u001b[?25hRequirement already satisfied: numpy>=1.14.0 in /software.9/software/Anaconda3/2024.02-1/lib/python3.11/site-packages (from seqeval) (1.26.4)\n",
      "Requirement already satisfied: scikit-learn>=0.21.3 in /software.9/software/Anaconda3/2024.02-1/lib/python3.11/site-packages (from seqeval) (1.2.2)\n",
      "Requirement already satisfied: scipy>=1.3.2 in /software.9/software/Anaconda3/2024.02-1/lib/python3.11/site-packages (from scikit-learn>=0.21.3->seqeval) (1.11.4)\n",
      "Requirement already satisfied: joblib>=1.1.1 in /software.9/software/Anaconda3/2024.02-1/lib/python3.11/site-packages (from scikit-learn>=0.21.3->seqeval) (1.2.0)\n",
      "Requirement already satisfied: threadpoolctl>=2.0.0 in /software.9/software/Anaconda3/2024.02-1/lib/python3.11/site-packages (from scikit-learn>=0.21.3->seqeval) (2.2.0)\n",
      "Building wheels for collected packages: seqeval\n",
      "  Building wheel for seqeval (setup.py) ... \u001b[?25ldone\n",
      "\u001b[?25h  Created wheel for seqeval: filename=seqeval-1.2.2-py3-none-any.whl size=16162 sha256=45d35b5eb331ae75142c1b50c5b7a35de1e7ed794f635da11c5ac3eedfdf0390\n",
      "  Stored in directory: /storage/homefs/jd14r010/.cache/pip/wheels/bc/92/f0/243288f899c2eacdfa8c5f9aede4c71a9bad0ee26a01dc5ead\n",
      "Successfully built seqeval\n",
      "Installing collected packages: seqeval\n",
      "Successfully installed seqeval-1.2.2\n"
     ]
    }
   ],
   "source": [
    "!pip install seqeval\n"
   ]
  },
  {
   "cell_type": "code",
   "execution_count": 21,
   "id": "61d8ecc1-ca34-438a-91fc-c38ea2c1e573",
   "metadata": {},
   "outputs": [
    {
     "name": "stderr",
     "output_type": "stream",
     "text": [
      "Evaluating: 100%|██████████| 625/625 [01:08<00:00,  9.11it/s]\n"
     ]
    },
    {
     "name": "stdout",
     "output_type": "stream",
     "text": [
      "              precision    recall  f1-score   support\n",
      "\n",
      "         LOC       0.22      0.25      0.24      5237\n",
      "         ORG       0.22      0.21      0.22      5988\n",
      "         PER       0.23      0.23      0.23      5209\n",
      "\n",
      "   micro avg       0.23      0.23      0.23     16434\n",
      "   macro avg       0.23      0.23      0.23     16434\n",
      "weighted avg       0.23      0.23      0.23     16434\n",
      "\n"
     ]
    }
   ],
   "source": [
    "from tqdm import tqdm\n",
    "from seqeval.metrics import classification_report\n",
    "\n",
    "model.eval()\n",
    "all_predictions = []\n",
    "all_true_labels = []\n",
    "\n",
    "label_map = {0: 'O', 1: 'B-PER', 2: 'I-PER', 3: 'B-ORG', 4: 'I-ORG', 5: 'B-LOC', 6: 'I-LOC'}\n",
    "\n",
    "with torch.no_grad():\n",
    "    for batch in tqdm(data_loader, desc=\"Evaluating\"):\n",
    "        inputs = {k: v.to(model.device) for k, v in batch.items() if k != 'labels'}\n",
    "        labels = batch['labels'].to(model.device)\n",
    "        \n",
    "        outputs = model(**inputs)\n",
    "        predictions = torch.argmax(outputs.logits, dim=2)\n",
    "        \n",
    "        for pred, label, mask in zip(predictions, labels, batch['attention_mask']):\n",
    "            pred = pred.cpu().numpy()\n",
    "            label = label.cpu().numpy()\n",
    "            mask = mask.cpu().numpy()\n",
    "            \n",
    "            true_label = [label_map.get(l.item(), 'O') for l, m in zip(label, mask) if m != 0]\n",
    "            pred_label = [label_map.get(p.item(), 'O') for p, m in zip(pred, mask) if m != 0]\n",
    "            \n",
    "            # Ensure both lists have the same length\n",
    "            min_len = min(len(true_label), len(pred_label))\n",
    "            true_label = true_label[:min_len]\n",
    "            pred_label = pred_label[:min_len]\n",
    "            \n",
    "            all_predictions.append(pred_label)\n",
    "            all_true_labels.append(true_label)\n",
    "\n",
    "# Print the classification report\n",
    "print(classification_report(all_true_labels, all_predictions))"
   ]
  },
  {
   "cell_type": "code",
   "execution_count": null,
   "id": "af11923a-2226-4dfa-a23c-92a6d58db1f4",
   "metadata": {},
   "outputs": [],
   "source": []
  }
 ],
 "metadata": {
  "kernelspec": {
   "display_name": "Python 3 (ipykernel)",
   "language": "python",
   "name": "python3"
  },
  "language_info": {
   "codemirror_mode": {
    "name": "ipython",
    "version": 3
   },
   "file_extension": ".py",
   "mimetype": "text/x-python",
   "name": "python",
   "nbconvert_exporter": "python",
   "pygments_lexer": "ipython3",
   "version": "3.11.7"
  }
 },
 "nbformat": 4,
 "nbformat_minor": 5
}
