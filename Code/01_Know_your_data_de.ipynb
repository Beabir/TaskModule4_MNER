{
 "cells": [
  {
   "cell_type": "code",
   "execution_count": 4,
   "id": "56ad4e91-d9ef-4afa-80d1-336afd6e2eba",
   "metadata": {},
   "outputs": [
    {
     "name": "stdout",
     "output_type": "stream",
     "text": [
      "Defaulting to user installation because normal site-packages is not writeable\n",
      "Requirement already satisfied: datasets in ./.local/lib/python3.11/site-packages (3.1.0)\n",
      "Requirement already satisfied: filelock in /software.9/software/Anaconda3/2024.02-1/lib/python3.11/site-packages (from datasets) (3.13.1)\n",
      "Requirement already satisfied: numpy>=1.17 in /software.9/software/Anaconda3/2024.02-1/lib/python3.11/site-packages (from datasets) (1.26.4)\n",
      "Requirement already satisfied: pyarrow>=15.0.0 in ./.local/lib/python3.11/site-packages (from datasets) (18.1.0)\n",
      "Requirement already satisfied: dill<0.3.9,>=0.3.0 in ./.local/lib/python3.11/site-packages (from datasets) (0.3.8)\n",
      "Requirement already satisfied: pandas in /software.9/software/Anaconda3/2024.02-1/lib/python3.11/site-packages (from datasets) (2.1.4)\n",
      "Requirement already satisfied: requests>=2.32.2 in ./.local/lib/python3.11/site-packages (from datasets) (2.32.3)\n",
      "Requirement already satisfied: tqdm>=4.66.3 in ./.local/lib/python3.11/site-packages (from datasets) (4.67.1)\n",
      "Requirement already satisfied: xxhash in ./.local/lib/python3.11/site-packages (from datasets) (3.5.0)\n",
      "Requirement already satisfied: multiprocess<0.70.17 in ./.local/lib/python3.11/site-packages (from datasets) (0.70.16)\n",
      "Requirement already satisfied: fsspec<=2024.9.0,>=2023.1.0 in /software.9/software/Anaconda3/2024.02-1/lib/python3.11/site-packages (from fsspec[http]<=2024.9.0,>=2023.1.0->datasets) (2023.10.0)\n",
      "Requirement already satisfied: aiohttp in /software.9/software/Anaconda3/2024.02-1/lib/python3.11/site-packages (from datasets) (3.9.3)\n",
      "Requirement already satisfied: huggingface-hub>=0.23.0 in ./.local/lib/python3.11/site-packages (from datasets) (0.26.3)\n",
      "Requirement already satisfied: packaging in /software.9/software/Anaconda3/2024.02-1/lib/python3.11/site-packages (from datasets) (23.1)\n",
      "Requirement already satisfied: pyyaml>=5.1 in /software.9/software/Anaconda3/2024.02-1/lib/python3.11/site-packages (from datasets) (6.0.1)\n",
      "Requirement already satisfied: aiosignal>=1.1.2 in /software.9/software/Anaconda3/2024.02-1/lib/python3.11/site-packages (from aiohttp->datasets) (1.2.0)\n",
      "Requirement already satisfied: attrs>=17.3.0 in /software.9/software/Anaconda3/2024.02-1/lib/python3.11/site-packages (from aiohttp->datasets) (23.1.0)\n",
      "Requirement already satisfied: frozenlist>=1.1.1 in /software.9/software/Anaconda3/2024.02-1/lib/python3.11/site-packages (from aiohttp->datasets) (1.4.0)\n",
      "Requirement already satisfied: multidict<7.0,>=4.5 in /software.9/software/Anaconda3/2024.02-1/lib/python3.11/site-packages (from aiohttp->datasets) (6.0.4)\n",
      "Requirement already satisfied: yarl<2.0,>=1.0 in /software.9/software/Anaconda3/2024.02-1/lib/python3.11/site-packages (from aiohttp->datasets) (1.9.3)\n",
      "Requirement already satisfied: typing-extensions>=3.7.4.3 in /software.9/software/Anaconda3/2024.02-1/lib/python3.11/site-packages (from huggingface-hub>=0.23.0->datasets) (4.9.0)\n",
      "Requirement already satisfied: charset-normalizer<4,>=2 in /software.9/software/Anaconda3/2024.02-1/lib/python3.11/site-packages (from requests>=2.32.2->datasets) (2.0.4)\n",
      "Requirement already satisfied: idna<4,>=2.5 in /software.9/software/Anaconda3/2024.02-1/lib/python3.11/site-packages (from requests>=2.32.2->datasets) (3.4)\n",
      "Requirement already satisfied: urllib3<3,>=1.21.1 in /software.9/software/Anaconda3/2024.02-1/lib/python3.11/site-packages (from requests>=2.32.2->datasets) (2.0.7)\n",
      "Requirement already satisfied: certifi>=2017.4.17 in /software.9/software/Anaconda3/2024.02-1/lib/python3.11/site-packages (from requests>=2.32.2->datasets) (2024.2.2)\n",
      "Requirement already satisfied: python-dateutil>=2.8.2 in /software.9/software/Anaconda3/2024.02-1/lib/python3.11/site-packages (from pandas->datasets) (2.8.2)\n",
      "Requirement already satisfied: pytz>=2020.1 in /software.9/software/Anaconda3/2024.02-1/lib/python3.11/site-packages (from pandas->datasets) (2023.3.post1)\n",
      "Requirement already satisfied: tzdata>=2022.1 in /software.9/software/Anaconda3/2024.02-1/lib/python3.11/site-packages (from pandas->datasets) (2023.3)\n",
      "Requirement already satisfied: six>=1.5 in /software.9/software/Anaconda3/2024.02-1/lib/python3.11/site-packages (from python-dateutil>=2.8.2->pandas->datasets) (1.16.0)\n"
     ]
    }
   ],
   "source": [
    "!pip install datasets"
   ]
  },
  {
   "cell_type": "code",
   "execution_count": 5,
   "id": "dc4d2c99-eb30-4f96-a1ca-195d5cee3f8e",
   "metadata": {},
   "outputs": [],
   "source": [
    "import pandas as pd # Import pandas to work with DataFrames"
   ]
  },
  {
   "cell_type": "code",
   "execution_count": 6,
   "id": "d1b6c7fe-cec7-433f-87d1-18fa6c6c8821",
   "metadata": {},
   "outputs": [
    {
     "name": "stdout",
     "output_type": "stream",
     "text": [
      "Defaulting to user installation because normal site-packages is not writeable\n",
      "Requirement already satisfied: ipywidgets in ./.local/lib/python3.11/site-packages (8.1.5)\n",
      "Requirement already satisfied: comm>=0.1.3 in ./.local/lib/python3.11/site-packages (from ipywidgets) (0.2.2)\n",
      "Requirement already satisfied: ipython>=6.1.0 in /software.9/software/Anaconda3/2024.02-1/lib/python3.11/site-packages (from ipywidgets) (8.20.0)\n",
      "Requirement already satisfied: traitlets>=4.3.1 in /software.9/software/Anaconda3/2024.02-1/lib/python3.11/site-packages (from ipywidgets) (5.7.1)\n",
      "Requirement already satisfied: widgetsnbextension~=4.0.12 in ./.local/lib/python3.11/site-packages (from ipywidgets) (4.0.13)\n",
      "Requirement already satisfied: jupyterlab-widgets~=3.0.12 in ./.local/lib/python3.11/site-packages (from ipywidgets) (3.0.13)\n",
      "Requirement already satisfied: decorator in /software.9/software/Anaconda3/2024.02-1/lib/python3.11/site-packages (from ipython>=6.1.0->ipywidgets) (5.1.1)\n",
      "Requirement already satisfied: jedi>=0.16 in /software.9/software/Anaconda3/2024.02-1/lib/python3.11/site-packages (from ipython>=6.1.0->ipywidgets) (0.18.1)\n",
      "Requirement already satisfied: matplotlib-inline in /software.9/software/Anaconda3/2024.02-1/lib/python3.11/site-packages (from ipython>=6.1.0->ipywidgets) (0.1.6)\n",
      "Requirement already satisfied: prompt-toolkit<3.1.0,>=3.0.41 in /software.9/software/Anaconda3/2024.02-1/lib/python3.11/site-packages (from ipython>=6.1.0->ipywidgets) (3.0.43)\n",
      "Requirement already satisfied: pygments>=2.4.0 in /software.9/software/Anaconda3/2024.02-1/lib/python3.11/site-packages (from ipython>=6.1.0->ipywidgets) (2.15.1)\n",
      "Requirement already satisfied: stack-data in /software.9/software/Anaconda3/2024.02-1/lib/python3.11/site-packages (from ipython>=6.1.0->ipywidgets) (0.2.0)\n",
      "Requirement already satisfied: pexpect>4.3 in /software.9/software/Anaconda3/2024.02-1/lib/python3.11/site-packages (from ipython>=6.1.0->ipywidgets) (4.8.0)\n",
      "Requirement already satisfied: parso<0.9.0,>=0.8.0 in /software.9/software/Anaconda3/2024.02-1/lib/python3.11/site-packages (from jedi>=0.16->ipython>=6.1.0->ipywidgets) (0.8.3)\n",
      "Requirement already satisfied: ptyprocess>=0.5 in /software.9/software/Anaconda3/2024.02-1/lib/python3.11/site-packages (from pexpect>4.3->ipython>=6.1.0->ipywidgets) (0.7.0)\n",
      "Requirement already satisfied: wcwidth in /software.9/software/Anaconda3/2024.02-1/lib/python3.11/site-packages (from prompt-toolkit<3.1.0,>=3.0.41->ipython>=6.1.0->ipywidgets) (0.2.5)\n",
      "Requirement already satisfied: executing in /software.9/software/Anaconda3/2024.02-1/lib/python3.11/site-packages (from stack-data->ipython>=6.1.0->ipywidgets) (0.8.3)\n",
      "Requirement already satisfied: asttokens in /software.9/software/Anaconda3/2024.02-1/lib/python3.11/site-packages (from stack-data->ipython>=6.1.0->ipywidgets) (2.0.5)\n",
      "Requirement already satisfied: pure-eval in /software.9/software/Anaconda3/2024.02-1/lib/python3.11/site-packages (from stack-data->ipython>=6.1.0->ipywidgets) (0.2.2)\n",
      "Requirement already satisfied: six in /software.9/software/Anaconda3/2024.02-1/lib/python3.11/site-packages (from asttokens->stack-data->ipython>=6.1.0->ipywidgets) (1.16.0)\n",
      "Note: you may need to restart the kernel to use updated packages.\n"
     ]
    }
   ],
   "source": [
    "pip install ipywidgets --upgrade\n"
   ]
  },
  {
   "cell_type": "code",
   "execution_count": 7,
   "id": "d7f7cbf8-a63f-487c-ae98-ccc8cdd412a3",
   "metadata": {},
   "outputs": [
    {
     "name": "stdout",
     "output_type": "stream",
     "text": [
      "{'tokens': [['als', 'Teil', 'der', 'Savoyer', 'Voralpen', 'im', 'Osten', '.'], ['WEITERLEITUNG', 'Antonina', 'Wladimirowna', 'Kriwoschapka'], ['**', \"''\", 'Lou', 'Salomé', \"''\", '.'], ['Spieler', 'vom', 'SKA', 'Sankt', 'Petersburg', 'ausgewählt', 'sowie', 'anschließend', 'im', 'NHL', 'Entry', 'Draft', 'in', 'der', 'ersten', 'Runde', 'als', 'insgesamt', 'zehnter', 'Spieler', 'von', 'den', 'Minnesota', 'Wild', '.'], ['Jaan', 'Kirsipuu', '74', 'P', '.']], 'ner_tags': [[0, 0, 0, 5, 6, 0, 0, 0], [0, 1, 2, 2], [0, 0, 1, 2, 0, 0], [0, 0, 3, 4, 4, 0, 0, 0, 0, 3, 4, 4, 0, 0, 0, 0, 0, 0, 0, 0, 0, 0, 3, 4, 0], [1, 2, 0, 0, 0]], 'langs': [['de', 'de', 'de', 'de', 'de', 'de', 'de', 'de'], ['de', 'de', 'de', 'de'], ['de', 'de', 'de', 'de', 'de', 'de'], ['de', 'de', 'de', 'de', 'de', 'de', 'de', 'de', 'de', 'de', 'de', 'de', 'de', 'de', 'de', 'de', 'de', 'de', 'de', 'de', 'de', 'de', 'de', 'de', 'de'], ['de', 'de', 'de', 'de', 'de']], 'spans': [['LOC: Savoyer Voralpen'], ['PER: Antonina Wladimirowna Kriwoschapka'], ['PER: Lou Salomé'], ['ORG: SKA Sankt Petersburg', 'ORG: NHL Entry Draft', 'ORG: Minnesota Wild'], ['PER: Jaan Kirsipuu']]}\n"
     ]
    }
   ],
   "source": [
    "from datasets import load_dataset\n",
    "\n",
    "# Beispiel: MultiCoNER Dataset laden\n",
    "dataset = load_dataset('unimelb-nlp/wikiann', 'de')\n",
    "\n",
    "# Struktur anzeigen (erste 5 Einträge des Trainingssets)\n",
    "print(dataset['train'][:5])"
   ]
  },
  {
   "cell_type": "code",
   "execution_count": 8,
   "id": "9480497f-6042-4501-b384-3ba6a890a642",
   "metadata": {},
   "outputs": [
    {
     "data": {
      "text/html": [
       "<div>\n",
       "<style scoped>\n",
       "    .dataframe tbody tr th:only-of-type {\n",
       "        vertical-align: middle;\n",
       "    }\n",
       "\n",
       "    .dataframe tbody tr th {\n",
       "        vertical-align: top;\n",
       "    }\n",
       "\n",
       "    .dataframe thead th {\n",
       "        text-align: right;\n",
       "    }\n",
       "</style>\n",
       "<table border=\"1\" class=\"dataframe\">\n",
       "  <thead>\n",
       "    <tr style=\"text-align: right;\">\n",
       "      <th></th>\n",
       "      <th>tokens</th>\n",
       "      <th>ner_tags</th>\n",
       "      <th>langs</th>\n",
       "      <th>spans</th>\n",
       "    </tr>\n",
       "  </thead>\n",
       "  <tbody>\n",
       "    <tr>\n",
       "      <th>0</th>\n",
       "      <td>[als, Teil, der, Savoyer, Voralpen, im, Osten, .]</td>\n",
       "      <td>[0, 0, 0, 5, 6, 0, 0, 0]</td>\n",
       "      <td>[de, de, de, de, de, de, de, de]</td>\n",
       "      <td>[LOC: Savoyer Voralpen]</td>\n",
       "    </tr>\n",
       "    <tr>\n",
       "      <th>1</th>\n",
       "      <td>[WEITERLEITUNG, Antonina, Wladimirowna, Kriwos...</td>\n",
       "      <td>[0, 1, 2, 2]</td>\n",
       "      <td>[de, de, de, de]</td>\n",
       "      <td>[PER: Antonina Wladimirowna Kriwoschapka]</td>\n",
       "    </tr>\n",
       "    <tr>\n",
       "      <th>2</th>\n",
       "      <td>[**, '', Lou, Salomé, '', .]</td>\n",
       "      <td>[0, 0, 1, 2, 0, 0]</td>\n",
       "      <td>[de, de, de, de, de, de]</td>\n",
       "      <td>[PER: Lou Salomé]</td>\n",
       "    </tr>\n",
       "    <tr>\n",
       "      <th>3</th>\n",
       "      <td>[Spieler, vom, SKA, Sankt, Petersburg, ausgewä...</td>\n",
       "      <td>[0, 0, 3, 4, 4, 0, 0, 0, 0, 3, 4, 4, 0, 0, 0, ...</td>\n",
       "      <td>[de, de, de, de, de, de, de, de, de, de, de, d...</td>\n",
       "      <td>[ORG: SKA Sankt Petersburg, ORG: NHL Entry Dra...</td>\n",
       "    </tr>\n",
       "    <tr>\n",
       "      <th>4</th>\n",
       "      <td>[Jaan, Kirsipuu, 74, P, .]</td>\n",
       "      <td>[1, 2, 0, 0, 0]</td>\n",
       "      <td>[de, de, de, de, de]</td>\n",
       "      <td>[PER: Jaan Kirsipuu]</td>\n",
       "    </tr>\n",
       "  </tbody>\n",
       "</table>\n",
       "</div>"
      ],
      "text/plain": [
       "                                              tokens  \\\n",
       "0  [als, Teil, der, Savoyer, Voralpen, im, Osten, .]   \n",
       "1  [WEITERLEITUNG, Antonina, Wladimirowna, Kriwos...   \n",
       "2                       [**, '', Lou, Salomé, '', .]   \n",
       "3  [Spieler, vom, SKA, Sankt, Petersburg, ausgewä...   \n",
       "4                         [Jaan, Kirsipuu, 74, P, .]   \n",
       "\n",
       "                                            ner_tags  \\\n",
       "0                           [0, 0, 0, 5, 6, 0, 0, 0]   \n",
       "1                                       [0, 1, 2, 2]   \n",
       "2                                 [0, 0, 1, 2, 0, 0]   \n",
       "3  [0, 0, 3, 4, 4, 0, 0, 0, 0, 3, 4, 4, 0, 0, 0, ...   \n",
       "4                                    [1, 2, 0, 0, 0]   \n",
       "\n",
       "                                               langs  \\\n",
       "0                   [de, de, de, de, de, de, de, de]   \n",
       "1                                   [de, de, de, de]   \n",
       "2                           [de, de, de, de, de, de]   \n",
       "3  [de, de, de, de, de, de, de, de, de, de, de, d...   \n",
       "4                               [de, de, de, de, de]   \n",
       "\n",
       "                                               spans  \n",
       "0                            [LOC: Savoyer Voralpen]  \n",
       "1          [PER: Antonina Wladimirowna Kriwoschapka]  \n",
       "2                                  [PER: Lou Salomé]  \n",
       "3  [ORG: SKA Sankt Petersburg, ORG: NHL Entry Dra...  \n",
       "4                               [PER: Jaan Kirsipuu]  "
      ]
     },
     "execution_count": 8,
     "metadata": {},
     "output_type": "execute_result"
    }
   ],
   "source": [
    "# Convert the dataset to a pandas DataFrame\n",
    "df = pd.DataFrame(dataset['train']) # Create a DataFrame named df\n",
    "\n",
    "df.head() # Now you can call head() on df\n"
   ]
  },
  {
   "cell_type": "code",
   "execution_count": 9,
   "id": "d69fadf8-8175-4289-a96f-ceddb51b124e",
   "metadata": {},
   "outputs": [
    {
     "name": "stdout",
     "output_type": "stream",
     "text": [
      "<class 'pandas.core.frame.DataFrame'>\n",
      "RangeIndex: 20000 entries, 0 to 19999\n",
      "Data columns (total 4 columns):\n",
      " #   Column    Non-Null Count  Dtype \n",
      "---  ------    --------------  ----- \n",
      " 0   tokens    20000 non-null  object\n",
      " 1   ner_tags  20000 non-null  object\n",
      " 2   langs     20000 non-null  object\n",
      " 3   spans     20000 non-null  object\n",
      "dtypes: object(4)\n",
      "memory usage: 625.1+ KB\n"
     ]
    }
   ],
   "source": [
    "df.info()"
   ]
  },
  {
   "cell_type": "code",
   "execution_count": 10,
   "id": "9f35e322-f65c-4175-bbc8-47f1e5f6b1e3",
   "metadata": {},
   "outputs": [
    {
     "data": {
      "text/html": [
       "<div>\n",
       "<style scoped>\n",
       "    .dataframe tbody tr th:only-of-type {\n",
       "        vertical-align: middle;\n",
       "    }\n",
       "\n",
       "    .dataframe tbody tr th {\n",
       "        vertical-align: top;\n",
       "    }\n",
       "\n",
       "    .dataframe thead th {\n",
       "        text-align: right;\n",
       "    }\n",
       "</style>\n",
       "<table border=\"1\" class=\"dataframe\">\n",
       "  <thead>\n",
       "    <tr style=\"text-align: right;\">\n",
       "      <th></th>\n",
       "      <th>tokens</th>\n",
       "      <th>ner_tags</th>\n",
       "      <th>langs</th>\n",
       "      <th>spans</th>\n",
       "    </tr>\n",
       "  </thead>\n",
       "  <tbody>\n",
       "    <tr>\n",
       "      <th>count</th>\n",
       "      <td>20000</td>\n",
       "      <td>20000</td>\n",
       "      <td>20000</td>\n",
       "      <td>20000</td>\n",
       "    </tr>\n",
       "    <tr>\n",
       "      <th>unique</th>\n",
       "      <td>18517</td>\n",
       "      <td>5230</td>\n",
       "      <td>58</td>\n",
       "      <td>17007</td>\n",
       "    </tr>\n",
       "    <tr>\n",
       "      <th>top</th>\n",
       "      <td>[', '', China, '', ']</td>\n",
       "      <td>[0, 0, 5, 0, 0]</td>\n",
       "      <td>[de, de, de, de, de]</td>\n",
       "      <td>[LOC: Papst, PER: Johannes Paul II .]</td>\n",
       "    </tr>\n",
       "    <tr>\n",
       "      <th>freq</th>\n",
       "      <td>30</td>\n",
       "      <td>802</td>\n",
       "      <td>2954</td>\n",
       "      <td>35</td>\n",
       "    </tr>\n",
       "  </tbody>\n",
       "</table>\n",
       "</div>"
      ],
      "text/plain": [
       "                       tokens         ner_tags                 langs  \\\n",
       "count                   20000            20000                 20000   \n",
       "unique                  18517             5230                    58   \n",
       "top     [', '', China, '', ']  [0, 0, 5, 0, 0]  [de, de, de, de, de]   \n",
       "freq                       30              802                  2954   \n",
       "\n",
       "                                        spans  \n",
       "count                                   20000  \n",
       "unique                                  17007  \n",
       "top     [LOC: Papst, PER: Johannes Paul II .]  \n",
       "freq                                       35  "
      ]
     },
     "execution_count": 10,
     "metadata": {},
     "output_type": "execute_result"
    }
   ],
   "source": [
    "df.describe()"
   ]
  },
  {
   "cell_type": "code",
   "execution_count": 11,
   "id": "8f33bd9b-69aa-42f5-bbe3-71634ea73a7d",
   "metadata": {},
   "outputs": [
    {
     "data": {
      "text/plain": [
       "Index(['tokens', 'ner_tags', 'langs', 'spans'], dtype='object')"
      ]
     },
     "execution_count": 11,
     "metadata": {},
     "output_type": "execute_result"
    }
   ],
   "source": [
    "df.columns"
   ]
  },
  {
   "cell_type": "code",
   "execution_count": 12,
   "id": "fdd78a99-a589-44d0-abd7-301f5ddabf47",
   "metadata": {},
   "outputs": [
    {
     "name": "stdout",
     "output_type": "stream",
     "text": [
      "ner_tags\n",
      "[0, 0, 5, 0, 0]                                                          802\n",
      "[1, 2, 2]                                                                737\n",
      "[0, 1, 2, 2]                                                             480\n",
      "[0, 0, 0, 5, 0, 0]                                                       470\n",
      "[0, 0, 3, 4, 0, 0]                                                       300\n",
      "                                                                        ... \n",
      "[0, 0, 0, 0, 0, 5, 3, 4, 4, 4, 0, 0, 0]                                    1\n",
      "[0, 0, 0, 1, 2, 0, 1, 2, 2, 0, 1, 2, 0]                                    1\n",
      "[0, 0, 0, 0, 0, 0, 0, 0, 0, 0, 0, 0, 0, 0, 0, 1, 2, 2, 2, 0, 1, 2, 0]      1\n",
      "[0, 0, 0, 0, 0, 0, 0, 0, 0, 0, 5, 6, 0, 5, 0, 0]                           1\n",
      "[5, 0, 3, 4, 4, 0, 0]                                                      1\n",
      "Name: count, Length: 5230, dtype: int64\n"
     ]
    }
   ],
   "source": [
    "# Examine entity distribution to show distribution of different entity types in the dataset:\n",
    "entity_counts = df['ner_tags'].value_counts()\n",
    "print(entity_counts)"
   ]
  },
  {
   "cell_type": "code",
   "execution_count": 13,
   "id": "9c76f97f-eccf-4304-8a10-dd7176a45d48",
   "metadata": {},
   "outputs": [
    {
     "name": "stdout",
     "output_type": "stream",
     "text": [
      "ner_tags\n",
      "[0, 0, 5, 0, 0]                                                          4.010\n",
      "[1, 2, 2]                                                                3.685\n",
      "[0, 1, 2, 2]                                                             2.400\n",
      "[0, 0, 0, 5, 0, 0]                                                       2.350\n",
      "[0, 0, 3, 4, 0, 0]                                                       1.500\n",
      "                                                                         ...  \n",
      "[0, 0, 0, 0, 0, 5, 3, 4, 4, 4, 0, 0, 0]                                  0.005\n",
      "[0, 0, 0, 1, 2, 0, 1, 2, 2, 0, 1, 2, 0]                                  0.005\n",
      "[0, 0, 0, 0, 0, 0, 0, 0, 0, 0, 0, 0, 0, 0, 0, 1, 2, 2, 2, 0, 1, 2, 0]    0.005\n",
      "[0, 0, 0, 0, 0, 0, 0, 0, 0, 0, 5, 6, 0, 5, 0, 0]                         0.005\n",
      "[5, 0, 3, 4, 4, 0, 0]                                                    0.005\n",
      "Name: count, Length: 5230, dtype: float64\n"
     ]
    }
   ],
   "source": [
    "# Check for class imbalance to identify if certain entity types are underrepresented:\n",
    "entity_percentages = (entity_counts / len(df)) * 100\n",
    "print(entity_percentages)"
   ]
  },
  {
   "cell_type": "code",
   "execution_count": 14,
   "id": "83be8f45-9445-437f-806f-71dc3731cdb3",
   "metadata": {},
   "outputs": [
    {
     "name": "stdout",
     "output_type": "stream",
     "text": [
      "count    195387.000000\n",
      "mean          5.056196\n",
      "std           3.791692\n",
      "min           1.000000\n",
      "25%           2.000000\n",
      "50%           4.000000\n",
      "75%           7.000000\n",
      "max          45.000000\n",
      "dtype: float64\n"
     ]
    }
   ],
   "source": [
    "# Analyze token length distribution to provide insights into the length of the individual tokens (words) in the dataset:\n",
    "df['token_lengths'] = df['tokens'].apply(lambda x: [len(token) for token in x])\n",
    "token_lengths = [length for lengths in df['token_lengths'] for length in lengths]\n",
    "print(pd.Series(token_lengths).describe())\n",
    "# count: total, mean: average length, std: standard deviation in characters, min: shortest token, max: longest token, %: percentage of tokens"
   ]
  },
  {
   "cell_type": "code",
   "execution_count": 15,
   "id": "8b7fe446-6e67-4647-8125-2eddcba16c71",
   "metadata": {},
   "outputs": [],
   "source": [
    "# Visualize the entity distribution in the dataset by creating a horizontal bar plot:\n",
    "# Get the label mapping from the dataset first, wo we can see the labels instead of just the numbers 0-6:\n",
    "label_list = dataset['train'].features['ner_tags'].feature.names\n",
    "label_mapping = {i: label for i, label in enumerate(label_list)}\n"
   ]
  },
  {
   "cell_type": "code",
   "execution_count": 16,
   "id": "2d8b095d-1e16-471a-bd6c-e194b18bdbb4",
   "metadata": {},
   "outputs": [
    {
     "data": {
      "image/png": "[encoded data removed]",
      "text/plain": [
       "<Figure size 1200x600 with 1 Axes>"
      ]
     },
     "metadata": {},
     "output_type": "display_data"
    }
   ],
   "source": [
    "import matplotlib.pyplot as plt\n",
    "import seaborn as sns\n",
    "\n",
    "# Count the occurrences of each entity type\n",
    "entity_counts = df['ner_tags'].apply(lambda x: [tag for tag in x if tag != 0]).explode().value_counts()\n",
    "\n",
    "# Map numeric encodings to actual entity labels\n",
    "entity_counts_labeled = entity_counts.rename(index=label_mapping)\n",
    "\n",
    "# Create a horizontal bar plot\n",
    "plt.figure(figsize=(12, 6))\n",
    "sns.barplot(x=entity_counts_labeled.values, y=entity_counts_labeled.index, orient='h')\n",
    "\n",
    "# Customize the plot\n",
    "plt.title('Entity Type Distribution')\n",
    "plt.xlabel('Count')\n",
    "plt.ylabel('Entity Type')\n",
    "\n",
    "# Add count labels to the end of each bar\n",
    "for i, v in enumerate(entity_counts_labeled.values):\n",
    "    plt.text(v + 0.1, i, str(v), va='center')\n",
    "\n",
    "# Adjust layout and display the plot\n",
    "plt.tight_layout()\n",
    "plt.show()\n",
    "\n"
   ]
  },
  {
   "cell_type": "code",
   "execution_count": 17,
   "id": "88c1b450-69e5-473d-8de4-1bbe34ce4b57",
   "metadata": {},
   "outputs": [
    {
     "data": {
      "image/png": "[encoded data removed]",
      "text/plain": [
       "<Figure size 1200x600 with 1 Axes>"
      ]
     },
     "metadata": {},
     "output_type": "display_data"
    }
   ],
   "source": [
    "# alternative Darstellung :)\n",
    "import matplotlib.pyplot as plt\n",
    "import seaborn as sns\n",
    "\n",
    "# First, let's create a mapping from numeric codes to entity labels\n",
    "label_list = dataset['train'].features['ner_tags'].feature.names\n",
    "label_mapping = {i: label for i, label in enumerate(label_list)}\n",
    "\n",
    "# Now, let's map the entity counts to their actual labels\n",
    "entity_counts_labeled = entity_counts.rename(index=label_mapping)\n",
    "\n",
    "plt.figure(figsize=(12, 6))\n",
    "\n",
    "# Use seaborn's color palette for distinct colors\n",
    "colors = sns.color_palette(\"husl\", len(entity_counts_labeled))\n",
    "\n",
    "# Create the bar plot with different colors\n",
    "bars = plt.bar(entity_counts_labeled.index, entity_counts_labeled.values, color=colors)\n",
    "\n",
    "plt.title('Entity Type Distribution')\n",
    "plt.xlabel('Entity Type')\n",
    "plt.ylabel('Count')\n",
    "\n",
    "# Rotate x-axis labels for better readability\n",
    "plt.xticks(rotation=45, ha='right')\n",
    "\n",
    "# Add value labels on top of each bar\n",
    "for bar in bars:\n",
    "    height = bar.get_height()\n",
    "    plt.text(bar.get_x() + bar.get_width()/2., height,\n",
    "             f'{height}',\n",
    "             ha='center', va='bottom')\n",
    "\n",
    "plt.tight_layout()\n",
    "plt.show()"
   ]
  },
  {
   "cell_type": "code",
   "execution_count": 18,
   "id": "deebd708-2e65-4b0e-9e59-c2daa06b1edc",
   "metadata": {},
   "outputs": [
    {
     "name": "stdout",
     "output_type": "stream",
     "text": [
      "tokens           0\n",
      "ner_tags         0\n",
      "langs            0\n",
      "spans            0\n",
      "token_lengths    0\n",
      "dtype: int64\n"
     ]
    }
   ],
   "source": [
    "# Check for missing values to identify missing data in the dataset:\n",
    "print(df.isnull().sum())\n"
   ]
  },
  {
   "cell_type": "code",
   "execution_count": 19,
   "id": "3efcba96-0b37-4d77-ba9e-542abe04eec0",
   "metadata": {},
   "outputs": [
    {
     "name": "stdout",
     "output_type": "stream",
     "text": [
      "Number of unique tokens: 39081\n"
     ]
    }
   ],
   "source": [
    "# Examine unique tokens to give me an idea of the vocabulary size in the dataset:\n",
    "unique_tokens = set([token for tokens in df['tokens'] for token in tokens])\n",
    "print(f\"Number of unique tokens: {len(unique_tokens)}\")\n"
   ]
  },
  {
   "cell_type": "code",
   "execution_count": 20,
   "id": "d3c94be7-79be-49e8-8378-c5966b671f56",
   "metadata": {},
   "outputs": [
    {
     "name": "stdout",
     "output_type": "stream",
     "text": [
      "count    20000.000000\n",
      "mean         9.769350\n",
      "std          6.205004\n",
      "min          1.000000\n",
      "25%          5.000000\n",
      "50%          8.000000\n",
      "75%         13.000000\n",
      "max         85.000000\n",
      "Name: sentence_length, dtype: float64\n"
     ]
    }
   ],
   "source": [
    "# Analyze sentence length distribution to get insight on the length of sentences in the dataset:\n",
    "df['sentence_length'] = df['tokens'].apply(lambda x: len(x))\n",
    "print(df['sentence_length'].describe())\n"
   ]
  },
  {
   "cell_type": "code",
   "execution_count": null,
   "id": "d308b558-1d58-443c-98e8-e1fbeee0527e",
   "metadata": {},
   "outputs": [],
   "source": []
  }
 ],
 "metadata": {
  "kernelspec": {
   "display_name": "Python 3 (ipykernel)",
   "language": "python",
   "name": "python3"
  },
  "language_info": {
   "codemirror_mode": {
    "name": "ipython",
    "version": 3
   },
   "file_extension": ".py",
   "mimetype": "text/x-python",
   "name": "python",
   "nbconvert_exporter": "python",
   "pygments_lexer": "ipython3",
   "version": "3.11.7"
  }
 },
 "nbformat": 4,
 "nbformat_minor": 5
}
