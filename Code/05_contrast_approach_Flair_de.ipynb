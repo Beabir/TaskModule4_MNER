{
 "cells": [
  {
   "cell_type": "code",
   "execution_count": 1,
   "metadata": {
    "colab": {
     "base_uri": "https://localhost:8080/"
    },
    "id": "KPgrn7yKfAEu",
    "outputId": "14157a3d-0859-4f2e-b696-d2871a70e723"
   },
   "outputs": [
    {
     "name": "stdout",
     "output_type": "stream",
     "text": [
      "Defaulting to user installation because normal site-packages is not writeable\n",
      "Requirement already satisfied: datasets in ./.local/lib/python3.11/site-packages (3.2.0)\n",
      "Requirement already satisfied: filelock in /software.9/software/Anaconda3/2024.02-1/lib/python3.11/site-packages (from datasets) (3.13.1)\n",
      "Requirement already satisfied: numpy>=1.17 in /software.9/software/Anaconda3/2024.02-1/lib/python3.11/site-packages (from datasets) (1.26.4)\n",
      "Requirement already satisfied: pyarrow>=15.0.0 in ./.local/lib/python3.11/site-packages (from datasets) (18.1.0)\n",
      "Requirement already satisfied: dill<0.3.9,>=0.3.0 in ./.local/lib/python3.11/site-packages (from datasets) (0.3.8)\n",
      "Requirement already satisfied: pandas in /software.9/software/Anaconda3/2024.02-1/lib/python3.11/site-packages (from datasets) (2.1.4)\n",
      "Requirement already satisfied: requests>=2.32.2 in ./.local/lib/python3.11/site-packages (from datasets) (2.32.3)\n",
      "Requirement already satisfied: tqdm>=4.66.3 in ./.local/lib/python3.11/site-packages (from datasets) (4.67.1)\n",
      "Requirement already satisfied: xxhash in ./.local/lib/python3.11/site-packages (from datasets) (3.5.0)\n",
      "Requirement already satisfied: multiprocess<0.70.17 in ./.local/lib/python3.11/site-packages (from datasets) (0.70.16)\n",
      "Requirement already satisfied: fsspec<=2024.9.0,>=2023.1.0 in /software.9/software/Anaconda3/2024.02-1/lib/python3.11/site-packages (from fsspec[http]<=2024.9.0,>=2023.1.0->datasets) (2023.10.0)\n",
      "Requirement already satisfied: aiohttp in /software.9/software/Anaconda3/2024.02-1/lib/python3.11/site-packages (from datasets) (3.9.3)\n",
      "Requirement already satisfied: huggingface-hub>=0.23.0 in ./.local/lib/python3.11/site-packages (from datasets) (0.26.5)\n",
      "Requirement already satisfied: packaging in /software.9/software/Anaconda3/2024.02-1/lib/python3.11/site-packages (from datasets) (23.1)\n",
      "Requirement already satisfied: pyyaml>=5.1 in /software.9/software/Anaconda3/2024.02-1/lib/python3.11/site-packages (from datasets) (6.0.1)\n",
      "Requirement already satisfied: aiosignal>=1.1.2 in /software.9/software/Anaconda3/2024.02-1/lib/python3.11/site-packages (from aiohttp->datasets) (1.2.0)\n",
      "Requirement already satisfied: attrs>=17.3.0 in /software.9/software/Anaconda3/2024.02-1/lib/python3.11/site-packages (from aiohttp->datasets) (23.1.0)\n",
      "Requirement already satisfied: frozenlist>=1.1.1 in /software.9/software/Anaconda3/2024.02-1/lib/python3.11/site-packages (from aiohttp->datasets) (1.4.0)\n",
      "Requirement already satisfied: multidict<7.0,>=4.5 in /software.9/software/Anaconda3/2024.02-1/lib/python3.11/site-packages (from aiohttp->datasets) (6.0.4)\n",
      "Requirement already satisfied: yarl<2.0,>=1.0 in /software.9/software/Anaconda3/2024.02-1/lib/python3.11/site-packages (from aiohttp->datasets) (1.9.3)\n",
      "Requirement already satisfied: typing-extensions>=3.7.4.3 in /software.9/software/Anaconda3/2024.02-1/lib/python3.11/site-packages (from huggingface-hub>=0.23.0->datasets) (4.9.0)\n",
      "Requirement already satisfied: charset-normalizer<4,>=2 in /software.9/software/Anaconda3/2024.02-1/lib/python3.11/site-packages (from requests>=2.32.2->datasets) (2.0.4)\n",
      "Requirement already satisfied: idna<4,>=2.5 in /software.9/software/Anaconda3/2024.02-1/lib/python3.11/site-packages (from requests>=2.32.2->datasets) (3.4)\n",
      "Requirement already satisfied: urllib3<3,>=1.21.1 in /software.9/software/Anaconda3/2024.02-1/lib/python3.11/site-packages (from requests>=2.32.2->datasets) (2.0.7)\n",
      "Requirement already satisfied: certifi>=2017.4.17 in /software.9/software/Anaconda3/2024.02-1/lib/python3.11/site-packages (from requests>=2.32.2->datasets) (2024.2.2)\n",
      "Requirement already satisfied: python-dateutil>=2.8.2 in /software.9/software/Anaconda3/2024.02-1/lib/python3.11/site-packages (from pandas->datasets) (2.8.2)\n",
      "Requirement already satisfied: pytz>=2020.1 in /software.9/software/Anaconda3/2024.02-1/lib/python3.11/site-packages (from pandas->datasets) (2023.3.post1)\n",
      "Requirement already satisfied: tzdata>=2022.1 in /software.9/software/Anaconda3/2024.02-1/lib/python3.11/site-packages (from pandas->datasets) (2023.3)\n",
      "Requirement already satisfied: six>=1.5 in /software.9/software/Anaconda3/2024.02-1/lib/python3.11/site-packages (from python-dateutil>=2.8.2->pandas->datasets) (1.16.0)\n"
     ]
    }
   ],
   "source": [
    "!pip install datasets"
   ]
  },
  {
   "cell_type": "code",
   "execution_count": 2,
   "metadata": {
    "id": "UEQ_d6KEfgM8"
   },
   "outputs": [],
   "source": [
    "from datasets import Dataset\n",
    "import os"
   ]
  },
  {
   "cell_type": "code",
   "execution_count": 3,
   "metadata": {
    "id": "y4yZb2AbfmiI"
   },
   "outputs": [],
   "source": [
    "# load arrow file\n",
    "data = Dataset.from_file(\"data-00000-of-00001.arrow\")\n",
    "\n",
    "# target path for CoNLL files\n",
    "output_dir = \"./data_conll\"\n",
    "os.makedirs(output_dir, exist_ok=True)\n",
    "\n",
    "tag_mapping = {0: \"O\", 1: \"B-PER\", 2: \"I-PER\", 3: \"B-ORG\", 4: \"I-ORG\", 5: \"B-LOC\", 6: \"I-LOC\"}\n",
    "\n",
    "def write_to_conll(data_split, output_file):\n",
    "    with open(output_file, 'w', encoding='utf-8') as f:\n",
    "        for example in data_split:\n",
    "            tokens = example[\"tokens\"]\n",
    "            tags = [tag_mapping[tag] for tag in example[\"ner_tags\"]]  # use mapping\n",
    "            for token, tag in zip(tokens, tags):\n",
    "                f.write(f\"{token} {tag}\\n\")\n",
    "            f.write(\"\\n\")  # sentence separation"
   ]
  },
  {
   "cell_type": "code",
   "execution_count": 4,
   "metadata": {
    "id": "YqSp-B4Vf-aG"
   },
   "outputs": [],
   "source": [
    "# read test file\n",
    "train_data = Dataset.from_file(\"data-00000-of-00001.arrow\")\n",
    "write_to_conll(train_data, \"./data_conll/test.txt\")"
   ]
  },
  {
   "cell_type": "code",
   "execution_count": 5,
   "metadata": {
    "id": "fzndZrQkgF3W"
   },
   "outputs": [],
   "source": [
    "# read train file\n",
    "validation_data = Dataset.from_file(\"data-00000-of-00001.arrow\")\n",
    "write_to_conll(validation_data, \"./data_conll/train.txt\")"
   ]
  },
  {
   "cell_type": "code",
   "execution_count": 6,
   "metadata": {
    "id": "WLkZPWe2gRkH"
   },
   "outputs": [],
   "source": [
    "# read validation file\n",
    "test_data = Dataset.from_file(\"data-00000-of-00001.arrow\")\n",
    "write_to_conll(test_data, \"./data_conll/validation.txt\")"
   ]
  },
  {
   "cell_type": "code",
   "execution_count": 3,
   "metadata": {
    "id": "d18iy85Hge2E"
   },
   "outputs": [
    {
     "name": "stdout",
     "output_type": "stream",
     "text": [
      "Defaulting to user installation because normal site-packages is not writeable\n",
      "Collecting flair\n",
      "  Downloading flair-0.15.0-py3-none-any.whl.metadata (12 kB)\n",
      "Collecting boto3>=1.20.27 (from flair)\n",
      "  Downloading boto3-1.36.2-py3-none-any.whl.metadata (6.6 kB)\n",
      "Collecting conllu<5.0.0,>=4.0 (from flair)\n",
      "  Downloading conllu-4.5.3-py2.py3-none-any.whl.metadata (19 kB)\n",
      "Collecting deprecated>=1.2.13 (from flair)\n",
      "  Downloading Deprecated-1.2.15-py2.py3-none-any.whl.metadata (5.5 kB)\n",
      "Collecting ftfy>=6.1.0 (from flair)\n",
      "  Downloading ftfy-6.3.1-py3-none-any.whl.metadata (7.3 kB)\n",
      "Collecting gdown>=4.4.0 (from flair)\n",
      "  Downloading gdown-5.2.0-py3-none-any.whl.metadata (5.8 kB)\n",
      "Requirement already satisfied: huggingface-hub>=0.10.0 in ./.local/lib/python3.11/site-packages (from flair) (0.26.5)\n",
      "Collecting langdetect>=1.0.9 (from flair)\n",
      "  Downloading langdetect-1.0.9.tar.gz (981 kB)\n",
      "\u001b[2K     \u001b[90m━━━━━━━━━━━━━━━━━━━━━━━━━━━━━━━━━━━━━━━\u001b[0m \u001b[32m981.5/981.5 kB\u001b[0m \u001b[31m1.8 MB/s\u001b[0m eta \u001b[36m0:00:00\u001b[0m00:01\u001b[0m00:01\u001b[0m\n",
      "\u001b[?25h  Preparing metadata (setup.py) ... \u001b[?25ldone\n",
      "\u001b[?25hRequirement already satisfied: lxml>=4.8.0 in /software.9/software/Anaconda3/2024.02-1/lib/python3.11/site-packages (from flair) (4.9.3)\n",
      "Requirement already satisfied: matplotlib>=2.2.3 in /software.9/software/Anaconda3/2024.02-1/lib/python3.11/site-packages (from flair) (3.8.0)\n",
      "Requirement already satisfied: more-itertools>=8.13.0 in /software.9/software/Anaconda3/2024.02-1/lib/python3.11/site-packages (from flair) (10.1.0)\n",
      "Collecting mpld3>=0.3 (from flair)\n",
      "  Downloading mpld3-0.5.10-py3-none-any.whl.metadata (5.1 kB)\n",
      "Collecting pptree>=3.1 (from flair)\n",
      "  Downloading pptree-3.1.tar.gz (3.0 kB)\n",
      "  Preparing metadata (setup.py) ... \u001b[?25ldone\n",
      "\u001b[?25hRequirement already satisfied: python-dateutil>=2.8.2 in /software.9/software/Anaconda3/2024.02-1/lib/python3.11/site-packages (from flair) (2.8.2)\n",
      "Collecting pytorch-revgrad>=0.2.0 (from flair)\n",
      "  Downloading pytorch_revgrad-0.2.0-py3-none-any.whl.metadata (1.7 kB)\n",
      "Requirement already satisfied: regex>=2022.1.18 in /software.9/software/Anaconda3/2024.02-1/lib/python3.11/site-packages (from flair) (2023.10.3)\n",
      "Requirement already satisfied: scikit-learn>=1.0.2 in /software.9/software/Anaconda3/2024.02-1/lib/python3.11/site-packages (from flair) (1.2.2)\n",
      "Collecting segtok>=1.5.11 (from flair)\n",
      "  Downloading segtok-1.5.11-py3-none-any.whl.metadata (9.0 kB)\n",
      "Collecting sqlitedict>=2.0.0 (from flair)\n",
      "  Downloading sqlitedict-2.1.0.tar.gz (21 kB)\n",
      "  Preparing metadata (setup.py) ... \u001b[?25ldone\n",
      "\u001b[?25hRequirement already satisfied: tabulate>=0.8.10 in /software.9/software/Anaconda3/2024.02-1/lib/python3.11/site-packages (from flair) (0.9.0)\n",
      "Requirement already satisfied: torch!=1.8,>=1.5.0 in ./.local/lib/python3.11/site-packages (from flair) (2.5.1+cpu)\n",
      "Requirement already satisfied: tqdm>=4.63.0 in ./.local/lib/python3.11/site-packages (from flair) (4.67.1)\n",
      "Collecting transformer-smaller-training-vocab>=0.2.3 (from flair)\n",
      "  Downloading transformer_smaller_training_vocab-0.4.0-py3-none-any.whl.metadata (8.1 kB)\n",
      "Requirement already satisfied: transformers<5.0.0,>=4.25.0 in ./.local/lib/python3.11/site-packages (from transformers[sentencepiece]<5.0.0,>=4.25.0->flair) (4.47.1)\n",
      "Collecting wikipedia-api>=0.5.7 (from flair)\n",
      "  Downloading wikipedia_api-0.8.0.tar.gz (19 kB)\n",
      "  Preparing metadata (setup.py) ... \u001b[?25ldone\n",
      "\u001b[?25hCollecting bioc<3.0.0,>=2.0.0 (from flair)\n",
      "  Downloading bioc-2.1-py3-none-any.whl.metadata (4.6 kB)\n",
      "Collecting jsonlines>=1.2.0 (from bioc<3.0.0,>=2.0.0->flair)\n",
      "  Downloading jsonlines-4.0.0-py3-none-any.whl.metadata (1.6 kB)\n",
      "Requirement already satisfied: intervaltree in /software.9/software/Anaconda3/2024.02-1/lib/python3.11/site-packages (from bioc<3.0.0,>=2.0.0->flair) (3.1.0)\n",
      "Collecting docopt (from bioc<3.0.0,>=2.0.0->flair)\n",
      "  Downloading docopt-0.6.2.tar.gz (25 kB)\n",
      "  Preparing metadata (setup.py) ... \u001b[?25ldone\n",
      "\u001b[?25hCollecting botocore<1.37.0,>=1.36.2 (from boto3>=1.20.27->flair)\n",
      "  Downloading botocore-1.36.2-py3-none-any.whl.metadata (5.7 kB)\n",
      "Requirement already satisfied: jmespath<2.0.0,>=0.7.1 in /software.9/software/Anaconda3/2024.02-1/lib/python3.11/site-packages (from boto3>=1.20.27->flair) (1.0.1)\n",
      "Collecting s3transfer<0.12.0,>=0.11.0 (from boto3>=1.20.27->flair)\n",
      "  Downloading s3transfer-0.11.1-py3-none-any.whl.metadata (1.7 kB)\n",
      "Requirement already satisfied: wrapt<2,>=1.10 in /software.9/software/Anaconda3/2024.02-1/lib/python3.11/site-packages (from deprecated>=1.2.13->flair) (1.14.1)\n",
      "Requirement already satisfied: wcwidth in /software.9/software/Anaconda3/2024.02-1/lib/python3.11/site-packages (from ftfy>=6.1.0->flair) (0.2.5)\n",
      "Requirement already satisfied: beautifulsoup4 in /software.9/software/Anaconda3/2024.02-1/lib/python3.11/site-packages (from gdown>=4.4.0->flair) (4.12.2)\n",
      "Requirement already satisfied: filelock in /software.9/software/Anaconda3/2024.02-1/lib/python3.11/site-packages (from gdown>=4.4.0->flair) (3.13.1)\n",
      "Requirement already satisfied: requests[socks] in ./.local/lib/python3.11/site-packages (from gdown>=4.4.0->flair) (2.32.3)\n",
      "Requirement already satisfied: fsspec>=2023.5.0 in /software.9/software/Anaconda3/2024.02-1/lib/python3.11/site-packages (from huggingface-hub>=0.10.0->flair) (2023.10.0)\n",
      "Requirement already satisfied: packaging>=20.9 in /software.9/software/Anaconda3/2024.02-1/lib/python3.11/site-packages (from huggingface-hub>=0.10.0->flair) (23.1)\n",
      "Requirement already satisfied: pyyaml>=5.1 in /software.9/software/Anaconda3/2024.02-1/lib/python3.11/site-packages (from huggingface-hub>=0.10.0->flair) (6.0.1)\n",
      "Requirement already satisfied: typing-extensions>=3.7.4.3 in /software.9/software/Anaconda3/2024.02-1/lib/python3.11/site-packages (from huggingface-hub>=0.10.0->flair) (4.9.0)\n",
      "Requirement already satisfied: six in /software.9/software/Anaconda3/2024.02-1/lib/python3.11/site-packages (from langdetect>=1.0.9->flair) (1.16.0)\n",
      "Requirement already satisfied: contourpy>=1.0.1 in /software.9/software/Anaconda3/2024.02-1/lib/python3.11/site-packages (from matplotlib>=2.2.3->flair) (1.2.0)\n",
      "Requirement already satisfied: cycler>=0.10 in /software.9/software/Anaconda3/2024.02-1/lib/python3.11/site-packages (from matplotlib>=2.2.3->flair) (0.11.0)\n",
      "Requirement already satisfied: fonttools>=4.22.0 in /software.9/software/Anaconda3/2024.02-1/lib/python3.11/site-packages (from matplotlib>=2.2.3->flair) (4.25.0)\n",
      "Requirement already satisfied: kiwisolver>=1.0.1 in /software.9/software/Anaconda3/2024.02-1/lib/python3.11/site-packages (from matplotlib>=2.2.3->flair) (1.4.4)\n",
      "Requirement already satisfied: numpy<2,>=1.21 in /software.9/software/Anaconda3/2024.02-1/lib/python3.11/site-packages (from matplotlib>=2.2.3->flair) (1.26.4)\n",
      "Requirement already satisfied: pillow>=6.2.0 in /software.9/software/Anaconda3/2024.02-1/lib/python3.11/site-packages (from matplotlib>=2.2.3->flair) (10.2.0)\n",
      "Requirement already satisfied: pyparsing>=2.3.1 in /software.9/software/Anaconda3/2024.02-1/lib/python3.11/site-packages (from matplotlib>=2.2.3->flair) (3.0.9)\n",
      "Requirement already satisfied: jinja2 in /software.9/software/Anaconda3/2024.02-1/lib/python3.11/site-packages (from mpld3>=0.3->flair) (3.1.3)\n",
      "Requirement already satisfied: scipy>=1.3.2 in /software.9/software/Anaconda3/2024.02-1/lib/python3.11/site-packages (from scikit-learn>=1.0.2->flair) (1.11.4)\n",
      "Requirement already satisfied: joblib>=1.1.1 in /software.9/software/Anaconda3/2024.02-1/lib/python3.11/site-packages (from scikit-learn>=1.0.2->flair) (1.2.0)\n",
      "Requirement already satisfied: threadpoolctl>=2.0.0 in /software.9/software/Anaconda3/2024.02-1/lib/python3.11/site-packages (from scikit-learn>=1.0.2->flair) (2.2.0)\n",
      "Requirement already satisfied: networkx in /software.9/software/Anaconda3/2024.02-1/lib/python3.11/site-packages (from torch!=1.8,>=1.5.0->flair) (3.1)\n",
      "Requirement already satisfied: sympy==1.13.1 in ./.local/lib/python3.11/site-packages (from torch!=1.8,>=1.5.0->flair) (1.13.1)\n",
      "Requirement already satisfied: mpmath<1.4,>=1.1.0 in /software.9/software/Anaconda3/2024.02-1/lib/python3.11/site-packages (from sympy==1.13.1->torch!=1.8,>=1.5.0->flair) (1.3.0)\n",
      "Requirement already satisfied: tokenizers<0.22,>=0.21 in ./.local/lib/python3.11/site-packages (from transformers<5.0.0,>=4.25.0->transformers[sentencepiece]<5.0.0,>=4.25.0->flair) (0.21.0)\n",
      "Requirement already satisfied: safetensors>=0.4.1 in ./.local/lib/python3.11/site-packages (from transformers<5.0.0,>=4.25.0->transformers[sentencepiece]<5.0.0,>=4.25.0->flair) (0.4.5)\n",
      "Collecting sentencepiece!=0.1.92,>=0.1.91 (from transformers[sentencepiece]<5.0.0,>=4.25.0->flair)\n",
      "  Downloading sentencepiece-0.2.0-cp311-cp311-manylinux_2_17_x86_64.manylinux2014_x86_64.whl.metadata (7.7 kB)\n",
      "Requirement already satisfied: protobuf in /software.9/software/Anaconda3/2024.02-1/lib/python3.11/site-packages (from transformers[sentencepiece]<5.0.0,>=4.25.0->flair) (3.20.3)\n",
      "Requirement already satisfied: urllib3!=2.2.0,<3,>=1.25.4 in /software.9/software/Anaconda3/2024.02-1/lib/python3.11/site-packages (from botocore<1.37.0,>=1.36.2->boto3>=1.20.27->flair) (2.0.7)\n",
      "Requirement already satisfied: attrs>=19.2.0 in /software.9/software/Anaconda3/2024.02-1/lib/python3.11/site-packages (from jsonlines>=1.2.0->bioc<3.0.0,>=2.0.0->flair) (23.1.0)\n",
      "Requirement already satisfied: accelerate>=0.26.0 in ./.local/lib/python3.11/site-packages (from transformers[sentencepiece,torch]<5.0,>=4.1->transformer-smaller-training-vocab>=0.2.3->flair) (1.2.1)\n",
      "Requirement already satisfied: soupsieve>1.2 in /software.9/software/Anaconda3/2024.02-1/lib/python3.11/site-packages (from beautifulsoup4->gdown>=4.4.0->flair) (2.5)\n",
      "Requirement already satisfied: sortedcontainers<3.0,>=2.0 in /software.9/software/Anaconda3/2024.02-1/lib/python3.11/site-packages (from intervaltree->bioc<3.0.0,>=2.0.0->flair) (2.4.0)\n",
      "Requirement already satisfied: MarkupSafe>=2.0 in /software.9/software/Anaconda3/2024.02-1/lib/python3.11/site-packages (from jinja2->mpld3>=0.3->flair) (2.1.3)\n",
      "Requirement already satisfied: charset-normalizer<4,>=2 in /software.9/software/Anaconda3/2024.02-1/lib/python3.11/site-packages (from requests[socks]->gdown>=4.4.0->flair) (2.0.4)\n",
      "Requirement already satisfied: idna<4,>=2.5 in /software.9/software/Anaconda3/2024.02-1/lib/python3.11/site-packages (from requests[socks]->gdown>=4.4.0->flair) (3.4)\n",
      "Requirement already satisfied: certifi>=2017.4.17 in /software.9/software/Anaconda3/2024.02-1/lib/python3.11/site-packages (from requests[socks]->gdown>=4.4.0->flair) (2024.2.2)\n",
      "Requirement already satisfied: PySocks!=1.5.7,>=1.5.6 in /software.9/software/Anaconda3/2024.02-1/lib/python3.11/site-packages (from requests[socks]->gdown>=4.4.0->flair) (1.7.1)\n",
      "Requirement already satisfied: psutil in /software.9/software/Anaconda3/2024.02-1/lib/python3.11/site-packages (from accelerate>=0.26.0->transformers[sentencepiece,torch]<5.0,>=4.1->transformer-smaller-training-vocab>=0.2.3->flair) (5.9.0)\n",
      "Downloading flair-0.15.0-py3-none-any.whl (1.2 MB)\n",
      "\u001b[2K   \u001b[90m━━━━━━━━━━━━━━━━━━━━━━━━━━━━━━━━━━━━━━━━\u001b[0m \u001b[32m1.2/1.2 MB\u001b[0m \u001b[31m9.2 MB/s\u001b[0m eta \u001b[36m0:00:00\u001b[0m:00:01\u001b[0m00:01\u001b[0m\n",
      "\u001b[?25hDownloading bioc-2.1-py3-none-any.whl (33 kB)\n",
      "Downloading boto3-1.36.2-py3-none-any.whl (139 kB)\n",
      "\u001b[2K   \u001b[90m━━━━━━━━━━━━━━━━━━━━━━━━━━━━━━━━━━━━━━━━\u001b[0m \u001b[32m139.2/139.2 kB\u001b[0m \u001b[31m1.1 MB/s\u001b[0m eta \u001b[36m0:00:00\u001b[0mta \u001b[36m0:00:01\u001b[0m\n",
      "\u001b[?25hDownloading conllu-4.5.3-py2.py3-none-any.whl (16 kB)\n",
      "Downloading Deprecated-1.2.15-py2.py3-none-any.whl (9.9 kB)\n",
      "Downloading ftfy-6.3.1-py3-none-any.whl (44 kB)\n",
      "\u001b[2K   \u001b[90m━━━━━━━━━━━━━━━━━━━━━━━━━━━━━━━━━━━━━━━━\u001b[0m \u001b[32m44.8/44.8 kB\u001b[0m \u001b[31m12.0 MB/s\u001b[0m eta \u001b[36m0:00:00\u001b[0m\n",
      "\u001b[?25hDownloading gdown-5.2.0-py3-none-any.whl (18 kB)\n",
      "Downloading mpld3-0.5.10-py3-none-any.whl (202 kB)\n",
      "\u001b[2K   \u001b[90m━━━━━━━━━━━━━━━━━━━━━━━━━━━━━━━━━━━━━━━━\u001b[0m \u001b[32m202.6/202.6 kB\u001b[0m \u001b[31m25.5 MB/s\u001b[0m eta \u001b[36m0:00:00\u001b[0m\n",
      "\u001b[?25hDownloading pytorch_revgrad-0.2.0-py3-none-any.whl (4.6 kB)\n",
      "Downloading segtok-1.5.11-py3-none-any.whl (24 kB)\n",
      "Downloading transformer_smaller_training_vocab-0.4.0-py3-none-any.whl (14 kB)\n",
      "Downloading botocore-1.36.2-py3-none-any.whl (13.3 MB)\n",
      "\u001b[2K   \u001b[90m━━━━━━━━━━━━━━━━━━━━━━━━━━━━━━━━━━━━━━━━\u001b[0m \u001b[32m13.3/13.3 MB\u001b[0m \u001b[31m21.7 MB/s\u001b[0m eta \u001b[36m0:00:00\u001b[0m00:01\u001b[0m00:01\u001b[0m\n",
      "\u001b[?25hDownloading jsonlines-4.0.0-py3-none-any.whl (8.7 kB)\n",
      "Downloading s3transfer-0.11.1-py3-none-any.whl (84 kB)\n",
      "\u001b[2K   \u001b[90m━━━━━━━━━━━━━━━━━━━━━━━━━━━━━━━━━━━━━━━━\u001b[0m \u001b[32m84.1/84.1 kB\u001b[0m \u001b[31m18.1 MB/s\u001b[0m eta \u001b[36m0:00:00\u001b[0m\n",
      "\u001b[?25hDownloading sentencepiece-0.2.0-cp311-cp311-manylinux_2_17_x86_64.manylinux2014_x86_64.whl (1.3 MB)\n",
      "\u001b[2K   \u001b[90m━━━━━━━━━━━━━━━━━━━━━━━━━━━━━━━━━━━━━━━━\u001b[0m \u001b[32m1.3/1.3 MB\u001b[0m \u001b[31m12.0 MB/s\u001b[0m eta \u001b[36m0:00:00\u001b[0m00:01\u001b[0m00:01\u001b[0m\n",
      "\u001b[?25hBuilding wheels for collected packages: langdetect, pptree, sqlitedict, wikipedia-api, docopt\n",
      "  Building wheel for langdetect (setup.py) ... \u001b[?25ldone\n",
      "\u001b[?25h  Created wheel for langdetect: filename=langdetect-1.0.9-py3-none-any.whl size=993224 sha256=02aee2a4346dc6c8fd8a9c2e4845566a41af3a893551d91d8ea36a10a460f59c\n",
      "  Stored in directory: /storage/homefs/jd14r010/.cache/pip/wheels/0a/f2/b2/e5ca405801e05eb7c8ed5b3b4bcf1fcabcd6272c167640072e\n",
      "  Building wheel for pptree (setup.py) ... \u001b[?25ldone\n",
      "\u001b[?25h  Created wheel for pptree: filename=pptree-3.1-py3-none-any.whl size=4609 sha256=78c9297b4c9ba34ae294458b69755888a5c0d1a0225c8817048520fac55d1b0a\n",
      "  Stored in directory: /storage/homefs/jd14r010/.cache/pip/wheels/68/8a/eb/d683aa6d09dc68ebfde2f37566ddc8807837c4415b4fd2b04c\n",
      "  Building wheel for sqlitedict (setup.py) ... \u001b[?25ldone\n",
      "\u001b[?25h  Created wheel for sqlitedict: filename=sqlitedict-2.1.0-py3-none-any.whl size=16864 sha256=3b93fb1b05add9e0636307880865859d897c68a86fb246fb036feb2ac74d2e73\n",
      "  Stored in directory: /storage/homefs/jd14r010/.cache/pip/wheels/73/63/89/7210274f9b7fb033b8f22671f64c0e0b55083d30c3c046a3ff\n",
      "  Building wheel for wikipedia-api (setup.py) ... \u001b[?25ldone\n",
      "\u001b[?25h  Created wheel for wikipedia-api: filename=Wikipedia_API-0.8.0-py3-none-any.whl size=15019 sha256=3d1802440dbfe035a56eedf4597e0da376804a5cedd0377aecd8ae15af869d0c\n",
      "  Stored in directory: /storage/homefs/jd14r010/.cache/pip/wheels/b2/ad/3c/057e02936105274596f8b5077071b8947db72a482524e7a34b\n",
      "  Building wheel for docopt (setup.py) ... \u001b[?25ldone\n",
      "\u001b[?25h  Created wheel for docopt: filename=docopt-0.6.2-py2.py3-none-any.whl size=13705 sha256=fc3e9182477fb0eec836d5f989de666f909bec9358ababd38663d5cfa8210173\n",
      "  Stored in directory: /storage/homefs/jd14r010/.cache/pip/wheels/1a/b0/8c/4b75c4116c31f83c8f9f047231251e13cc74481cca4a78a9ce\n",
      "Successfully built langdetect pptree sqlitedict wikipedia-api docopt\n",
      "Installing collected packages: sqlitedict, sentencepiece, pptree, docopt, segtok, langdetect, jsonlines, ftfy, deprecated, conllu, wikipedia-api, botocore, bioc, s3transfer, pytorch-revgrad, mpld3, gdown, boto3, transformer-smaller-training-vocab, flair\n",
      "\u001b[31mERROR: pip's dependency resolver does not currently take into account all the packages that are installed. This behaviour is the source of the following dependency conflicts.\n",
      "aiobotocore 2.7.0 requires botocore<1.31.65,>=1.31.16, but you have botocore 1.36.2 which is incompatible.\u001b[0m\u001b[31m\n",
      "\u001b[0mSuccessfully installed bioc-2.1 boto3-1.36.2 botocore-1.36.2 conllu-4.5.3 deprecated-1.2.15 docopt-0.6.2 flair-0.15.0 ftfy-6.3.1 gdown-5.2.0 jsonlines-4.0.0 langdetect-1.0.9 mpld3-0.5.10 pptree-3.1 pytorch-revgrad-0.2.0 s3transfer-0.11.1 segtok-1.5.11 sentencepiece-0.2.0 sqlitedict-2.1.0 transformer-smaller-training-vocab-0.4.0 wikipedia-api-0.8.0\n"
     ]
    }
   ],
   "source": [
    "!pip install flair"
   ]
  },
  {
   "cell_type": "code",
   "execution_count": 4,
   "metadata": {},
   "outputs": [
    {
     "name": "stdout",
     "output_type": "stream",
     "text": [
      "2025-01-19 11:29:27,170 SequenceTagger predicts: Dictionary with 15 tags: O, S-ORG, B-ORG, E-ORG, I-ORG, S-PER, B-PER, E-PER, I-PER, S-LOC, B-LOC, E-LOC, I-LOC, <START>, <STOP>\n"
     ]
    }
   ],
   "source": [
    "from flair.models import SequenceTagger\n",
    "\n",
    "# Pfad zum gespeicherten Modell\n",
    "model_path = \"best-model.pt\"\n",
    "\n",
    "# Modell laden\n",
    "tagger = SequenceTagger.load(model_path)\n"
   ]
  },
  {
   "cell_type": "code",
   "execution_count": 7,
   "metadata": {},
   "outputs": [
    {
     "name": "stdout",
     "output_type": "stream",
     "text": [
      "2025-01-19 11:33:21,116 Reading data from Data_de/test_de\n",
      "2025-01-19 11:33:21,117 Train: None\n",
      "2025-01-19 11:33:21,117 Dev: None\n",
      "2025-01-19 11:33:21,117 Test: Data_de/test_de/test_de.txt\n",
      "Sentence[3]: \"WEITERLEITUNG Hu Xian\" → [\"WEITERLEITUNG Hu Xian\"/PER]\n",
      "Entity: WEITERLEITUNG Hu Xian, Type: PER, Confidence: 0.5638\n",
      "Sentence[4]: \"Katja Kipping Bernd Riexinger\" → [\"Katja Kipping\"/PER, \"Riexinger\"/PER]\n",
      "Entity: Katja Kipping, Type: PER, Confidence: 0.7049\n",
      "Entity: Riexinger, Type: PER, Confidence: 0.5375\n",
      "Sentence[12]: \"Runde rammte Lorenzo Bandini an zweiter Stelle liegend die Streckenbegrenzung aus Strohballen\" → [\"Runde rammte Lorenzo Bandini\"/PER, \"zweiter Stelle\"/PER]\n",
      "Entity: Runde rammte Lorenzo Bandini, Type: PER, Confidence: 0.5897\n",
      "Entity: zweiter Stelle, Type: PER, Confidence: 0.6117\n",
      "Sentence[17]: \"Im Doppel waren Marcelo Melo und André Sá die Titelverteidiger sie schieden in der ersten Runde aus\" → [\"Im Doppel\"/PER, \"Marcelo Melo\"/PER, \"André Sá\"/PER, \"Titelverteidiger sie\"/PER, \"der ersten Runde\"/ORG]\n",
      "Entity: Im Doppel, Type: PER, Confidence: 0.4756\n",
      "Entity: Marcelo Melo, Type: PER, Confidence: 0.5338\n",
      "Entity: André Sá, Type: PER, Confidence: 0.5336\n",
      "Entity: Titelverteidiger sie, Type: PER, Confidence: 0.5350\n",
      "Entity: der ersten Runde, Type: ORG, Confidence: 0.5638\n",
      "Sentence[4]: \"Gary Glitter Always Yours\" → [\"Gary Glitter Always Yours\"/ORG]\n",
      "Entity: Gary Glitter Always Yours, Type: ORG, Confidence: 0.5863\n",
      "Sentence[10]: \"Alexandrasittiche kommen außerdem in den Galeriewäldern entlang von Wasserläufen vor\" → [\"Alexandrasittiche kommen\"/PER, \"entlang von Wasserläufen\"/PER]\n",
      "Entity: Alexandrasittiche kommen, Type: PER, Confidence: 0.6446\n",
      "Entity: entlang von Wasserläufen, Type: PER, Confidence: 0.4372\n",
      "Sentence[11]: \"Das Cover zeigt sie zusammen mit Kate Moss und Gisele Bündchen\" → [\"Das Cover zeigt sie zusammen\"/ORG, \"Kate Moss\"/PER, \"Gisele Bündchen\"/PER]\n",
      "Entity: Das Cover zeigt sie zusammen, Type: ORG, Confidence: 0.4728\n",
      "Entity: Kate Moss, Type: PER, Confidence: 0.4704\n",
      "Entity: Gisele Bündchen, Type: PER, Confidence: 0.4027\n",
      "Sentence[1]: \"Irland\"\n",
      "Sentence[1]: \"Warendorf\" → [\"Warendorf\"/LOC]\n",
      "Entity: Warendorf, Type: LOC, Confidence: 0.6341\n",
      "Sentence[4]: \"Tour dAï 2332 m\"\n"
     ]
    }
   ],
   "source": [
    "from flair.datasets import ColumnCorpus\n",
    "\n",
    "# Gib den Pfad zum Verzeichnis mit deinen CoNLL-Dateien an\n",
    "data_folder = \"./Data_de/test_de\"  # Das Verzeichnis, das die 'test_de.txt' enthält\n",
    "\n",
    "# Erstelle den ColumnCorpus, indem du die Testdatei angibst\n",
    "corpus = ColumnCorpus(data_folder, \n",
    "                      column_format={0: 'text', 1: 'ner'},\n",
    "                      test_file=\"test_de.txt\")\n",
    "\n",
    "# Nur die ersten 10 Sätze durchlaufen\n",
    "max_sentences = 10\n",
    "for i, sentence in enumerate(corpus.test):\n",
    "    if i >= max_sentences:\n",
    "        break\n",
    "    \n",
    "    # Vorhersagen durchführen\n",
    "    tagger.predict(sentence)\n",
    "    \n",
    "    # Ausgabe des Satzes\n",
    "    print(sentence)\n",
    "    \n",
    "    # Ausgabe der erkannten Entitäten\n",
    "    for entity in sentence.get_spans('ner'):\n",
    "        print(f\"Entity: {entity.text}, Type: {entity.get_label('ner').value}, Confidence: {entity.score:.4f}\")\n"
   ]
  },
  {
   "cell_type": "code",
   "execution_count": 8,
   "metadata": {},
   "outputs": [
    {
     "name": "stdout",
     "output_type": "stream",
     "text": [
      "Defaulting to user installation because normal site-packages is not writeable\n",
      "Requirement already satisfied: matplotlib in /software.9/software/Anaconda3/2024.02-1/lib/python3.11/site-packages (3.8.0)\n",
      "Requirement already satisfied: contourpy>=1.0.1 in /software.9/software/Anaconda3/2024.02-1/lib/python3.11/site-packages (from matplotlib) (1.2.0)\n",
      "Requirement already satisfied: cycler>=0.10 in /software.9/software/Anaconda3/2024.02-1/lib/python3.11/site-packages (from matplotlib) (0.11.0)\n",
      "Requirement already satisfied: fonttools>=4.22.0 in /software.9/software/Anaconda3/2024.02-1/lib/python3.11/site-packages (from matplotlib) (4.25.0)\n",
      "Requirement already satisfied: kiwisolver>=1.0.1 in /software.9/software/Anaconda3/2024.02-1/lib/python3.11/site-packages (from matplotlib) (1.4.4)\n",
      "Requirement already satisfied: numpy<2,>=1.21 in /software.9/software/Anaconda3/2024.02-1/lib/python3.11/site-packages (from matplotlib) (1.26.4)\n",
      "Requirement already satisfied: packaging>=20.0 in /software.9/software/Anaconda3/2024.02-1/lib/python3.11/site-packages (from matplotlib) (23.1)\n",
      "Requirement already satisfied: pillow>=6.2.0 in /software.9/software/Anaconda3/2024.02-1/lib/python3.11/site-packages (from matplotlib) (10.2.0)\n",
      "Requirement already satisfied: pyparsing>=2.3.1 in /software.9/software/Anaconda3/2024.02-1/lib/python3.11/site-packages (from matplotlib) (3.0.9)\n",
      "Requirement already satisfied: python-dateutil>=2.7 in /software.9/software/Anaconda3/2024.02-1/lib/python3.11/site-packages (from matplotlib) (2.8.2)\n",
      "Requirement already satisfied: six>=1.5 in /software.9/software/Anaconda3/2024.02-1/lib/python3.11/site-packages (from python-dateutil>=2.7->matplotlib) (1.16.0)\n",
      "Note: you may need to restart the kernel to use updated packages.\n"
     ]
    }
   ],
   "source": [
    "pip install matplotlib\n"
   ]
  },
  {
   "cell_type": "code",
   "execution_count": 20,
   "metadata": {},
   "outputs": [
    {
     "data": {
      "text/html": [
       "<span class=\"tex2jax_ignore\"><!DOCTYPE html>\n",
       "<html lang=\"de\">\n",
       "    <head>\n",
       "        <title>displaCy</title>\n",
       "    </head>\n",
       "\n",
       "    <body style=\"font-size: 16px; font-family: -apple-system, BlinkMacSystemFont, 'Segoe UI', Helvetica, Arial, sans-serif, 'Apple Color Emoji', 'Segoe UI Emoji', 'Segoe UI Symbol'; padding: 4rem 2rem; direction: ltr\">\n",
       "<figure style=\"margin-bottom: 6rem\">\n",
       "<div class=\"entities\" style=\"line-height: 2.5; direction: ltr\">Das Cover zeigt sie zusammen mit \n",
       "<mark class=\"entity\" style=\"background: #ddd; padding: 0.45em 0.6em; margin: 0 0.25em; line-height: 1; border-radius: 0.35em;\">\n",
       "    Kate Moss\n",
       "    <span style=\"font-size: 0.8em; font-weight: bold; line-height: 1; border-radius: 0.35em; vertical-align: middle; margin-left: 0.5rem\">PER</span>\n",
       "</mark>\n",
       " und \n",
       "<mark class=\"entity\" style=\"background: #ddd; padding: 0.45em 0.6em; margin: 0 0.25em; line-height: 1; border-radius: 0.35em;\">\n",
       "    Gisele Bündchen\n",
       "    <span style=\"font-size: 0.8em; font-weight: bold; line-height: 1; border-radius: 0.35em; vertical-align: middle; margin-left: 0.5rem\">PER</span>\n",
       "</mark>\n",
       ".</div>\n",
       "</figure>\n",
       "</body>\n",
       "</html></span>"
      ],
      "text/plain": [
       "<IPython.core.display.HTML object>"
      ]
     },
     "metadata": {},
     "output_type": "display_data"
    }
   ],
   "source": [
    "import spacy\n",
    "from spacy import displacy\n",
    "\n",
    "# Lade das spaCy Modell\n",
    "nlp = spacy.load(\"de_core_news_sm\")  # Für deutsche Sprache\n",
    "\n",
    "# Beispieltext\n",
    "text = \"Das Cover zeigt sie zusammen mit Kate Moss und Gisele Bündchen.\"\n",
    "\n",
    "# Text verarbeiten\n",
    "doc = nlp(text)\n",
    "\n",
    "# Visualisierung der Entitäten\n",
    "displacy.render(doc, style=\"ent\", page=True)\n"
   ]
  },
  {
   "cell_type": "code",
   "execution_count": null,
   "metadata": {},
   "outputs": [],
   "source": []
  }
 ],
 "metadata": {
  "accelerator": "GPU",
  "colab": {
   "gpuType": "T4",
   "provenance": []
  },
  "kernelspec": {
   "display_name": "Python 3 (ipykernel)",
   "language": "python",
   "name": "python3"
  },
  "language_info": {
   "codemirror_mode": {
    "name": "ipython",
    "version": 3
   },
   "file_extension": ".py",
   "mimetype": "text/x-python",
   "name": "python",
   "nbconvert_exporter": "python",
   "pygments_lexer": "ipython3",
   "version": "3.11.7"
  }
 },
 "nbformat": 4,
 "nbformat_minor": 4
}
