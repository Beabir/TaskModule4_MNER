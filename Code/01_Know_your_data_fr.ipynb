{
 "cells": [
  {
   "cell_type": "code",
   "execution_count": 1,
   "id": "56ad4e91-d9ef-4afa-80d1-336afd6e2eba",
   "metadata": {},
   "outputs": [
    {
     "name": "stdout",
     "output_type": "stream",
     "text": [
      "Defaulting to user installation because normal site-packages is not writeable\n",
      "Requirement already satisfied: datasets in ./.local/lib/python3.11/site-packages (3.1.0)\n",
      "Requirement already satisfied: filelock in /software.9/software/Anaconda3/2024.02-1/lib/python3.11/site-packages (from datasets) (3.13.1)\n",
      "Requirement already satisfied: numpy>=1.17 in /software.9/software/Anaconda3/2024.02-1/lib/python3.11/site-packages (from datasets) (1.26.4)\n",
      "Requirement already satisfied: pyarrow>=15.0.0 in ./.local/lib/python3.11/site-packages (from datasets) (18.1.0)\n",
      "Requirement already satisfied: dill<0.3.9,>=0.3.0 in ./.local/lib/python3.11/site-packages (from datasets) (0.3.8)\n",
      "Requirement already satisfied: pandas in /software.9/software/Anaconda3/2024.02-1/lib/python3.11/site-packages (from datasets) (2.1.4)\n",
      "Requirement already satisfied: requests>=2.32.2 in ./.local/lib/python3.11/site-packages (from datasets) (2.32.3)\n",
      "Requirement already satisfied: tqdm>=4.66.3 in ./.local/lib/python3.11/site-packages (from datasets) (4.67.1)\n",
      "Requirement already satisfied: xxhash in ./.local/lib/python3.11/site-packages (from datasets) (3.5.0)\n",
      "Requirement already satisfied: multiprocess<0.70.17 in ./.local/lib/python3.11/site-packages (from datasets) (0.70.16)\n",
      "Requirement already satisfied: fsspec<=2024.9.0,>=2023.1.0 in /software.9/software/Anaconda3/2024.02-1/lib/python3.11/site-packages (from fsspec[http]<=2024.9.0,>=2023.1.0->datasets) (2023.10.0)\n",
      "Requirement already satisfied: aiohttp in /software.9/software/Anaconda3/2024.02-1/lib/python3.11/site-packages (from datasets) (3.9.3)\n",
      "Requirement already satisfied: huggingface-hub>=0.23.0 in ./.local/lib/python3.11/site-packages (from datasets) (0.26.3)\n",
      "Requirement already satisfied: packaging in /software.9/software/Anaconda3/2024.02-1/lib/python3.11/site-packages (from datasets) (23.1)\n",
      "Requirement already satisfied: pyyaml>=5.1 in /software.9/software/Anaconda3/2024.02-1/lib/python3.11/site-packages (from datasets) (6.0.1)\n",
      "Requirement already satisfied: aiosignal>=1.1.2 in /software.9/software/Anaconda3/2024.02-1/lib/python3.11/site-packages (from aiohttp->datasets) (1.2.0)\n",
      "Requirement already satisfied: attrs>=17.3.0 in /software.9/software/Anaconda3/2024.02-1/lib/python3.11/site-packages (from aiohttp->datasets) (23.1.0)\n",
      "Requirement already satisfied: frozenlist>=1.1.1 in /software.9/software/Anaconda3/2024.02-1/lib/python3.11/site-packages (from aiohttp->datasets) (1.4.0)\n",
      "Requirement already satisfied: multidict<7.0,>=4.5 in /software.9/software/Anaconda3/2024.02-1/lib/python3.11/site-packages (from aiohttp->datasets) (6.0.4)\n",
      "Requirement already satisfied: yarl<2.0,>=1.0 in /software.9/software/Anaconda3/2024.02-1/lib/python3.11/site-packages (from aiohttp->datasets) (1.9.3)\n",
      "Requirement already satisfied: typing-extensions>=3.7.4.3 in /software.9/software/Anaconda3/2024.02-1/lib/python3.11/site-packages (from huggingface-hub>=0.23.0->datasets) (4.9.0)\n",
      "Requirement already satisfied: charset-normalizer<4,>=2 in /software.9/software/Anaconda3/2024.02-1/lib/python3.11/site-packages (from requests>=2.32.2->datasets) (2.0.4)\n",
      "Requirement already satisfied: idna<4,>=2.5 in /software.9/software/Anaconda3/2024.02-1/lib/python3.11/site-packages (from requests>=2.32.2->datasets) (3.4)\n",
      "Requirement already satisfied: urllib3<3,>=1.21.1 in /software.9/software/Anaconda3/2024.02-1/lib/python3.11/site-packages (from requests>=2.32.2->datasets) (2.0.7)\n",
      "Requirement already satisfied: certifi>=2017.4.17 in /software.9/software/Anaconda3/2024.02-1/lib/python3.11/site-packages (from requests>=2.32.2->datasets) (2024.2.2)\n",
      "Requirement already satisfied: python-dateutil>=2.8.2 in /software.9/software/Anaconda3/2024.02-1/lib/python3.11/site-packages (from pandas->datasets) (2.8.2)\n",
      "Requirement already satisfied: pytz>=2020.1 in /software.9/software/Anaconda3/2024.02-1/lib/python3.11/site-packages (from pandas->datasets) (2023.3.post1)\n",
      "Requirement already satisfied: tzdata>=2022.1 in /software.9/software/Anaconda3/2024.02-1/lib/python3.11/site-packages (from pandas->datasets) (2023.3)\n",
      "Requirement already satisfied: six>=1.5 in /software.9/software/Anaconda3/2024.02-1/lib/python3.11/site-packages (from python-dateutil>=2.8.2->pandas->datasets) (1.16.0)\n"
     ]
    }
   ],
   "source": [
    "!pip install datasets"
   ]
  },
  {
   "cell_type": "code",
   "execution_count": 2,
   "id": "dc4d2c99-eb30-4f96-a1ca-195d5cee3f8e",
   "metadata": {},
   "outputs": [],
   "source": [
    "import pandas as pd # Import pandas to work with DataFrames"
   ]
  },
  {
   "cell_type": "code",
   "execution_count": 4,
   "id": "d1b6c7fe-cec7-433f-87d1-18fa6c6c8821",
   "metadata": {},
   "outputs": [
    {
     "name": "stdout",
     "output_type": "stream",
     "text": [
      "Defaulting to user installation because normal site-packages is not writeable\n",
      "Requirement already satisfied: ipywidgets in ./.local/lib/python3.11/site-packages (8.1.5)\n",
      "Requirement already satisfied: comm>=0.1.3 in ./.local/lib/python3.11/site-packages (from ipywidgets) (0.2.2)\n",
      "Requirement already satisfied: ipython>=6.1.0 in /software.9/software/Anaconda3/2024.02-1/lib/python3.11/site-packages (from ipywidgets) (8.20.0)\n",
      "Requirement already satisfied: traitlets>=4.3.1 in /software.9/software/Anaconda3/2024.02-1/lib/python3.11/site-packages (from ipywidgets) (5.7.1)\n",
      "Requirement already satisfied: widgetsnbextension~=4.0.12 in ./.local/lib/python3.11/site-packages (from ipywidgets) (4.0.13)\n",
      "Requirement already satisfied: jupyterlab-widgets~=3.0.12 in ./.local/lib/python3.11/site-packages (from ipywidgets) (3.0.13)\n",
      "Requirement already satisfied: decorator in /software.9/software/Anaconda3/2024.02-1/lib/python3.11/site-packages (from ipython>=6.1.0->ipywidgets) (5.1.1)\n",
      "Requirement already satisfied: jedi>=0.16 in /software.9/software/Anaconda3/2024.02-1/lib/python3.11/site-packages (from ipython>=6.1.0->ipywidgets) (0.18.1)\n",
      "Requirement already satisfied: matplotlib-inline in /software.9/software/Anaconda3/2024.02-1/lib/python3.11/site-packages (from ipython>=6.1.0->ipywidgets) (0.1.6)\n",
      "Requirement already satisfied: prompt-toolkit<3.1.0,>=3.0.41 in /software.9/software/Anaconda3/2024.02-1/lib/python3.11/site-packages (from ipython>=6.1.0->ipywidgets) (3.0.43)\n",
      "Requirement already satisfied: pygments>=2.4.0 in /software.9/software/Anaconda3/2024.02-1/lib/python3.11/site-packages (from ipython>=6.1.0->ipywidgets) (2.15.1)\n",
      "Requirement already satisfied: stack-data in /software.9/software/Anaconda3/2024.02-1/lib/python3.11/site-packages (from ipython>=6.1.0->ipywidgets) (0.2.0)\n",
      "Requirement already satisfied: pexpect>4.3 in /software.9/software/Anaconda3/2024.02-1/lib/python3.11/site-packages (from ipython>=6.1.0->ipywidgets) (4.8.0)\n",
      "Requirement already satisfied: parso<0.9.0,>=0.8.0 in /software.9/software/Anaconda3/2024.02-1/lib/python3.11/site-packages (from jedi>=0.16->ipython>=6.1.0->ipywidgets) (0.8.3)\n",
      "Requirement already satisfied: ptyprocess>=0.5 in /software.9/software/Anaconda3/2024.02-1/lib/python3.11/site-packages (from pexpect>4.3->ipython>=6.1.0->ipywidgets) (0.7.0)\n",
      "Requirement already satisfied: wcwidth in /software.9/software/Anaconda3/2024.02-1/lib/python3.11/site-packages (from prompt-toolkit<3.1.0,>=3.0.41->ipython>=6.1.0->ipywidgets) (0.2.5)\n",
      "Requirement already satisfied: executing in /software.9/software/Anaconda3/2024.02-1/lib/python3.11/site-packages (from stack-data->ipython>=6.1.0->ipywidgets) (0.8.3)\n",
      "Requirement already satisfied: asttokens in /software.9/software/Anaconda3/2024.02-1/lib/python3.11/site-packages (from stack-data->ipython>=6.1.0->ipywidgets) (2.0.5)\n",
      "Requirement already satisfied: pure-eval in /software.9/software/Anaconda3/2024.02-1/lib/python3.11/site-packages (from stack-data->ipython>=6.1.0->ipywidgets) (0.2.2)\n",
      "Requirement already satisfied: six in /software.9/software/Anaconda3/2024.02-1/lib/python3.11/site-packages (from asttokens->stack-data->ipython>=6.1.0->ipywidgets) (1.16.0)\n",
      "Note: you may need to restart the kernel to use updated packages.\n"
     ]
    }
   ],
   "source": [
    "pip install ipywidgets --upgrade\n"
   ]
  },
  {
   "cell_type": "code",
   "execution_count": 6,
   "id": "d7f7cbf8-a63f-487c-ae98-ccc8cdd412a3",
   "metadata": {},
   "outputs": [
    {
     "data": {
      "application/vnd.jupyter.widget-view+json": {
       "model_id": "124eccaf80514779b2d7ed31a9987790",
       "version_major": 2,
       "version_minor": 0
      },
      "text/plain": [
       "validation-00000-of-00001.parquet:   0%|          | 0.00/673k [00:00<?, ?B/s]"
      ]
     },
     "metadata": {},
     "output_type": "display_data"
    },
    {
     "data": {
      "application/vnd.jupyter.widget-view+json": {
       "model_id": "5ceeb6a3ca814def9b123e6150bb79b4",
       "version_major": 2,
       "version_minor": 0
      },
      "text/plain": [
       "test-00000-of-00001.parquet:   0%|          | 0.00/678k [00:00<?, ?B/s]"
      ]
     },
     "metadata": {},
     "output_type": "display_data"
    },
    {
     "data": {
      "application/vnd.jupyter.widget-view+json": {
       "model_id": "bf03882391ca4ea793c2f257486ece35",
       "version_major": 2,
       "version_minor": 0
      },
      "text/plain": [
       "train-00000-of-00001.parquet:   0%|          | 0.00/1.34M [00:00<?, ?B/s]"
      ]
     },
     "metadata": {},
     "output_type": "display_data"
    },
    {
     "data": {
      "application/vnd.jupyter.widget-view+json": {
       "model_id": "9cf42fa6bd0043cd9957453607256837",
       "version_major": 2,
       "version_minor": 0
      },
      "text/plain": [
       "Generating validation split:   0%|          | 0/10000 [00:00<?, ? examples/s]"
      ]
     },
     "metadata": {},
     "output_type": "display_data"
    },
    {
     "data": {
      "application/vnd.jupyter.widget-view+json": {
       "model_id": "1a6a0f46c0284a9fbdb9a78c0809a5c4",
       "version_major": 2,
       "version_minor": 0
      },
      "text/plain": [
       "Generating test split:   0%|          | 0/10000 [00:00<?, ? examples/s]"
      ]
     },
     "metadata": {},
     "output_type": "display_data"
    },
    {
     "data": {
      "application/vnd.jupyter.widget-view+json": {
       "model_id": "d41a1c310b41454da897fef4d85617b7",
       "version_major": 2,
       "version_minor": 0
      },
      "text/plain": [
       "Generating train split:   0%|          | 0/20000 [00:00<?, ? examples/s]"
      ]
     },
     "metadata": {},
     "output_type": "display_data"
    },
    {
     "name": "stdout",
     "output_type": "stream",
     "text": [
      "{'tokens': [['Saxifrage', 'faux', 'Orpin'], ['REDIRECTION', 'The', 'Lady', 'of', 'Rage'], ['Parti', 'libéral', 'du', 'Québec'], ['Après', 'deux', 'nuls', '(', 'Guingamp', 'et', 'Amiens', ')', 'et', 'deux', 'défaites', '(', 'Charleroi', 'et', 'Lokeren', ')', ',', 'les', 'hommes', 'Antoine', 'Kombouaré', 'se', 'reprennent', 'et', 'remportent', 'leurs', 'deux', 'dernières', 'confrontations', 'contre', 'UNFP', 'et', 'Sedan', '.'], ['Ernst', 'Vettori', 'Richard', 'Schallert', 'Franz', 'Neuländtner', 'Andreas', 'Felder']], 'ner_tags': [[5, 6, 6], [0, 1, 2, 2, 2], [3, 4, 4, 4], [0, 0, 0, 0, 3, 0, 3, 0, 0, 0, 0, 0, 3, 0, 3, 0, 0, 0, 0, 1, 2, 0, 0, 0, 0, 0, 0, 0, 0, 0, 3, 0, 3, 0], [1, 2, 1, 2, 1, 2, 1, 2]], 'langs': [['fr', 'fr', 'fr'], ['fr', 'fr', 'fr', 'fr', 'fr'], ['fr', 'fr', 'fr', 'fr'], ['fr', 'fr', 'fr', 'fr', 'fr', 'fr', 'fr', 'fr', 'fr', 'fr', 'fr', 'fr', 'fr', 'fr', 'fr', 'fr', 'fr', 'fr', 'fr', 'fr', 'fr', 'fr', 'fr', 'fr', 'fr', 'fr', 'fr', 'fr', 'fr', 'fr', 'fr', 'fr', 'fr', 'fr'], ['fr', 'fr', 'fr', 'fr', 'fr', 'fr', 'fr', 'fr']], 'spans': [['LOC: Saxifrage faux Orpin'], ['PER: The Lady of Rage'], ['ORG: Parti libéral du Québec'], ['ORG: Guingamp', 'ORG: Amiens', 'ORG: Charleroi', 'ORG: Lokeren', 'PER: Antoine Kombouaré', 'ORG: UNFP', 'ORG: Sedan'], ['PER: Ernst Vettori', 'PER: Richard Schallert', 'PER: Franz Neuländtner', 'PER: Andreas Felder']]}\n"
     ]
    }
   ],
   "source": [
    "from datasets import load_dataset\n",
    "\n",
    "# load dataset \n",
    "dataset = load_dataset('unimelb-nlp/wikiann', 'fr')\n",
    "\n",
    "# show structure (first 5 entries of training set)\n",
    "print(dataset['train'][:5])"
   ]
  },
  {
   "cell_type": "code",
   "execution_count": 7,
   "id": "9480497f-6042-4501-b384-3ba6a890a642",
   "metadata": {},
   "outputs": [
    {
     "data": {
      "text/html": [
       "<div>\n",
       "<style scoped>\n",
       "    .dataframe tbody tr th:only-of-type {\n",
       "        vertical-align: middle;\n",
       "    }\n",
       "\n",
       "    .dataframe tbody tr th {\n",
       "        vertical-align: top;\n",
       "    }\n",
       "\n",
       "    .dataframe thead th {\n",
       "        text-align: right;\n",
       "    }\n",
       "</style>\n",
       "<table border=\"1\" class=\"dataframe\">\n",
       "  <thead>\n",
       "    <tr style=\"text-align: right;\">\n",
       "      <th></th>\n",
       "      <th>tokens</th>\n",
       "      <th>ner_tags</th>\n",
       "      <th>langs</th>\n",
       "      <th>spans</th>\n",
       "    </tr>\n",
       "  </thead>\n",
       "  <tbody>\n",
       "    <tr>\n",
       "      <th>0</th>\n",
       "      <td>[Saxifrage, faux, Orpin]</td>\n",
       "      <td>[5, 6, 6]</td>\n",
       "      <td>[fr, fr, fr]</td>\n",
       "      <td>[LOC: Saxifrage faux Orpin]</td>\n",
       "    </tr>\n",
       "    <tr>\n",
       "      <th>1</th>\n",
       "      <td>[REDIRECTION, The, Lady, of, Rage]</td>\n",
       "      <td>[0, 1, 2, 2, 2]</td>\n",
       "      <td>[fr, fr, fr, fr, fr]</td>\n",
       "      <td>[PER: The Lady of Rage]</td>\n",
       "    </tr>\n",
       "    <tr>\n",
       "      <th>2</th>\n",
       "      <td>[Parti, libéral, du, Québec]</td>\n",
       "      <td>[3, 4, 4, 4]</td>\n",
       "      <td>[fr, fr, fr, fr]</td>\n",
       "      <td>[ORG: Parti libéral du Québec]</td>\n",
       "    </tr>\n",
       "    <tr>\n",
       "      <th>3</th>\n",
       "      <td>[Après, deux, nuls, (, Guingamp, et, Amiens, )...</td>\n",
       "      <td>[0, 0, 0, 0, 3, 0, 3, 0, 0, 0, 0, 0, 3, 0, 3, ...</td>\n",
       "      <td>[fr, fr, fr, fr, fr, fr, fr, fr, fr, fr, fr, f...</td>\n",
       "      <td>[ORG: Guingamp, ORG: Amiens, ORG: Charleroi, O...</td>\n",
       "    </tr>\n",
       "    <tr>\n",
       "      <th>4</th>\n",
       "      <td>[Ernst, Vettori, Richard, Schallert, Franz, Ne...</td>\n",
       "      <td>[1, 2, 1, 2, 1, 2, 1, 2]</td>\n",
       "      <td>[fr, fr, fr, fr, fr, fr, fr, fr]</td>\n",
       "      <td>[PER: Ernst Vettori, PER: Richard Schallert, P...</td>\n",
       "    </tr>\n",
       "  </tbody>\n",
       "</table>\n",
       "</div>"
      ],
      "text/plain": [
       "                                              tokens  \\\n",
       "0                           [Saxifrage, faux, Orpin]   \n",
       "1                 [REDIRECTION, The, Lady, of, Rage]   \n",
       "2                       [Parti, libéral, du, Québec]   \n",
       "3  [Après, deux, nuls, (, Guingamp, et, Amiens, )...   \n",
       "4  [Ernst, Vettori, Richard, Schallert, Franz, Ne...   \n",
       "\n",
       "                                            ner_tags  \\\n",
       "0                                          [5, 6, 6]   \n",
       "1                                    [0, 1, 2, 2, 2]   \n",
       "2                                       [3, 4, 4, 4]   \n",
       "3  [0, 0, 0, 0, 3, 0, 3, 0, 0, 0, 0, 0, 3, 0, 3, ...   \n",
       "4                           [1, 2, 1, 2, 1, 2, 1, 2]   \n",
       "\n",
       "                                               langs  \\\n",
       "0                                       [fr, fr, fr]   \n",
       "1                               [fr, fr, fr, fr, fr]   \n",
       "2                                   [fr, fr, fr, fr]   \n",
       "3  [fr, fr, fr, fr, fr, fr, fr, fr, fr, fr, fr, f...   \n",
       "4                   [fr, fr, fr, fr, fr, fr, fr, fr]   \n",
       "\n",
       "                                               spans  \n",
       "0                        [LOC: Saxifrage faux Orpin]  \n",
       "1                            [PER: The Lady of Rage]  \n",
       "2                     [ORG: Parti libéral du Québec]  \n",
       "3  [ORG: Guingamp, ORG: Amiens, ORG: Charleroi, O...  \n",
       "4  [PER: Ernst Vettori, PER: Richard Schallert, P...  "
      ]
     },
     "execution_count": 7,
     "metadata": {},
     "output_type": "execute_result"
    }
   ],
   "source": [
    "# Convert the dataset to a pandas DataFrame\n",
    "df = pd.DataFrame(dataset['train']) # Create a DataFrame named df\n",
    "\n",
    "df.head() # Now you can call head() on df\n"
   ]
  },
  {
   "cell_type": "code",
   "execution_count": 5,
   "id": "d69fadf8-8175-4289-a96f-ceddb51b124e",
   "metadata": {},
   "outputs": [
    {
     "name": "stdout",
     "output_type": "stream",
     "text": [
      "<class 'pandas.core.frame.DataFrame'>\n",
      "RangeIndex: 20000 entries, 0 to 19999\n",
      "Data columns (total 4 columns):\n",
      " #   Column    Non-Null Count  Dtype \n",
      "---  ------    --------------  ----- \n",
      " 0   tokens    20000 non-null  object\n",
      " 1   ner_tags  20000 non-null  object\n",
      " 2   langs     20000 non-null  object\n",
      " 3   spans     20000 non-null  object\n",
      "dtypes: object(4)\n",
      "memory usage: 625.1+ KB\n"
     ]
    }
   ],
   "source": [
    "df.info()"
   ]
  },
  {
   "cell_type": "code",
   "execution_count": 6,
   "id": "9f35e322-f65c-4175-bbc8-47f1e5f6b1e3",
   "metadata": {},
   "outputs": [
    {
     "data": {
      "text/html": [
       "<div>\n",
       "<style scoped>\n",
       "    .dataframe tbody tr th:only-of-type {\n",
       "        vertical-align: middle;\n",
       "    }\n",
       "\n",
       "    .dataframe tbody tr th {\n",
       "        vertical-align: top;\n",
       "    }\n",
       "\n",
       "    .dataframe thead th {\n",
       "        text-align: right;\n",
       "    }\n",
       "</style>\n",
       "<table border=\"1\" class=\"dataframe\">\n",
       "  <thead>\n",
       "    <tr style=\"text-align: right;\">\n",
       "      <th></th>\n",
       "      <th>tokens</th>\n",
       "      <th>ner_tags</th>\n",
       "      <th>langs</th>\n",
       "      <th>spans</th>\n",
       "    </tr>\n",
       "  </thead>\n",
       "  <tbody>\n",
       "    <tr>\n",
       "      <th>count</th>\n",
       "      <td>20000</td>\n",
       "      <td>20000</td>\n",
       "      <td>20000</td>\n",
       "      <td>20000</td>\n",
       "    </tr>\n",
       "    <tr>\n",
       "      <th>unique</th>\n",
       "      <td>18111</td>\n",
       "      <td>2981</td>\n",
       "      <td>51</td>\n",
       "      <td>17255</td>\n",
       "    </tr>\n",
       "    <tr>\n",
       "      <th>top</th>\n",
       "      <td>[', '', Honda, '', ']</td>\n",
       "      <td>[0, 0, 1, 2, 0, 0]</td>\n",
       "      <td>[fr, fr, fr, fr, fr]</td>\n",
       "      <td>[ORG: Honda]</td>\n",
       "    </tr>\n",
       "    <tr>\n",
       "      <th>freq</th>\n",
       "      <td>94</td>\n",
       "      <td>1187</td>\n",
       "      <td>4969</td>\n",
       "      <td>94</td>\n",
       "    </tr>\n",
       "  </tbody>\n",
       "</table>\n",
       "</div>"
      ],
      "text/plain": [
       "                       tokens            ner_tags                 langs  \\\n",
       "count                   20000               20000                 20000   \n",
       "unique                  18111                2981                    51   \n",
       "top     [', '', Honda, '', ']  [0, 0, 1, 2, 0, 0]  [fr, fr, fr, fr, fr]   \n",
       "freq                       94                1187                  4969   \n",
       "\n",
       "               spans  \n",
       "count          20000  \n",
       "unique         17255  \n",
       "top     [ORG: Honda]  \n",
       "freq              94  "
      ]
     },
     "execution_count": 6,
     "metadata": {},
     "output_type": "execute_result"
    }
   ],
   "source": [
    "df.describe()"
   ]
  },
  {
   "cell_type": "code",
   "execution_count": 8,
   "id": "8f33bd9b-69aa-42f5-bbe3-71634ea73a7d",
   "metadata": {},
   "outputs": [
    {
     "data": {
      "text/plain": [
       "Index(['tokens', 'ner_tags', 'langs', 'spans'], dtype='object')"
      ]
     },
     "execution_count": 8,
     "metadata": {},
     "output_type": "execute_result"
    }
   ],
   "source": [
    "df.columns"
   ]
  },
  {
   "cell_type": "code",
   "execution_count": 9,
   "id": "fdd78a99-a589-44d0-abd7-301f5ddabf47",
   "metadata": {},
   "outputs": [
    {
     "name": "stdout",
     "output_type": "stream",
     "text": [
      "ner_tags\n",
      "[0, 0, 1, 2, 0, 0]                            1187\n",
      "[3, 4, 4, 4]                                   750\n",
      "[1, 2, 0, 0, 0]                                732\n",
      "[3, 4, 4, 4, 4]                                679\n",
      "[5, 6, 6, 6]                                   645\n",
      "                                              ... \n",
      "[0, 0, 0, 0, 0, 0, 0, 0, 0, 5, 0, 3, 4, 0]       1\n",
      "[0, 3, 0, 0, 1]                                  1\n",
      "[3, 4, 4, 0, 0, 0, 5, 0]                         1\n",
      "[0, 5, 0, 0, 5, 0, 0]                            1\n",
      "[0, 0, 0, 0, 0, 0, 1, 2, 0, 0, 0, 0, 0, 0]       1\n",
      "Name: count, Length: 2981, dtype: int64\n"
     ]
    }
   ],
   "source": [
    "# Examine entity distribution to show distribution of different entity types in the dataset:\n",
    "entity_counts = df['ner_tags'].value_counts()\n",
    "print(entity_counts)"
   ]
  },
  {
   "cell_type": "code",
   "execution_count": 10,
   "id": "2f605375-495a-42f4-bd17-0dad3afa513b",
   "metadata": {},
   "outputs": [
    {
     "name": "stdout",
     "output_type": "stream",
     "text": [
      "ner_tags\n",
      "[0, 0, 1, 2, 0, 0]                            5.935\n",
      "[3, 4, 4, 4]                                  3.750\n",
      "[1, 2, 0, 0, 0]                               3.660\n",
      "[3, 4, 4, 4, 4]                               3.395\n",
      "[5, 6, 6, 6]                                  3.225\n",
      "                                              ...  \n",
      "[0, 0, 0, 0, 0, 0, 0, 0, 0, 5, 0, 3, 4, 0]    0.005\n",
      "[0, 3, 0, 0, 1]                               0.005\n",
      "[3, 4, 4, 0, 0, 0, 5, 0]                      0.005\n",
      "[0, 5, 0, 0, 5, 0, 0]                         0.005\n",
      "[0, 0, 0, 0, 0, 0, 1, 2, 0, 0, 0, 0, 0, 0]    0.005\n",
      "Name: count, Length: 2981, dtype: float64\n"
     ]
    }
   ],
   "source": [
    "# Check for class imbalance to identify if certain entity types are underrepresented:\n",
    "entity_percentages = (entity_counts / len(df)) * 100\n",
    "print(entity_percentages)\n"
   ]
  },
  {
   "cell_type": "code",
   "execution_count": 11,
   "id": "a10a9684-7c44-495e-a815-eedc8dd8e801",
   "metadata": {},
   "outputs": [
    {
     "name": "stdout",
     "output_type": "stream",
     "text": [
      "count    136788.000000\n",
      "mean          4.504364\n",
      "std           3.455997\n",
      "min           1.000000\n",
      "25%           2.000000\n",
      "50%           4.000000\n",
      "75%           7.000000\n",
      "max          40.000000\n",
      "dtype: float64\n"
     ]
    }
   ],
   "source": [
    "# Analyze token length distribution to provide insights into the length of the individual tokens (words) in the dataset:\n",
    "df['token_lengths'] = df['tokens'].apply(lambda x: [len(token) for token in x])\n",
    "token_lengths = [length for lengths in df['token_lengths'] for length in lengths]\n",
    "print(pd.Series(token_lengths).describe())\n",
    "# count: total, mean: average length, std: standard deviation in characters, min: shortest token, max: longest token, %: percentage of tokens"
   ]
  },
  {
   "cell_type": "code",
   "execution_count": 12,
   "id": "2c9247e0-b030-4289-96a2-9f73067b7643",
   "metadata": {},
   "outputs": [],
   "source": [
    "# Visualize the entity distribution in the dataset by creating a horizontal bar plot:\n",
    "# Get the label mapping from the dataset first, wo we can see the labels instead of just the numbers 0-6:\n",
    "label_list = dataset['train'].features['ner_tags'].feature.names\n",
    "label_mapping = {i: label for i, label in enumerate(label_list)}"
   ]
  },
  {
   "cell_type": "code",
   "execution_count": 13,
   "id": "222b4cd4-21ae-49ce-8f7a-0a220cd558cf",
   "metadata": {},
   "outputs": [
    {
     "data": {
      "image/png": "[encoded data removed]",
      "text/plain": [
       "<Figure size 1200x600 with 1 Axes>"
      ]
     },
     "metadata": {},
     "output_type": "display_data"
    }
   ],
   "source": [
    "import matplotlib.pyplot as plt\n",
    "import seaborn as sns\n",
    "\n",
    "# Count the occurrences of each entity type\n",
    "entity_counts = df['ner_tags'].apply(lambda x: [tag for tag in x if tag != 0]).explode().value_counts()\n",
    "\n",
    "# Map numeric encodings to actual entity labels\n",
    "entity_counts_labeled = entity_counts.rename(index=label_mapping)\n",
    "\n",
    "# Create a horizontal bar plot\n",
    "plt.figure(figsize=(12, 6))\n",
    "sns.barplot(x=entity_counts_labeled.values, y=entity_counts_labeled.index, orient='h')\n",
    "\n",
    "# Customize the plot\n",
    "plt.title('Entity Type Distribution')\n",
    "plt.xlabel('Count')\n",
    "plt.ylabel('Entity Type')\n",
    "\n",
    "# Add count labels to the end of each bar\n",
    "for i, v in enumerate(entity_counts_labeled.values):\n",
    "    plt.text(v + 0.1, i, str(v), va='center')\n",
    "\n",
    "# Adjust layout and display the plot\n",
    "plt.tight_layout()\n",
    "plt.show()"
   ]
  },
  {
   "cell_type": "code",
   "execution_count": 14,
   "id": "eb60de87-8461-468d-8e05-496843cbedcb",
   "metadata": {},
   "outputs": [
    {
     "data": {
      "image/png": "[encoded data removed]",
      "text/plain": [
       "<Figure size 1200x600 with 1 Axes>"
      ]
     },
     "metadata": {},
     "output_type": "display_data"
    }
   ],
   "source": [
    "# alternative Darstellung :)\n",
    "import matplotlib.pyplot as plt\n",
    "import seaborn as sns\n",
    "\n",
    "# First, let's create a mapping from numeric codes to entity labels\n",
    "label_list = dataset['train'].features['ner_tags'].feature.names\n",
    "label_mapping = {i: label for i, label in enumerate(label_list)}\n",
    "\n",
    "# Now, let's map the entity counts to their actual labels\n",
    "entity_counts_labeled = entity_counts.rename(index=label_mapping)\n",
    "\n",
    "plt.figure(figsize=(12, 6))\n",
    "\n",
    "# Use seaborn's color palette for distinct colors\n",
    "colors = sns.color_palette(\"husl\", len(entity_counts_labeled))\n",
    "\n",
    "# Create the bar plot with different colors\n",
    "bars = plt.bar(entity_counts_labeled.index, entity_counts_labeled.values, color=colors)\n",
    "\n",
    "plt.title('Entity Type Distribution')\n",
    "plt.xlabel('Entity Type')\n",
    "plt.ylabel('Count')\n",
    "\n",
    "# Rotate x-axis labels for better readability\n",
    "plt.xticks(rotation=45, ha='right')\n",
    "\n",
    "# Add value labels on top of each bar\n",
    "for bar in bars:\n",
    "    height = bar.get_height()\n",
    "    plt.text(bar.get_x() + bar.get_width()/2., height,\n",
    "             f'{height}',\n",
    "             ha='center', va='bottom')\n",
    "\n",
    "plt.tight_layout()\n",
    "plt.show()"
   ]
  },
  {
   "cell_type": "code",
   "execution_count": 15,
   "id": "773317ee-947c-4b7e-acfb-6312ca662df6",
   "metadata": {},
   "outputs": [
    {
     "name": "stdout",
     "output_type": "stream",
     "text": [
      "tokens           0\n",
      "ner_tags         0\n",
      "langs            0\n",
      "spans            0\n",
      "token_lengths    0\n",
      "dtype: int64\n"
     ]
    }
   ],
   "source": [
    "# Check for missing values to identify missing data in the dataset:\n",
    "print(df.isnull().sum())"
   ]
  },
  {
   "cell_type": "code",
   "execution_count": 16,
   "id": "df050606-89b5-483e-ab12-db16d322eec2",
   "metadata": {},
   "outputs": [
    {
     "name": "stdout",
     "output_type": "stream",
     "text": [
      "Number of unique tokens: 30845\n"
     ]
    }
   ],
   "source": [
    "# Examine unique tokens to give me an idea of the vocabulary size in the dataset:\n",
    "unique_tokens = set([token for tokens in df['tokens'] for token in tokens])\n",
    "print(f\"Number of unique tokens: {len(unique_tokens)}\")"
   ]
  },
  {
   "cell_type": "code",
   "execution_count": 17,
   "id": "8cc38fde-3a58-41d9-8811-6225a109dab3",
   "metadata": {},
   "outputs": [
    {
     "name": "stdout",
     "output_type": "stream",
     "text": [
      "count    20000.000000\n",
      "mean         6.839400\n",
      "std          4.261281\n",
      "min          3.000000\n",
      "25%          5.000000\n",
      "50%          6.000000\n",
      "75%          7.000000\n",
      "max        187.000000\n",
      "Name: sentence_length, dtype: float64\n"
     ]
    }
   ],
   "source": [
    "# Analyze sentence length distribution to get insight on the length of sentences in the dataset:\n",
    "df['sentence_length'] = df['tokens'].apply(lambda x: len(x))\n",
    "print(df['sentence_length'].describe())\n"
   ]
  },
  {
   "cell_type": "code",
   "execution_count": null,
   "id": "96d526bc-9aa7-44e7-8ae2-1e0a7ace3f6f",
   "metadata": {},
   "outputs": [],
   "source": []
  }
 ],
 "metadata": {
  "kernelspec": {
   "display_name": "Python 3 (ipykernel)",
   "language": "python",
   "name": "python3"
  },
  "language_info": {
   "codemirror_mode": {
    "name": "ipython",
    "version": 3
   },
   "file_extension": ".py",
   "mimetype": "text/x-python",
   "name": "python",
   "nbconvert_exporter": "python",
   "pygments_lexer": "ipython3",
   "version": "3.11.7"
  }
 },
 "nbformat": 4,
 "nbformat_minor": 5
}
